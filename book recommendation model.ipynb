{
 "cells": [
  {
   "cell_type": "code",
   "execution_count": 1,
   "id": "f848fdb6",
   "metadata": {
    "ExecuteTime": {
     "end_time": "2022-11-09T14:24:03.486727Z",
     "start_time": "2022-11-09T14:23:52.104415Z"
    }
   },
   "outputs": [],
   "source": [
    "#Import Required Libraries\n",
    "\n",
    "import pandas as pd\n",
    "import numpy as np\n",
    "import matplotlib.pyplot as plt\n",
    "import seaborn as sns\n",
    "import re\n",
    "import sklearn\n",
    "from sklearn.metrics import pairwise_distances\n",
    "from sklearn.metrics.pairwise import cosine_similarity\n",
    "\n",
    "\n",
    "import warnings\n",
    "warnings.filterwarnings('ignore')"
   ]
  },
  {
   "cell_type": "code",
   "execution_count": 2,
   "id": "ab347282",
   "metadata": {
    "ExecuteTime": {
     "end_time": "2022-11-09T14:24:13.346754Z",
     "start_time": "2022-11-09T14:24:03.492891Z"
    }
   },
   "outputs": [],
   "source": [
    "#Import Data\n",
    "\n",
    "books=pd.read_csv('Booksss.csv')\n",
    "ratings=pd.read_csv(\"Book-Ratings.csv\" ,  encoding = 'latin-1' , error_bad_lines = False , sep = \";\")\n",
    "users=pd.read_csv('Usersss.csv')"
   ]
  },
  {
   "cell_type": "code",
   "execution_count": 3,
   "id": "3aec44aa",
   "metadata": {
    "ExecuteTime": {
     "end_time": "2022-11-09T14:24:13.453744Z",
     "start_time": "2022-11-09T14:24:13.357900Z"
    }
   },
   "outputs": [
    {
     "data": {
      "text/html": [
       "<div>\n",
       "<style scoped>\n",
       "    .dataframe tbody tr th:only-of-type {\n",
       "        vertical-align: middle;\n",
       "    }\n",
       "\n",
       "    .dataframe tbody tr th {\n",
       "        vertical-align: top;\n",
       "    }\n",
       "\n",
       "    .dataframe thead th {\n",
       "        text-align: right;\n",
       "    }\n",
       "</style>\n",
       "<table border=\"1\" class=\"dataframe\">\n",
       "  <thead>\n",
       "    <tr style=\"text-align: right;\">\n",
       "      <th></th>\n",
       "      <th>ISBN</th>\n",
       "      <th>Book-Title</th>\n",
       "      <th>Book-Author</th>\n",
       "      <th>Year-Of-Publication</th>\n",
       "      <th>Publisher</th>\n",
       "      <th>Image-URL-S</th>\n",
       "      <th>Image-URL-M</th>\n",
       "      <th>Image-URL-L</th>\n",
       "    </tr>\n",
       "  </thead>\n",
       "  <tbody>\n",
       "    <tr>\n",
       "      <th>0</th>\n",
       "      <td>0195153448</td>\n",
       "      <td>Classical Mythology</td>\n",
       "      <td>Mark P. O. Morford</td>\n",
       "      <td>2002</td>\n",
       "      <td>Oxford University Press</td>\n",
       "      <td>http://images.amazon.com/images/P/0195153448.0...</td>\n",
       "      <td>http://images.amazon.com/images/P/0195153448.0...</td>\n",
       "      <td>http://images.amazon.com/images/P/0195153448.0...</td>\n",
       "    </tr>\n",
       "    <tr>\n",
       "      <th>1</th>\n",
       "      <td>0002005018</td>\n",
       "      <td>Clara Callan</td>\n",
       "      <td>Richard Bruce Wright</td>\n",
       "      <td>2001</td>\n",
       "      <td>HarperFlamingo Canada</td>\n",
       "      <td>http://images.amazon.com/images/P/0002005018.0...</td>\n",
       "      <td>http://images.amazon.com/images/P/0002005018.0...</td>\n",
       "      <td>http://images.amazon.com/images/P/0002005018.0...</td>\n",
       "    </tr>\n",
       "    <tr>\n",
       "      <th>2</th>\n",
       "      <td>0060973129</td>\n",
       "      <td>Decision in Normandy</td>\n",
       "      <td>Carlo D'Este</td>\n",
       "      <td>1991</td>\n",
       "      <td>HarperPerennial</td>\n",
       "      <td>http://images.amazon.com/images/P/0060973129.0...</td>\n",
       "      <td>http://images.amazon.com/images/P/0060973129.0...</td>\n",
       "      <td>http://images.amazon.com/images/P/0060973129.0...</td>\n",
       "    </tr>\n",
       "    <tr>\n",
       "      <th>3</th>\n",
       "      <td>0374157065</td>\n",
       "      <td>Flu: The Story of the Great Influenza Pandemic...</td>\n",
       "      <td>Gina Bari Kolata</td>\n",
       "      <td>1999</td>\n",
       "      <td>Farrar Straus Giroux</td>\n",
       "      <td>http://images.amazon.com/images/P/0374157065.0...</td>\n",
       "      <td>http://images.amazon.com/images/P/0374157065.0...</td>\n",
       "      <td>http://images.amazon.com/images/P/0374157065.0...</td>\n",
       "    </tr>\n",
       "    <tr>\n",
       "      <th>4</th>\n",
       "      <td>0393045218</td>\n",
       "      <td>The Mummies of Urumchi</td>\n",
       "      <td>E. J. W. Barber</td>\n",
       "      <td>1999</td>\n",
       "      <td>W. W. Norton &amp;amp; Company</td>\n",
       "      <td>http://images.amazon.com/images/P/0393045218.0...</td>\n",
       "      <td>http://images.amazon.com/images/P/0393045218.0...</td>\n",
       "      <td>http://images.amazon.com/images/P/0393045218.0...</td>\n",
       "    </tr>\n",
       "  </tbody>\n",
       "</table>\n",
       "</div>"
      ],
      "text/plain": [
       "         ISBN                                         Book-Title  \\\n",
       "0  0195153448                                Classical Mythology   \n",
       "1  0002005018                                       Clara Callan   \n",
       "2  0060973129                               Decision in Normandy   \n",
       "3  0374157065  Flu: The Story of the Great Influenza Pandemic...   \n",
       "4  0393045218                             The Mummies of Urumchi   \n",
       "\n",
       "            Book-Author Year-Of-Publication                   Publisher  \\\n",
       "0    Mark P. O. Morford                2002     Oxford University Press   \n",
       "1  Richard Bruce Wright                2001       HarperFlamingo Canada   \n",
       "2          Carlo D'Este                1991             HarperPerennial   \n",
       "3      Gina Bari Kolata                1999        Farrar Straus Giroux   \n",
       "4       E. J. W. Barber                1999  W. W. Norton &amp; Company   \n",
       "\n",
       "                                         Image-URL-S  \\\n",
       "0  http://images.amazon.com/images/P/0195153448.0...   \n",
       "1  http://images.amazon.com/images/P/0002005018.0...   \n",
       "2  http://images.amazon.com/images/P/0060973129.0...   \n",
       "3  http://images.amazon.com/images/P/0374157065.0...   \n",
       "4  http://images.amazon.com/images/P/0393045218.0...   \n",
       "\n",
       "                                         Image-URL-M  \\\n",
       "0  http://images.amazon.com/images/P/0195153448.0...   \n",
       "1  http://images.amazon.com/images/P/0002005018.0...   \n",
       "2  http://images.amazon.com/images/P/0060973129.0...   \n",
       "3  http://images.amazon.com/images/P/0374157065.0...   \n",
       "4  http://images.amazon.com/images/P/0393045218.0...   \n",
       "\n",
       "                                         Image-URL-L  \n",
       "0  http://images.amazon.com/images/P/0195153448.0...  \n",
       "1  http://images.amazon.com/images/P/0002005018.0...  \n",
       "2  http://images.amazon.com/images/P/0060973129.0...  \n",
       "3  http://images.amazon.com/images/P/0374157065.0...  \n",
       "4  http://images.amazon.com/images/P/0393045218.0...  "
      ]
     },
     "execution_count": 3,
     "metadata": {},
     "output_type": "execute_result"
    }
   ],
   "source": [
    "books.head()"
   ]
  },
  {
   "cell_type": "code",
   "execution_count": 4,
   "id": "866decd3",
   "metadata": {
    "ExecuteTime": {
     "end_time": "2022-11-09T14:24:13.501660Z",
     "start_time": "2022-11-09T14:24:13.460735Z"
    }
   },
   "outputs": [
    {
     "data": {
      "text/html": [
       "<div>\n",
       "<style scoped>\n",
       "    .dataframe tbody tr th:only-of-type {\n",
       "        vertical-align: middle;\n",
       "    }\n",
       "\n",
       "    .dataframe tbody tr th {\n",
       "        vertical-align: top;\n",
       "    }\n",
       "\n",
       "    .dataframe thead th {\n",
       "        text-align: right;\n",
       "    }\n",
       "</style>\n",
       "<table border=\"1\" class=\"dataframe\">\n",
       "  <thead>\n",
       "    <tr style=\"text-align: right;\">\n",
       "      <th></th>\n",
       "      <th>User-ID</th>\n",
       "      <th>ISBN</th>\n",
       "      <th>Book-Rating</th>\n",
       "    </tr>\n",
       "  </thead>\n",
       "  <tbody>\n",
       "    <tr>\n",
       "      <th>0</th>\n",
       "      <td>276725</td>\n",
       "      <td>034545104X</td>\n",
       "      <td>0</td>\n",
       "    </tr>\n",
       "    <tr>\n",
       "      <th>1</th>\n",
       "      <td>276726</td>\n",
       "      <td>0155061224</td>\n",
       "      <td>5</td>\n",
       "    </tr>\n",
       "    <tr>\n",
       "      <th>2</th>\n",
       "      <td>276727</td>\n",
       "      <td>0446520802</td>\n",
       "      <td>0</td>\n",
       "    </tr>\n",
       "    <tr>\n",
       "      <th>3</th>\n",
       "      <td>276729</td>\n",
       "      <td>052165615X</td>\n",
       "      <td>3</td>\n",
       "    </tr>\n",
       "    <tr>\n",
       "      <th>4</th>\n",
       "      <td>276729</td>\n",
       "      <td>0521795028</td>\n",
       "      <td>6</td>\n",
       "    </tr>\n",
       "  </tbody>\n",
       "</table>\n",
       "</div>"
      ],
      "text/plain": [
       "   User-ID        ISBN  Book-Rating\n",
       "0   276725  034545104X            0\n",
       "1   276726  0155061224            5\n",
       "2   276727  0446520802            0\n",
       "3   276729  052165615X            3\n",
       "4   276729  0521795028            6"
      ]
     },
     "execution_count": 4,
     "metadata": {},
     "output_type": "execute_result"
    }
   ],
   "source": [
    "ratings.head()"
   ]
  },
  {
   "cell_type": "code",
   "execution_count": 5,
   "id": "246ec193",
   "metadata": {
    "ExecuteTime": {
     "end_time": "2022-11-09T14:24:13.549585Z",
     "start_time": "2022-11-09T14:24:13.508653Z"
    }
   },
   "outputs": [
    {
     "data": {
      "text/html": [
       "<div>\n",
       "<style scoped>\n",
       "    .dataframe tbody tr th:only-of-type {\n",
       "        vertical-align: middle;\n",
       "    }\n",
       "\n",
       "    .dataframe tbody tr th {\n",
       "        vertical-align: top;\n",
       "    }\n",
       "\n",
       "    .dataframe thead th {\n",
       "        text-align: right;\n",
       "    }\n",
       "</style>\n",
       "<table border=\"1\" class=\"dataframe\">\n",
       "  <thead>\n",
       "    <tr style=\"text-align: right;\">\n",
       "      <th></th>\n",
       "      <th>User-ID</th>\n",
       "      <th>Location</th>\n",
       "      <th>Age</th>\n",
       "    </tr>\n",
       "  </thead>\n",
       "  <tbody>\n",
       "    <tr>\n",
       "      <th>0</th>\n",
       "      <td>1</td>\n",
       "      <td>nyc, new york, usa</td>\n",
       "      <td>NaN</td>\n",
       "    </tr>\n",
       "    <tr>\n",
       "      <th>1</th>\n",
       "      <td>2</td>\n",
       "      <td>stockton, california, usa</td>\n",
       "      <td>18.0</td>\n",
       "    </tr>\n",
       "    <tr>\n",
       "      <th>2</th>\n",
       "      <td>3</td>\n",
       "      <td>moscow, yukon territory, russia</td>\n",
       "      <td>NaN</td>\n",
       "    </tr>\n",
       "    <tr>\n",
       "      <th>3</th>\n",
       "      <td>4</td>\n",
       "      <td>porto, v.n.gaia, portugal</td>\n",
       "      <td>17.0</td>\n",
       "    </tr>\n",
       "    <tr>\n",
       "      <th>4</th>\n",
       "      <td>5</td>\n",
       "      <td>farnborough, hants, united kingdom</td>\n",
       "      <td>NaN</td>\n",
       "    </tr>\n",
       "  </tbody>\n",
       "</table>\n",
       "</div>"
      ],
      "text/plain": [
       "   User-ID                            Location   Age\n",
       "0        1                  nyc, new york, usa   NaN\n",
       "1        2           stockton, california, usa  18.0\n",
       "2        3     moscow, yukon territory, russia   NaN\n",
       "3        4           porto, v.n.gaia, portugal  17.0\n",
       "4        5  farnborough, hants, united kingdom   NaN"
      ]
     },
     "execution_count": 5,
     "metadata": {},
     "output_type": "execute_result"
    }
   ],
   "source": [
    "users.head()"
   ]
  },
  {
   "cell_type": "code",
   "execution_count": 6,
   "id": "597dbdf2",
   "metadata": {
    "ExecuteTime": {
     "end_time": "2022-11-09T14:24:13.597517Z",
     "start_time": "2022-11-09T14:24:13.559578Z"
    }
   },
   "outputs": [
    {
     "name": "stdout",
     "output_type": "stream",
     "text": [
      "Shape of the Books :  (271360, 8)\n",
      "Shape of the Ratings :  (1149780, 3)\n",
      "Shape of the Users :  (278858, 3)\n"
     ]
    }
   ],
   "source": [
    "print(\"Shape of the Books : \",books.shape)\n",
    "print(\"Shape of the Ratings : \",ratings.shape)\n",
    "print(\"Shape of the Users : \",users.shape)"
   ]
  },
  {
   "cell_type": "code",
   "execution_count": 7,
   "id": "a03bd8da",
   "metadata": {
    "ExecuteTime": {
     "end_time": "2022-11-09T14:24:13.644443Z",
     "start_time": "2022-11-09T14:24:13.605505Z"
    }
   },
   "outputs": [
    {
     "name": "stdout",
     "output_type": "stream",
     "text": [
      "Data Type for Books :\n",
      " ISBN                   object\n",
      "Book-Title             object\n",
      "Book-Author            object\n",
      "Year-Of-Publication    object\n",
      "Publisher              object\n",
      "Image-URL-S            object\n",
      "Image-URL-M            object\n",
      "Image-URL-L            object\n",
      "dtype: object\n",
      "\n",
      "Data Type for Ratings :\n",
      " User-ID         int64\n",
      "ISBN           object\n",
      "Book-Rating     int64\n",
      "dtype: object\n",
      "\n",
      "Data Type for Users :\n",
      " User-ID       int64\n",
      "Location     object\n",
      "Age         float64\n",
      "dtype: object\n"
     ]
    }
   ],
   "source": [
    "print(\"Data Type for Books :\\n\",books.dtypes)\n",
    "print(\"\\nData Type for Ratings :\\n\",ratings.dtypes)\n",
    "print(\"\\nData Type for Users :\\n\",users.dtypes)"
   ]
  },
  {
   "cell_type": "code",
   "execution_count": 8,
   "id": "2ccf0e2f",
   "metadata": {
    "ExecuteTime": {
     "end_time": "2022-11-09T14:24:15.736691Z",
     "start_time": "2022-11-09T14:24:13.659417Z"
    }
   },
   "outputs": [
    {
     "data": {
      "text/html": [
       "<div>\n",
       "<style scoped>\n",
       "    .dataframe tbody tr th:only-of-type {\n",
       "        vertical-align: middle;\n",
       "    }\n",
       "\n",
       "    .dataframe tbody tr th {\n",
       "        vertical-align: top;\n",
       "    }\n",
       "\n",
       "    .dataframe thead th {\n",
       "        text-align: right;\n",
       "    }\n",
       "</style>\n",
       "<table border=\"1\" class=\"dataframe\">\n",
       "  <thead>\n",
       "    <tr style=\"text-align: right;\">\n",
       "      <th></th>\n",
       "      <th>ISBN</th>\n",
       "      <th>Book-Title</th>\n",
       "      <th>Book-Author</th>\n",
       "      <th>Year-Of-Publication</th>\n",
       "      <th>Publisher</th>\n",
       "      <th>Image-URL-S</th>\n",
       "      <th>Image-URL-M</th>\n",
       "      <th>Image-URL-L</th>\n",
       "    </tr>\n",
       "  </thead>\n",
       "  <tbody>\n",
       "  </tbody>\n",
       "</table>\n",
       "</div>"
      ],
      "text/plain": [
       "Empty DataFrame\n",
       "Columns: [ISBN, Book-Title, Book-Author, Year-Of-Publication, Publisher, Image-URL-S, Image-URL-M, Image-URL-L]\n",
       "Index: []"
      ]
     },
     "execution_count": 8,
     "metadata": {},
     "output_type": "execute_result"
    }
   ],
   "source": [
    "books[books.duplicated()]"
   ]
  },
  {
   "cell_type": "code",
   "execution_count": 9,
   "id": "28191b64",
   "metadata": {
    "ExecuteTime": {
     "end_time": "2022-11-09T14:24:17.345824Z",
     "start_time": "2022-11-09T14:24:15.745685Z"
    }
   },
   "outputs": [
    {
     "data": {
      "text/html": [
       "<div>\n",
       "<style scoped>\n",
       "    .dataframe tbody tr th:only-of-type {\n",
       "        vertical-align: middle;\n",
       "    }\n",
       "\n",
       "    .dataframe tbody tr th {\n",
       "        vertical-align: top;\n",
       "    }\n",
       "\n",
       "    .dataframe thead th {\n",
       "        text-align: right;\n",
       "    }\n",
       "</style>\n",
       "<table border=\"1\" class=\"dataframe\">\n",
       "  <thead>\n",
       "    <tr style=\"text-align: right;\">\n",
       "      <th></th>\n",
       "      <th>User-ID</th>\n",
       "      <th>ISBN</th>\n",
       "      <th>Book-Rating</th>\n",
       "    </tr>\n",
       "  </thead>\n",
       "  <tbody>\n",
       "  </tbody>\n",
       "</table>\n",
       "</div>"
      ],
      "text/plain": [
       "Empty DataFrame\n",
       "Columns: [User-ID, ISBN, Book-Rating]\n",
       "Index: []"
      ]
     },
     "execution_count": 9,
     "metadata": {},
     "output_type": "execute_result"
    }
   ],
   "source": [
    "ratings[ratings.duplicated()]"
   ]
  },
  {
   "cell_type": "code",
   "execution_count": 10,
   "id": "501f5fc1",
   "metadata": {
    "ExecuteTime": {
     "end_time": "2022-11-09T14:24:17.724229Z",
     "start_time": "2022-11-09T14:24:17.357806Z"
    }
   },
   "outputs": [
    {
     "data": {
      "text/html": [
       "<div>\n",
       "<style scoped>\n",
       "    .dataframe tbody tr th:only-of-type {\n",
       "        vertical-align: middle;\n",
       "    }\n",
       "\n",
       "    .dataframe tbody tr th {\n",
       "        vertical-align: top;\n",
       "    }\n",
       "\n",
       "    .dataframe thead th {\n",
       "        text-align: right;\n",
       "    }\n",
       "</style>\n",
       "<table border=\"1\" class=\"dataframe\">\n",
       "  <thead>\n",
       "    <tr style=\"text-align: right;\">\n",
       "      <th></th>\n",
       "      <th>User-ID</th>\n",
       "      <th>Location</th>\n",
       "      <th>Age</th>\n",
       "    </tr>\n",
       "  </thead>\n",
       "  <tbody>\n",
       "  </tbody>\n",
       "</table>\n",
       "</div>"
      ],
      "text/plain": [
       "Empty DataFrame\n",
       "Columns: [User-ID, Location, Age]\n",
       "Index: []"
      ]
     },
     "execution_count": 10,
     "metadata": {},
     "output_type": "execute_result"
    }
   ],
   "source": [
    "users[users.duplicated()]"
   ]
  },
  {
   "cell_type": "code",
   "execution_count": 11,
   "id": "b417a7b0",
   "metadata": {
    "ExecuteTime": {
     "end_time": "2022-11-09T14:24:18.825856Z",
     "start_time": "2022-11-09T14:24:17.735211Z"
    }
   },
   "outputs": [
    {
     "data": {
      "text/html": [
       "<div>\n",
       "<style scoped>\n",
       "    .dataframe tbody tr th:only-of-type {\n",
       "        vertical-align: middle;\n",
       "    }\n",
       "\n",
       "    .dataframe tbody tr th {\n",
       "        vertical-align: top;\n",
       "    }\n",
       "\n",
       "    .dataframe thead th {\n",
       "        text-align: right;\n",
       "    }\n",
       "</style>\n",
       "<table border=\"1\" class=\"dataframe\">\n",
       "  <thead>\n",
       "    <tr style=\"text-align: right;\">\n",
       "      <th></th>\n",
       "      <th>User-ID</th>\n",
       "      <th>Location</th>\n",
       "      <th>Age</th>\n",
       "      <th>ISBN</th>\n",
       "      <th>Book-Rating</th>\n",
       "    </tr>\n",
       "  </thead>\n",
       "  <tbody>\n",
       "    <tr>\n",
       "      <th>0</th>\n",
       "      <td>2</td>\n",
       "      <td>stockton, california, usa</td>\n",
       "      <td>18.0</td>\n",
       "      <td>0195153448</td>\n",
       "      <td>0</td>\n",
       "    </tr>\n",
       "    <tr>\n",
       "      <th>1</th>\n",
       "      <td>7</td>\n",
       "      <td>washington, dc, usa</td>\n",
       "      <td>NaN</td>\n",
       "      <td>034542252</td>\n",
       "      <td>0</td>\n",
       "    </tr>\n",
       "    <tr>\n",
       "      <th>2</th>\n",
       "      <td>8</td>\n",
       "      <td>timmins, ontario, canada</td>\n",
       "      <td>NaN</td>\n",
       "      <td>0002005018</td>\n",
       "      <td>5</td>\n",
       "    </tr>\n",
       "    <tr>\n",
       "      <th>3</th>\n",
       "      <td>8</td>\n",
       "      <td>timmins, ontario, canada</td>\n",
       "      <td>NaN</td>\n",
       "      <td>0060973129</td>\n",
       "      <td>0</td>\n",
       "    </tr>\n",
       "    <tr>\n",
       "      <th>4</th>\n",
       "      <td>8</td>\n",
       "      <td>timmins, ontario, canada</td>\n",
       "      <td>NaN</td>\n",
       "      <td>0374157065</td>\n",
       "      <td>0</td>\n",
       "    </tr>\n",
       "  </tbody>\n",
       "</table>\n",
       "</div>"
      ],
      "text/plain": [
       "   User-ID                   Location   Age        ISBN  Book-Rating\n",
       "0        2  stockton, california, usa  18.0  0195153448            0\n",
       "1        7        washington, dc, usa   NaN   034542252            0\n",
       "2        8   timmins, ontario, canada   NaN  0002005018            5\n",
       "3        8   timmins, ontario, canada   NaN  0060973129            0\n",
       "4        8   timmins, ontario, canada   NaN  0374157065            0"
      ]
     },
     "execution_count": 11,
     "metadata": {},
     "output_type": "execute_result"
    }
   ],
   "source": [
    "#Merging datasets users and ratings based on 'Used-ID'\n",
    "user_rating=pd.merge(users,ratings,on='User-ID')\n",
    "user_rating.head()"
   ]
  },
  {
   "cell_type": "code",
   "execution_count": 12,
   "id": "97487cc2",
   "metadata": {
    "ExecuteTime": {
     "end_time": "2022-11-09T14:24:22.866961Z",
     "start_time": "2022-11-09T14:24:18.833854Z"
    }
   },
   "outputs": [
    {
     "data": {
      "text/html": [
       "<div>\n",
       "<style scoped>\n",
       "    .dataframe tbody tr th:only-of-type {\n",
       "        vertical-align: middle;\n",
       "    }\n",
       "\n",
       "    .dataframe tbody tr th {\n",
       "        vertical-align: top;\n",
       "    }\n",
       "\n",
       "    .dataframe thead th {\n",
       "        text-align: right;\n",
       "    }\n",
       "</style>\n",
       "<table border=\"1\" class=\"dataframe\">\n",
       "  <thead>\n",
       "    <tr style=\"text-align: right;\">\n",
       "      <th></th>\n",
       "      <th>User-ID</th>\n",
       "      <th>Location</th>\n",
       "      <th>Age</th>\n",
       "      <th>ISBN</th>\n",
       "      <th>Book-Rating</th>\n",
       "      <th>Book-Title</th>\n",
       "      <th>Book-Author</th>\n",
       "      <th>Year-Of-Publication</th>\n",
       "      <th>Publisher</th>\n",
       "      <th>Image-URL-S</th>\n",
       "      <th>Image-URL-M</th>\n",
       "      <th>Image-URL-L</th>\n",
       "    </tr>\n",
       "  </thead>\n",
       "  <tbody>\n",
       "    <tr>\n",
       "      <th>0</th>\n",
       "      <td>2</td>\n",
       "      <td>stockton, california, usa</td>\n",
       "      <td>18.0</td>\n",
       "      <td>0195153448</td>\n",
       "      <td>0</td>\n",
       "      <td>Classical Mythology</td>\n",
       "      <td>Mark P. O. Morford</td>\n",
       "      <td>2002</td>\n",
       "      <td>Oxford University Press</td>\n",
       "      <td>http://images.amazon.com/images/P/0195153448.0...</td>\n",
       "      <td>http://images.amazon.com/images/P/0195153448.0...</td>\n",
       "      <td>http://images.amazon.com/images/P/0195153448.0...</td>\n",
       "    </tr>\n",
       "    <tr>\n",
       "      <th>1</th>\n",
       "      <td>8</td>\n",
       "      <td>timmins, ontario, canada</td>\n",
       "      <td>NaN</td>\n",
       "      <td>0002005018</td>\n",
       "      <td>5</td>\n",
       "      <td>Clara Callan</td>\n",
       "      <td>Richard Bruce Wright</td>\n",
       "      <td>2001</td>\n",
       "      <td>HarperFlamingo Canada</td>\n",
       "      <td>http://images.amazon.com/images/P/0002005018.0...</td>\n",
       "      <td>http://images.amazon.com/images/P/0002005018.0...</td>\n",
       "      <td>http://images.amazon.com/images/P/0002005018.0...</td>\n",
       "    </tr>\n",
       "    <tr>\n",
       "      <th>2</th>\n",
       "      <td>11400</td>\n",
       "      <td>ottawa, ontario, canada</td>\n",
       "      <td>49.0</td>\n",
       "      <td>0002005018</td>\n",
       "      <td>0</td>\n",
       "      <td>Clara Callan</td>\n",
       "      <td>Richard Bruce Wright</td>\n",
       "      <td>2001</td>\n",
       "      <td>HarperFlamingo Canada</td>\n",
       "      <td>http://images.amazon.com/images/P/0002005018.0...</td>\n",
       "      <td>http://images.amazon.com/images/P/0002005018.0...</td>\n",
       "      <td>http://images.amazon.com/images/P/0002005018.0...</td>\n",
       "    </tr>\n",
       "    <tr>\n",
       "      <th>3</th>\n",
       "      <td>11676</td>\n",
       "      <td>n/a, n/a, n/a</td>\n",
       "      <td>NaN</td>\n",
       "      <td>0002005018</td>\n",
       "      <td>8</td>\n",
       "      <td>Clara Callan</td>\n",
       "      <td>Richard Bruce Wright</td>\n",
       "      <td>2001</td>\n",
       "      <td>HarperFlamingo Canada</td>\n",
       "      <td>http://images.amazon.com/images/P/0002005018.0...</td>\n",
       "      <td>http://images.amazon.com/images/P/0002005018.0...</td>\n",
       "      <td>http://images.amazon.com/images/P/0002005018.0...</td>\n",
       "    </tr>\n",
       "    <tr>\n",
       "      <th>4</th>\n",
       "      <td>41385</td>\n",
       "      <td>sudbury, ontario, canada</td>\n",
       "      <td>NaN</td>\n",
       "      <td>0002005018</td>\n",
       "      <td>0</td>\n",
       "      <td>Clara Callan</td>\n",
       "      <td>Richard Bruce Wright</td>\n",
       "      <td>2001</td>\n",
       "      <td>HarperFlamingo Canada</td>\n",
       "      <td>http://images.amazon.com/images/P/0002005018.0...</td>\n",
       "      <td>http://images.amazon.com/images/P/0002005018.0...</td>\n",
       "      <td>http://images.amazon.com/images/P/0002005018.0...</td>\n",
       "    </tr>\n",
       "  </tbody>\n",
       "</table>\n",
       "</div>"
      ],
      "text/plain": [
       "   User-ID                   Location   Age        ISBN  Book-Rating  \\\n",
       "0        2  stockton, california, usa  18.0  0195153448            0   \n",
       "1        8   timmins, ontario, canada   NaN  0002005018            5   \n",
       "2    11400    ottawa, ontario, canada  49.0  0002005018            0   \n",
       "3    11676              n/a, n/a, n/a   NaN  0002005018            8   \n",
       "4    41385   sudbury, ontario, canada   NaN  0002005018            0   \n",
       "\n",
       "            Book-Title           Book-Author Year-Of-Publication  \\\n",
       "0  Classical Mythology    Mark P. O. Morford                2002   \n",
       "1         Clara Callan  Richard Bruce Wright                2001   \n",
       "2         Clara Callan  Richard Bruce Wright                2001   \n",
       "3         Clara Callan  Richard Bruce Wright                2001   \n",
       "4         Clara Callan  Richard Bruce Wright                2001   \n",
       "\n",
       "                 Publisher                                        Image-URL-S  \\\n",
       "0  Oxford University Press  http://images.amazon.com/images/P/0195153448.0...   \n",
       "1    HarperFlamingo Canada  http://images.amazon.com/images/P/0002005018.0...   \n",
       "2    HarperFlamingo Canada  http://images.amazon.com/images/P/0002005018.0...   \n",
       "3    HarperFlamingo Canada  http://images.amazon.com/images/P/0002005018.0...   \n",
       "4    HarperFlamingo Canada  http://images.amazon.com/images/P/0002005018.0...   \n",
       "\n",
       "                                         Image-URL-M  \\\n",
       "0  http://images.amazon.com/images/P/0195153448.0...   \n",
       "1  http://images.amazon.com/images/P/0002005018.0...   \n",
       "2  http://images.amazon.com/images/P/0002005018.0...   \n",
       "3  http://images.amazon.com/images/P/0002005018.0...   \n",
       "4  http://images.amazon.com/images/P/0002005018.0...   \n",
       "\n",
       "                                         Image-URL-L  \n",
       "0  http://images.amazon.com/images/P/0195153448.0...  \n",
       "1  http://images.amazon.com/images/P/0002005018.0...  \n",
       "2  http://images.amazon.com/images/P/0002005018.0...  \n",
       "3  http://images.amazon.com/images/P/0002005018.0...  \n",
       "4  http://images.amazon.com/images/P/0002005018.0...  "
      ]
     },
     "execution_count": 12,
     "metadata": {},
     "output_type": "execute_result"
    }
   ],
   "source": [
    "#Merging datasets user_rating and books based on 'ISBN'\n",
    "user_book_rating=pd.merge(user_rating,books,on='ISBN')\n",
    "user_book_rating.head()"
   ]
  },
  {
   "cell_type": "code",
   "execution_count": 13,
   "id": "47d703ad",
   "metadata": {
    "ExecuteTime": {
     "end_time": "2022-11-09T14:24:22.913886Z",
     "start_time": "2022-11-09T14:24:22.877944Z"
    }
   },
   "outputs": [
    {
     "data": {
      "text/plain": [
       "(1031136, 12)"
      ]
     },
     "execution_count": 13,
     "metadata": {},
     "output_type": "execute_result"
    }
   ],
   "source": [
    "user_book_rating.shape"
   ]
  },
  {
   "cell_type": "code",
   "execution_count": 14,
   "id": "2afd2ddf",
   "metadata": {
    "ExecuteTime": {
     "end_time": "2022-11-09T14:24:28.289885Z",
     "start_time": "2022-11-09T14:24:22.920876Z"
    }
   },
   "outputs": [
    {
     "data": {
      "text/plain": [
       "User-ID                     0\n",
       "Location                    0\n",
       "ISBN                        0\n",
       "Book-Rating                 0\n",
       "Book-Title                  0\n",
       "Year-Of-Publication         0\n",
       "Image-URL-S                 0\n",
       "Image-URL-M                 0\n",
       "Book-Author                 1\n",
       "Publisher                   2\n",
       "Image-URL-L                 4\n",
       "Age                    277835\n",
       "dtype: int64"
      ]
     },
     "execution_count": 14,
     "metadata": {},
     "output_type": "execute_result"
    }
   ],
   "source": [
    "user_book_rating.isna().sum().sort_values(ascending=True)"
   ]
  },
  {
   "cell_type": "code",
   "execution_count": 15,
   "id": "c62026cf",
   "metadata": {
    "ExecuteTime": {
     "end_time": "2022-11-09T14:24:33.672276Z",
     "start_time": "2022-11-09T14:24:28.298868Z"
    }
   },
   "outputs": [
    {
     "data": {
      "text/plain": [
       "User-ID                 0.000000\n",
       "Location                0.000000\n",
       "ISBN                    0.000000\n",
       "Book-Rating             0.000000\n",
       "Book-Title              0.000000\n",
       "Year-Of-Publication     0.000000\n",
       "Image-URL-S             0.000000\n",
       "Image-URL-M             0.000000\n",
       "Book-Author             0.000087\n",
       "Publisher               0.000174\n",
       "Image-URL-L             0.000348\n",
       "Age                    24.164188\n",
       "dtype: float64"
      ]
     },
     "execution_count": 15,
     "metadata": {},
     "output_type": "execute_result"
    }
   ],
   "source": [
    "user_book_rating.isna().sum().sort_values(ascending=True)/len(ratings)*100"
   ]
  },
  {
   "cell_type": "code",
   "execution_count": 16,
   "id": "fb742fe8",
   "metadata": {
    "ExecuteTime": {
     "end_time": "2022-11-09T14:24:33.704222Z",
     "start_time": "2022-11-09T14:24:33.680259Z"
    }
   },
   "outputs": [
    {
     "data": {
      "text/plain": [
       "User-ID                  int64\n",
       "Location                object\n",
       "Age                    float64\n",
       "ISBN                    object\n",
       "Book-Rating              int64\n",
       "Book-Title              object\n",
       "Book-Author             object\n",
       "Year-Of-Publication     object\n",
       "Publisher               object\n",
       "Image-URL-S             object\n",
       "Image-URL-M             object\n",
       "Image-URL-L             object\n",
       "dtype: object"
      ]
     },
     "execution_count": 16,
     "metadata": {},
     "output_type": "execute_result"
    }
   ],
   "source": [
    "user_book_rating.dtypes"
   ]
  },
  {
   "cell_type": "code",
   "execution_count": 17,
   "id": "81721e91",
   "metadata": {
    "ExecuteTime": {
     "end_time": "2022-11-09T14:24:41.526617Z",
     "start_time": "2022-11-09T14:24:33.711215Z"
    }
   },
   "outputs": [
    {
     "data": {
      "text/html": [
       "<div>\n",
       "<style scoped>\n",
       "    .dataframe tbody tr th:only-of-type {\n",
       "        vertical-align: middle;\n",
       "    }\n",
       "\n",
       "    .dataframe tbody tr th {\n",
       "        vertical-align: top;\n",
       "    }\n",
       "\n",
       "    .dataframe thead th {\n",
       "        text-align: right;\n",
       "    }\n",
       "</style>\n",
       "<table border=\"1\" class=\"dataframe\">\n",
       "  <thead>\n",
       "    <tr style=\"text-align: right;\">\n",
       "      <th></th>\n",
       "      <th>User-ID</th>\n",
       "      <th>Location</th>\n",
       "      <th>Age</th>\n",
       "      <th>ISBN</th>\n",
       "      <th>Book-Rating</th>\n",
       "      <th>Book-Title</th>\n",
       "      <th>Book-Author</th>\n",
       "      <th>Year-Of-Publication</th>\n",
       "      <th>Publisher</th>\n",
       "      <th>Image-URL-S</th>\n",
       "      <th>Image-URL-M</th>\n",
       "      <th>Image-URL-L</th>\n",
       "    </tr>\n",
       "  </thead>\n",
       "  <tbody>\n",
       "  </tbody>\n",
       "</table>\n",
       "</div>"
      ],
      "text/plain": [
       "Empty DataFrame\n",
       "Columns: [User-ID, Location, Age, ISBN, Book-Rating, Book-Title, Book-Author, Year-Of-Publication, Publisher, Image-URL-S, Image-URL-M, Image-URL-L]\n",
       "Index: []"
      ]
     },
     "execution_count": 17,
     "metadata": {},
     "output_type": "execute_result"
    }
   ],
   "source": [
    "user_book_rating[user_book_rating.duplicated()]"
   ]
  },
  {
   "cell_type": "code",
   "execution_count": 18,
   "id": "5b31343b",
   "metadata": {
    "ExecuteTime": {
     "end_time": "2022-11-09T14:24:41.811068Z",
     "start_time": "2022-11-09T14:24:41.535500Z"
    }
   },
   "outputs": [
    {
     "data": {
      "text/html": [
       "<div>\n",
       "<style scoped>\n",
       "    .dataframe tbody tr th:only-of-type {\n",
       "        vertical-align: middle;\n",
       "    }\n",
       "\n",
       "    .dataframe tbody tr th {\n",
       "        vertical-align: top;\n",
       "    }\n",
       "\n",
       "    .dataframe thead th {\n",
       "        text-align: right;\n",
       "    }\n",
       "</style>\n",
       "<table border=\"1\" class=\"dataframe\">\n",
       "  <thead>\n",
       "    <tr style=\"text-align: right;\">\n",
       "      <th></th>\n",
       "      <th>User-ID</th>\n",
       "      <th>Age</th>\n",
       "      <th>Book-Rating</th>\n",
       "    </tr>\n",
       "  </thead>\n",
       "  <tbody>\n",
       "    <tr>\n",
       "      <th>count</th>\n",
       "      <td>1031136.00</td>\n",
       "      <td>753301.0</td>\n",
       "      <td>1031136.00</td>\n",
       "    </tr>\n",
       "    <tr>\n",
       "      <th>mean</th>\n",
       "      <td>140594.50</td>\n",
       "      <td>37.4</td>\n",
       "      <td>2.84</td>\n",
       "    </tr>\n",
       "    <tr>\n",
       "      <th>std</th>\n",
       "      <td>80524.66</td>\n",
       "      <td>14.1</td>\n",
       "      <td>3.85</td>\n",
       "    </tr>\n",
       "    <tr>\n",
       "      <th>min</th>\n",
       "      <td>2.00</td>\n",
       "      <td>0.0</td>\n",
       "      <td>0.00</td>\n",
       "    </tr>\n",
       "    <tr>\n",
       "      <th>25%</th>\n",
       "      <td>70415.00</td>\n",
       "      <td>28.0</td>\n",
       "      <td>0.00</td>\n",
       "    </tr>\n",
       "    <tr>\n",
       "      <th>50%</th>\n",
       "      <td>141210.00</td>\n",
       "      <td>35.0</td>\n",
       "      <td>0.00</td>\n",
       "    </tr>\n",
       "    <tr>\n",
       "      <th>75%</th>\n",
       "      <td>211426.00</td>\n",
       "      <td>45.0</td>\n",
       "      <td>7.00</td>\n",
       "    </tr>\n",
       "    <tr>\n",
       "      <th>max</th>\n",
       "      <td>278854.00</td>\n",
       "      <td>244.0</td>\n",
       "      <td>10.00</td>\n",
       "    </tr>\n",
       "  </tbody>\n",
       "</table>\n",
       "</div>"
      ],
      "text/plain": [
       "          User-ID       Age  Book-Rating\n",
       "count  1031136.00  753301.0   1031136.00\n",
       "mean    140594.50      37.4         2.84\n",
       "std      80524.66      14.1         3.85\n",
       "min          2.00       0.0         0.00\n",
       "25%      70415.00      28.0         0.00\n",
       "50%     141210.00      35.0         0.00\n",
       "75%     211426.00      45.0         7.00\n",
       "max     278854.00     244.0        10.00"
      ]
     },
     "execution_count": 18,
     "metadata": {},
     "output_type": "execute_result"
    }
   ],
   "source": [
    "user_book_rating.describe().round(2)"
   ]
  },
  {
   "cell_type": "code",
   "execution_count": 19,
   "id": "361e64d7",
   "metadata": {
    "ExecuteTime": {
     "end_time": "2022-11-09T14:24:41.843023Z",
     "start_time": "2022-11-09T14:24:41.820052Z"
    }
   },
   "outputs": [],
   "source": [
    "# df_left=pd.merge(user_rating,books,on='ISBN',how='left')\n",
    "# missed=df_left[df_left['Book-Title'].isnull()]\n",
    "# missed=missed.reset_index(drop=True)\n",
    "# missed['ISBN'].sort_values().tail(50)"
   ]
  },
  {
   "cell_type": "code",
   "execution_count": 20,
   "id": "536ce842",
   "metadata": {
    "ExecuteTime": {
     "end_time": "2022-11-09T14:24:41.872965Z",
     "start_time": "2022-11-09T14:24:41.850008Z"
    }
   },
   "outputs": [],
   "source": [
    "# %%time\n",
    "# fixed_isbn=pd.DataFrame(columns=['Index','Wrong_ISBN','Correct_ISBN'])\n",
    "# for num in range(len(missed)):\n",
    "#     if not books[books['ISBN'].str.contains(re.sub(r'[^\\w\\s]', '', missed['ISBN'][num]))].empty:\n",
    "#         fixed_isbn=fixed_isbn.append({'Index':num,'Wrong_ISBN':missed['ISBN'][num],'Correct_ISBN':books[books['ISBN'].str.contains(re.sub(r'[^\\w\\s]', '', missed['ISBN'][num]))].reset_index().iloc[0].at['ISBN']},ignore_index=True)\n",
    "# fixed_isbn"
   ]
  },
  {
   "cell_type": "markdown",
   "id": "12963279",
   "metadata": {},
   "source": [
    "### Data Cleaning/Preparation"
   ]
  },
  {
   "cell_type": "code",
   "execution_count": 21,
   "id": "565f2935",
   "metadata": {
    "ExecuteTime": {
     "end_time": "2022-11-09T14:24:42.474532Z",
     "start_time": "2022-11-09T14:24:41.879963Z"
    }
   },
   "outputs": [
    {
     "data": {
      "text/html": [
       "<div>\n",
       "<style scoped>\n",
       "    .dataframe tbody tr th:only-of-type {\n",
       "        vertical-align: middle;\n",
       "    }\n",
       "\n",
       "    .dataframe tbody tr th {\n",
       "        vertical-align: top;\n",
       "    }\n",
       "\n",
       "    .dataframe thead th {\n",
       "        text-align: right;\n",
       "    }\n",
       "</style>\n",
       "<table border=\"1\" class=\"dataframe\">\n",
       "  <thead>\n",
       "    <tr style=\"text-align: right;\">\n",
       "      <th></th>\n",
       "      <th>User_ID</th>\n",
       "      <th>Location</th>\n",
       "      <th>Age</th>\n",
       "      <th>ISBN</th>\n",
       "      <th>Book_Rating</th>\n",
       "      <th>Book_Title</th>\n",
       "      <th>Book_Author</th>\n",
       "      <th>Year_Of_Publication</th>\n",
       "      <th>Publisher</th>\n",
       "      <th>Image_URL_S</th>\n",
       "      <th>Image_URL_M</th>\n",
       "      <th>Image_URL_L</th>\n",
       "    </tr>\n",
       "  </thead>\n",
       "  <tbody>\n",
       "    <tr>\n",
       "      <th>0</th>\n",
       "      <td>2</td>\n",
       "      <td>stockton, california, usa</td>\n",
       "      <td>18.0</td>\n",
       "      <td>0195153448</td>\n",
       "      <td>0</td>\n",
       "      <td>Classical Mythology</td>\n",
       "      <td>Mark P. O. Morford</td>\n",
       "      <td>2002</td>\n",
       "      <td>Oxford University Press</td>\n",
       "      <td>http://images.amazon.com/images/P/0195153448.0...</td>\n",
       "      <td>http://images.amazon.com/images/P/0195153448.0...</td>\n",
       "      <td>http://images.amazon.com/images/P/0195153448.0...</td>\n",
       "    </tr>\n",
       "    <tr>\n",
       "      <th>1</th>\n",
       "      <td>8</td>\n",
       "      <td>timmins, ontario, canada</td>\n",
       "      <td>NaN</td>\n",
       "      <td>0002005018</td>\n",
       "      <td>5</td>\n",
       "      <td>Clara Callan</td>\n",
       "      <td>Richard Bruce Wright</td>\n",
       "      <td>2001</td>\n",
       "      <td>HarperFlamingo Canada</td>\n",
       "      <td>http://images.amazon.com/images/P/0002005018.0...</td>\n",
       "      <td>http://images.amazon.com/images/P/0002005018.0...</td>\n",
       "      <td>http://images.amazon.com/images/P/0002005018.0...</td>\n",
       "    </tr>\n",
       "  </tbody>\n",
       "</table>\n",
       "</div>"
      ],
      "text/plain": [
       "   User_ID                   Location   Age        ISBN  Book_Rating  \\\n",
       "0        2  stockton, california, usa  18.0  0195153448            0   \n",
       "1        8   timmins, ontario, canada   NaN  0002005018            5   \n",
       "\n",
       "            Book_Title           Book_Author Year_Of_Publication  \\\n",
       "0  Classical Mythology    Mark P. O. Morford                2002   \n",
       "1         Clara Callan  Richard Bruce Wright                2001   \n",
       "\n",
       "                 Publisher                                        Image_URL_S  \\\n",
       "0  Oxford University Press  http://images.amazon.com/images/P/0195153448.0...   \n",
       "1    HarperFlamingo Canada  http://images.amazon.com/images/P/0002005018.0...   \n",
       "\n",
       "                                         Image_URL_M  \\\n",
       "0  http://images.amazon.com/images/P/0195153448.0...   \n",
       "1  http://images.amazon.com/images/P/0002005018.0...   \n",
       "\n",
       "                                         Image_URL_L  \n",
       "0  http://images.amazon.com/images/P/0195153448.0...  \n",
       "1  http://images.amazon.com/images/P/0002005018.0...  "
      ]
     },
     "execution_count": 21,
     "metadata": {},
     "output_type": "execute_result"
    }
   ],
   "source": [
    "#Replace hyphen with underscore\n",
    "\n",
    "user_book_rating=user_book_rating.rename(columns = {'User-ID':'User_ID','Book-Rating':'Book_Rating','Book-Title':'Book_Title',\n",
    "                                  'Book-Author':'Book_Author','Year-Of-Publication':'Year_Of_Publication',\n",
    "                                  'Image-URL-S':'Image_URL_S', 'Image-URL-M':'Image_URL_M','Image-URL-L':'Image_URL_L'})\n",
    "user_book_rating.head(2)"
   ]
  },
  {
   "cell_type": "markdown",
   "id": "033d2126",
   "metadata": {},
   "source": [
    "#### Handling feature 'Book Author'"
   ]
  },
  {
   "cell_type": "code",
   "execution_count": 22,
   "id": "20811736",
   "metadata": {
    "ExecuteTime": {
     "end_time": "2022-11-09T14:24:42.792652Z",
     "start_time": "2022-11-09T14:24:42.483520Z"
    }
   },
   "outputs": [
    {
     "data": {
      "text/html": [
       "<div>\n",
       "<style scoped>\n",
       "    .dataframe tbody tr th:only-of-type {\n",
       "        vertical-align: middle;\n",
       "    }\n",
       "\n",
       "    .dataframe tbody tr th {\n",
       "        vertical-align: top;\n",
       "    }\n",
       "\n",
       "    .dataframe thead th {\n",
       "        text-align: right;\n",
       "    }\n",
       "</style>\n",
       "<table border=\"1\" class=\"dataframe\">\n",
       "  <thead>\n",
       "    <tr style=\"text-align: right;\">\n",
       "      <th></th>\n",
       "      <th>User_ID</th>\n",
       "      <th>Location</th>\n",
       "      <th>Age</th>\n",
       "      <th>ISBN</th>\n",
       "      <th>Book_Rating</th>\n",
       "      <th>Book_Title</th>\n",
       "      <th>Book_Author</th>\n",
       "      <th>Year_Of_Publication</th>\n",
       "      <th>Publisher</th>\n",
       "      <th>Image_URL_S</th>\n",
       "      <th>Image_URL_M</th>\n",
       "      <th>Image_URL_L</th>\n",
       "    </tr>\n",
       "  </thead>\n",
       "  <tbody>\n",
       "    <tr>\n",
       "      <th>857604</th>\n",
       "      <td>98647</td>\n",
       "      <td>selayang, selangor, malaysia</td>\n",
       "      <td>26.0</td>\n",
       "      <td>9627982032</td>\n",
       "      <td>8</td>\n",
       "      <td>The Credit Suisse Guide to Managing Your Perso...</td>\n",
       "      <td>NaN</td>\n",
       "      <td>1995</td>\n",
       "      <td>Edinburgh Financial Publishing</td>\n",
       "      <td>http://images.amazon.com/images/P/9627982032.0...</td>\n",
       "      <td>http://images.amazon.com/images/P/9627982032.0...</td>\n",
       "      <td>http://images.amazon.com/images/P/9627982032.0...</td>\n",
       "    </tr>\n",
       "  </tbody>\n",
       "</table>\n",
       "</div>"
      ],
      "text/plain": [
       "        User_ID                      Location   Age        ISBN  Book_Rating  \\\n",
       "857604    98647  selayang, selangor, malaysia  26.0  9627982032            8   \n",
       "\n",
       "                                               Book_Title Book_Author  \\\n",
       "857604  The Credit Suisse Guide to Managing Your Perso...         NaN   \n",
       "\n",
       "       Year_Of_Publication                       Publisher  \\\n",
       "857604                1995  Edinburgh Financial Publishing   \n",
       "\n",
       "                                              Image_URL_S  \\\n",
       "857604  http://images.amazon.com/images/P/9627982032.0...   \n",
       "\n",
       "                                              Image_URL_M  \\\n",
       "857604  http://images.amazon.com/images/P/9627982032.0...   \n",
       "\n",
       "                                              Image_URL_L  \n",
       "857604  http://images.amazon.com/images/P/9627982032.0...  "
      ]
     },
     "execution_count": 22,
     "metadata": {},
     "output_type": "execute_result"
    }
   ],
   "source": [
    "user_book_rating[user_book_rating['Book_Author'].isnull()]"
   ]
  },
  {
   "cell_type": "code",
   "execution_count": 23,
   "id": "7488abfe",
   "metadata": {
    "ExecuteTime": {
     "end_time": "2022-11-09T14:24:43.078204Z",
     "start_time": "2022-11-09T14:24:42.816617Z"
    }
   },
   "outputs": [],
   "source": [
    "index_nan_book_author=user_book_rating[user_book_rating['Book_Author'].isnull()].index[0]"
   ]
  },
  {
   "cell_type": "code",
   "execution_count": 24,
   "id": "59e62f9f",
   "metadata": {
    "ExecuteTime": {
     "end_time": "2022-11-09T14:24:43.987992Z",
     "start_time": "2022-11-09T14:24:43.085193Z"
    }
   },
   "outputs": [],
   "source": [
    "user_book_rating.drop(index=index_nan_book_author,axis=0,inplace=True)"
   ]
  },
  {
   "cell_type": "markdown",
   "id": "7f92b879",
   "metadata": {},
   "source": [
    "#### Handling feature 'Publisher'"
   ]
  },
  {
   "cell_type": "code",
   "execution_count": 25,
   "id": "d520b3bd",
   "metadata": {
    "ExecuteTime": {
     "end_time": "2022-11-09T14:24:44.288819Z",
     "start_time": "2022-11-09T14:24:43.996282Z"
    }
   },
   "outputs": [
    {
     "data": {
      "text/html": [
       "<div>\n",
       "<style scoped>\n",
       "    .dataframe tbody tr th:only-of-type {\n",
       "        vertical-align: middle;\n",
       "    }\n",
       "\n",
       "    .dataframe tbody tr th {\n",
       "        vertical-align: top;\n",
       "    }\n",
       "\n",
       "    .dataframe thead th {\n",
       "        text-align: right;\n",
       "    }\n",
       "</style>\n",
       "<table border=\"1\" class=\"dataframe\">\n",
       "  <thead>\n",
       "    <tr style=\"text-align: right;\">\n",
       "      <th></th>\n",
       "      <th>User_ID</th>\n",
       "      <th>Location</th>\n",
       "      <th>Age</th>\n",
       "      <th>ISBN</th>\n",
       "      <th>Book_Rating</th>\n",
       "      <th>Book_Title</th>\n",
       "      <th>Book_Author</th>\n",
       "      <th>Year_Of_Publication</th>\n",
       "      <th>Publisher</th>\n",
       "      <th>Image_URL_S</th>\n",
       "      <th>Image_URL_M</th>\n",
       "      <th>Image_URL_L</th>\n",
       "    </tr>\n",
       "  </thead>\n",
       "  <tbody>\n",
       "    <tr>\n",
       "      <th>857163</th>\n",
       "      <td>98391</td>\n",
       "      <td>morrow, georgia, usa</td>\n",
       "      <td>52.0</td>\n",
       "      <td>193169656X</td>\n",
       "      <td>9</td>\n",
       "      <td>Tyrant Moon</td>\n",
       "      <td>Elaine Corvidae</td>\n",
       "      <td>2002</td>\n",
       "      <td>NaN</td>\n",
       "      <td>http://images.amazon.com/images/P/193169656X.0...</td>\n",
       "      <td>http://images.amazon.com/images/P/193169656X.0...</td>\n",
       "      <td>http://images.amazon.com/images/P/193169656X.0...</td>\n",
       "    </tr>\n",
       "    <tr>\n",
       "      <th>857174</th>\n",
       "      <td>98391</td>\n",
       "      <td>morrow, georgia, usa</td>\n",
       "      <td>52.0</td>\n",
       "      <td>1931696993</td>\n",
       "      <td>9</td>\n",
       "      <td>Finders Keepers</td>\n",
       "      <td>Linnea Sinclair</td>\n",
       "      <td>2001</td>\n",
       "      <td>NaN</td>\n",
       "      <td>http://images.amazon.com/images/P/1931696993.0...</td>\n",
       "      <td>http://images.amazon.com/images/P/1931696993.0...</td>\n",
       "      <td>http://images.amazon.com/images/P/1931696993.0...</td>\n",
       "    </tr>\n",
       "  </tbody>\n",
       "</table>\n",
       "</div>"
      ],
      "text/plain": [
       "        User_ID              Location   Age        ISBN  Book_Rating  \\\n",
       "857163    98391  morrow, georgia, usa  52.0  193169656X            9   \n",
       "857174    98391  morrow, georgia, usa  52.0  1931696993            9   \n",
       "\n",
       "             Book_Title      Book_Author Year_Of_Publication Publisher  \\\n",
       "857163      Tyrant Moon  Elaine Corvidae                2002       NaN   \n",
       "857174  Finders Keepers  Linnea Sinclair                2001       NaN   \n",
       "\n",
       "                                              Image_URL_S  \\\n",
       "857163  http://images.amazon.com/images/P/193169656X.0...   \n",
       "857174  http://images.amazon.com/images/P/1931696993.0...   \n",
       "\n",
       "                                              Image_URL_M  \\\n",
       "857163  http://images.amazon.com/images/P/193169656X.0...   \n",
       "857174  http://images.amazon.com/images/P/1931696993.0...   \n",
       "\n",
       "                                              Image_URL_L  \n",
       "857163  http://images.amazon.com/images/P/193169656X.0...  \n",
       "857174  http://images.amazon.com/images/P/1931696993.0...  "
      ]
     },
     "execution_count": 25,
     "metadata": {},
     "output_type": "execute_result"
    }
   ],
   "source": [
    "user_book_rating[user_book_rating['Publisher'].isnull()]"
   ]
  },
  {
   "cell_type": "code",
   "execution_count": 26,
   "id": "71c2e0f6",
   "metadata": {
    "ExecuteTime": {
     "end_time": "2022-11-09T14:24:45.143716Z",
     "start_time": "2022-11-09T14:24:44.297812Z"
    }
   },
   "outputs": [],
   "source": [
    "user_book_rating.loc[(user_book_rating.ISBN == '193169656X'),'Publisher'] = 'NovelBooks'\n",
    "user_book_rating.loc[(user_book_rating.ISBN == '1931696993'),'Publisher'] = 'CreateSpace Independent Publishing Platform'"
   ]
  },
  {
   "cell_type": "code",
   "execution_count": 27,
   "id": "1c352829",
   "metadata": {
    "ExecuteTime": {
     "end_time": "2022-11-09T14:24:45.414298Z",
     "start_time": "2022-11-09T14:24:45.149716Z"
    }
   },
   "outputs": [
    {
     "data": {
      "text/html": [
       "<div>\n",
       "<style scoped>\n",
       "    .dataframe tbody tr th:only-of-type {\n",
       "        vertical-align: middle;\n",
       "    }\n",
       "\n",
       "    .dataframe tbody tr th {\n",
       "        vertical-align: top;\n",
       "    }\n",
       "\n",
       "    .dataframe thead th {\n",
       "        text-align: right;\n",
       "    }\n",
       "</style>\n",
       "<table border=\"1\" class=\"dataframe\">\n",
       "  <thead>\n",
       "    <tr style=\"text-align: right;\">\n",
       "      <th></th>\n",
       "      <th>User_ID</th>\n",
       "      <th>Location</th>\n",
       "      <th>Age</th>\n",
       "      <th>ISBN</th>\n",
       "      <th>Book_Rating</th>\n",
       "      <th>Book_Title</th>\n",
       "      <th>Book_Author</th>\n",
       "      <th>Year_Of_Publication</th>\n",
       "      <th>Publisher</th>\n",
       "      <th>Image_URL_S</th>\n",
       "      <th>Image_URL_M</th>\n",
       "      <th>Image_URL_L</th>\n",
       "    </tr>\n",
       "  </thead>\n",
       "  <tbody>\n",
       "  </tbody>\n",
       "</table>\n",
       "</div>"
      ],
      "text/plain": [
       "Empty DataFrame\n",
       "Columns: [User_ID, Location, Age, ISBN, Book_Rating, Book_Title, Book_Author, Year_Of_Publication, Publisher, Image_URL_S, Image_URL_M, Image_URL_L]\n",
       "Index: []"
      ]
     },
     "execution_count": 27,
     "metadata": {},
     "output_type": "execute_result"
    }
   ],
   "source": [
    "user_book_rating[user_book_rating['Publisher'].isnull()]"
   ]
  },
  {
   "cell_type": "markdown",
   "id": "cdc974ce",
   "metadata": {},
   "source": [
    "#### Handling feature 'Image_URL_L'"
   ]
  },
  {
   "cell_type": "code",
   "execution_count": 28,
   "id": "f90ebd4b",
   "metadata": {
    "ExecuteTime": {
     "end_time": "2022-11-09T14:24:45.731808Z",
     "start_time": "2022-11-09T14:24:45.424287Z"
    }
   },
   "outputs": [
    {
     "data": {
      "text/html": [
       "<div>\n",
       "<style scoped>\n",
       "    .dataframe tbody tr th:only-of-type {\n",
       "        vertical-align: middle;\n",
       "    }\n",
       "\n",
       "    .dataframe tbody tr th {\n",
       "        vertical-align: top;\n",
       "    }\n",
       "\n",
       "    .dataframe thead th {\n",
       "        text-align: right;\n",
       "    }\n",
       "</style>\n",
       "<table border=\"1\" class=\"dataframe\">\n",
       "  <thead>\n",
       "    <tr style=\"text-align: right;\">\n",
       "      <th></th>\n",
       "      <th>User_ID</th>\n",
       "      <th>Location</th>\n",
       "      <th>Age</th>\n",
       "      <th>ISBN</th>\n",
       "      <th>Book_Rating</th>\n",
       "      <th>Book_Title</th>\n",
       "      <th>Book_Author</th>\n",
       "      <th>Year_Of_Publication</th>\n",
       "      <th>Publisher</th>\n",
       "      <th>Image_URL_S</th>\n",
       "      <th>Image_URL_M</th>\n",
       "      <th>Image_URL_L</th>\n",
       "    </tr>\n",
       "  </thead>\n",
       "  <tbody>\n",
       "    <tr>\n",
       "      <th>906829</th>\n",
       "      <td>130571</td>\n",
       "      <td>summerville, south carolina, usa</td>\n",
       "      <td>NaN</td>\n",
       "      <td>0789466953</td>\n",
       "      <td>0</td>\n",
       "      <td>DK Readers: Creating the X-Men, How Comic Book...</td>\n",
       "      <td>2000</td>\n",
       "      <td>DK Publishing Inc</td>\n",
       "      <td>http://images.amazon.com/images/P/0789466953.0...</td>\n",
       "      <td>http://images.amazon.com/images/P/0789466953.0...</td>\n",
       "      <td>http://images.amazon.com/images/P/0789466953.0...</td>\n",
       "      <td>NaN</td>\n",
       "    </tr>\n",
       "    <tr>\n",
       "      <th>913994</th>\n",
       "      <td>137190</td>\n",
       "      <td>rennes, bretagne, france</td>\n",
       "      <td>31.0</td>\n",
       "      <td>2070426769</td>\n",
       "      <td>0</td>\n",
       "      <td>Peuple du ciel, suivi de 'Les Bergers\\\";Jean-M...</td>\n",
       "      <td>2003</td>\n",
       "      <td>Gallimard</td>\n",
       "      <td>http://images.amazon.com/images/P/2070426769.0...</td>\n",
       "      <td>http://images.amazon.com/images/P/2070426769.0...</td>\n",
       "      <td>http://images.amazon.com/images/P/2070426769.0...</td>\n",
       "      <td>NaN</td>\n",
       "    </tr>\n",
       "    <tr>\n",
       "      <th>946370</th>\n",
       "      <td>169663</td>\n",
       "      <td>towson, maryland, usa</td>\n",
       "      <td>NaN</td>\n",
       "      <td>078946697X</td>\n",
       "      <td>0</td>\n",
       "      <td>DK Readers: Creating the X-Men, How It All Beg...</td>\n",
       "      <td>2000</td>\n",
       "      <td>DK Publishing Inc</td>\n",
       "      <td>http://images.amazon.com/images/P/078946697X.0...</td>\n",
       "      <td>http://images.amazon.com/images/P/078946697X.0...</td>\n",
       "      <td>http://images.amazon.com/images/P/078946697X.0...</td>\n",
       "      <td>NaN</td>\n",
       "    </tr>\n",
       "    <tr>\n",
       "      <th>946371</th>\n",
       "      <td>227771</td>\n",
       "      <td>savion, n/a, israel</td>\n",
       "      <td>19.0</td>\n",
       "      <td>078946697X</td>\n",
       "      <td>7</td>\n",
       "      <td>DK Readers: Creating the X-Men, How It All Beg...</td>\n",
       "      <td>2000</td>\n",
       "      <td>DK Publishing Inc</td>\n",
       "      <td>http://images.amazon.com/images/P/078946697X.0...</td>\n",
       "      <td>http://images.amazon.com/images/P/078946697X.0...</td>\n",
       "      <td>http://images.amazon.com/images/P/078946697X.0...</td>\n",
       "      <td>NaN</td>\n",
       "    </tr>\n",
       "  </tbody>\n",
       "</table>\n",
       "</div>"
      ],
      "text/plain": [
       "        User_ID                          Location   Age        ISBN  \\\n",
       "906829   130571  summerville, south carolina, usa   NaN  0789466953   \n",
       "913994   137190          rennes, bretagne, france  31.0  2070426769   \n",
       "946370   169663             towson, maryland, usa   NaN  078946697X   \n",
       "946371   227771               savion, n/a, israel  19.0  078946697X   \n",
       "\n",
       "        Book_Rating                                         Book_Title  \\\n",
       "906829            0  DK Readers: Creating the X-Men, How Comic Book...   \n",
       "913994            0  Peuple du ciel, suivi de 'Les Bergers\\\";Jean-M...   \n",
       "946370            0  DK Readers: Creating the X-Men, How It All Beg...   \n",
       "946371            7  DK Readers: Creating the X-Men, How It All Beg...   \n",
       "\n",
       "       Book_Author Year_Of_Publication  \\\n",
       "906829        2000   DK Publishing Inc   \n",
       "913994        2003           Gallimard   \n",
       "946370        2000   DK Publishing Inc   \n",
       "946371        2000   DK Publishing Inc   \n",
       "\n",
       "                                                Publisher  \\\n",
       "906829  http://images.amazon.com/images/P/0789466953.0...   \n",
       "913994  http://images.amazon.com/images/P/2070426769.0...   \n",
       "946370  http://images.amazon.com/images/P/078946697X.0...   \n",
       "946371  http://images.amazon.com/images/P/078946697X.0...   \n",
       "\n",
       "                                              Image_URL_S  \\\n",
       "906829  http://images.amazon.com/images/P/0789466953.0...   \n",
       "913994  http://images.amazon.com/images/P/2070426769.0...   \n",
       "946370  http://images.amazon.com/images/P/078946697X.0...   \n",
       "946371  http://images.amazon.com/images/P/078946697X.0...   \n",
       "\n",
       "                                              Image_URL_M Image_URL_L  \n",
       "906829  http://images.amazon.com/images/P/0789466953.0...         NaN  \n",
       "913994  http://images.amazon.com/images/P/2070426769.0...         NaN  \n",
       "946370  http://images.amazon.com/images/P/078946697X.0...         NaN  \n",
       "946371  http://images.amazon.com/images/P/078946697X.0...         NaN  "
      ]
     },
     "execution_count": 28,
     "metadata": {},
     "output_type": "execute_result"
    }
   ],
   "source": [
    "user_book_rating[user_book_rating['Image_URL_L'].isnull()]"
   ]
  },
  {
   "cell_type": "code",
   "execution_count": 29,
   "id": "d0c8ad00",
   "metadata": {
    "ExecuteTime": {
     "end_time": "2022-11-09T14:24:46.017378Z",
     "start_time": "2022-11-09T14:24:45.739789Z"
    }
   },
   "outputs": [],
   "source": [
    "new= user_book_rating[user_book_rating[\"Image_URL_L\"].isnull()]\n",
    "yop=new[\"Book_Author\"].values\n",
    "p= new[\"Year_Of_Publication\"].values\n",
    "s=new[\"Publisher\"].values\n",
    "m=new[\"Image_URL_S\"].values\n",
    "l=new[\"Image_URL_M\"].values\n",
    "na=new[\"Image_URL_L\"].values"
   ]
  },
  {
   "cell_type": "code",
   "execution_count": 30,
   "id": "21c8f85e",
   "metadata": {
    "ExecuteTime": {
     "end_time": "2022-11-09T14:24:46.302931Z",
     "start_time": "2022-11-09T14:24:46.026367Z"
    }
   },
   "outputs": [
    {
     "data": {
      "text/plain": [
       "Int64Index([906829, 913994, 946370, 946371], dtype='int64')"
      ]
     },
     "execution_count": 30,
     "metadata": {},
     "output_type": "execute_result"
    }
   ],
   "source": [
    "isbn=user_book_rating[user_book_rating[\"Image_URL_L\"].isnull()][\"ISBN\"]\n",
    "isbn.index"
   ]
  },
  {
   "cell_type": "code",
   "execution_count": 31,
   "id": "10a779f0",
   "metadata": {
    "ExecuteTime": {
     "end_time": "2022-11-09T14:24:46.334878Z",
     "start_time": "2022-11-09T14:24:46.309920Z"
    }
   },
   "outputs": [],
   "source": [
    "user_book_rating.loc[isbn.index[0],\"Book_Author\"]='Buckley Jr., James'\n",
    "user_book_rating.loc[isbn.index[1],\"Book_Author\"]='Le Clezio, Jean-Marie Gustave'\n",
    "user_book_rating.loc[isbn.index[2],\"Book_Author\"]='Teitelbaum, Michael'\n",
    "user_book_rating.loc[isbn.index[2],\"Book_Author\"]='Teitelbaum, Michael'"
   ]
  },
  {
   "cell_type": "code",
   "execution_count": 32,
   "id": "bd94a91b",
   "metadata": {
    "ExecuteTime": {
     "end_time": "2022-11-09T14:24:47.933982Z",
     "start_time": "2022-11-09T14:24:46.341870Z"
    }
   },
   "outputs": [],
   "source": [
    "for i in range (len(isbn)):\n",
    "    x=user_book_rating.index[user_book_rating[\"ISBN\"]==isbn.values[i]]\n",
    "    user_book_rating.loc[x,\"Year_Of_Publication\"]=yop[i]\n",
    "    user_book_rating.loc[x,\"Publisher\"]=p[i]\n",
    "    user_book_rating.loc[x,\"Image_URL_S\"]=s[i] \n",
    "    user_book_rating.loc[x,\"Image_URL_M\"]=m[i]\n",
    "    user_book_rating.loc[x,\"Image_URL_L\"]=l[i]"
   ]
  },
  {
   "cell_type": "code",
   "execution_count": 33,
   "id": "be5af585",
   "metadata": {
    "ExecuteTime": {
     "end_time": "2022-11-09T14:24:48.249499Z",
     "start_time": "2022-11-09T14:24:47.941981Z"
    }
   },
   "outputs": [
    {
     "data": {
      "text/html": [
       "<div>\n",
       "<style scoped>\n",
       "    .dataframe tbody tr th:only-of-type {\n",
       "        vertical-align: middle;\n",
       "    }\n",
       "\n",
       "    .dataframe tbody tr th {\n",
       "        vertical-align: top;\n",
       "    }\n",
       "\n",
       "    .dataframe thead th {\n",
       "        text-align: right;\n",
       "    }\n",
       "</style>\n",
       "<table border=\"1\" class=\"dataframe\">\n",
       "  <thead>\n",
       "    <tr style=\"text-align: right;\">\n",
       "      <th></th>\n",
       "      <th>User_ID</th>\n",
       "      <th>Location</th>\n",
       "      <th>Age</th>\n",
       "      <th>ISBN</th>\n",
       "      <th>Book_Rating</th>\n",
       "      <th>Book_Title</th>\n",
       "      <th>Book_Author</th>\n",
       "      <th>Year_Of_Publication</th>\n",
       "      <th>Publisher</th>\n",
       "      <th>Image_URL_S</th>\n",
       "      <th>Image_URL_M</th>\n",
       "      <th>Image_URL_L</th>\n",
       "    </tr>\n",
       "  </thead>\n",
       "  <tbody>\n",
       "  </tbody>\n",
       "</table>\n",
       "</div>"
      ],
      "text/plain": [
       "Empty DataFrame\n",
       "Columns: [User_ID, Location, Age, ISBN, Book_Rating, Book_Title, Book_Author, Year_Of_Publication, Publisher, Image_URL_S, Image_URL_M, Image_URL_L]\n",
       "Index: []"
      ]
     },
     "execution_count": 33,
     "metadata": {},
     "output_type": "execute_result"
    }
   ],
   "source": [
    "user_book_rating[user_book_rating['Image_URL_L'].isnull()]"
   ]
  },
  {
   "cell_type": "code",
   "execution_count": 34,
   "id": "694e1839",
   "metadata": {
    "ExecuteTime": {
     "end_time": "2022-11-09T14:24:53.620945Z",
     "start_time": "2022-11-09T14:24:48.257488Z"
    }
   },
   "outputs": [
    {
     "data": {
      "text/plain": [
       "User_ID                     0\n",
       "Location                    0\n",
       "Age                    277835\n",
       "ISBN                        0\n",
       "Book_Rating                 0\n",
       "Book_Title                  0\n",
       "Book_Author                 0\n",
       "Year_Of_Publication         0\n",
       "Publisher                   0\n",
       "Image_URL_S                 0\n",
       "Image_URL_M                 0\n",
       "Image_URL_L                 0\n",
       "dtype: int64"
      ]
     },
     "execution_count": 34,
     "metadata": {},
     "output_type": "execute_result"
    }
   ],
   "source": [
    "user_book_rating.isnull().sum()"
   ]
  },
  {
   "cell_type": "markdown",
   "id": "a8ae2355",
   "metadata": {},
   "source": [
    "#### Handling feature - Age"
   ]
  },
  {
   "cell_type": "code",
   "execution_count": 35,
   "id": "c8813585",
   "metadata": {
    "ExecuteTime": {
     "end_time": "2022-11-09T14:24:53.696837Z",
     "start_time": "2022-11-09T14:24:53.629934Z"
    }
   },
   "outputs": [
    {
     "name": "stdout",
     "output_type": "stream",
     "text": [
      "[0.0, 1.0, 2.0, 3.0, 4.0, 5.0, 6.0, 7.0, 8.0, 9.0, 10.0, 11.0, 12.0, 18.0, nan, 13.0, 14.0, 15.0, 16.0, 17.0, 19.0, 20.0, 21.0, 22.0, 23.0, 24.0, 25.0, 26.0, 27.0, 28.0, 29.0, 30.0, 31.0, 32.0, 33.0, 34.0, 35.0, 36.0, 37.0, 38.0, 39.0, 40.0, 41.0, 42.0, 43.0, 44.0, 45.0, 46.0, 47.0, 48.0, 49.0, 50.0, 51.0, 52.0, 53.0, 54.0, 55.0, 56.0, 57.0, 58.0, 59.0, 60.0, 61.0, 62.0, 63.0, 64.0, 65.0, 66.0, 67.0, 68.0, 69.0, 70.0, 71.0, 72.0, 73.0, 74.0, 75.0, 76.0, 77.0, 78.0, 79.0, 80.0, 81.0, 82.0, 83.0, 84.0, 85.0, 86.0, 89.0, 90.0, 92.0, 93.0, 94.0, 95.0, 96.0, 97.0, 98.0, 99.0, 100.0, 101.0, 103.0, 104.0, 105.0, 107.0, 108.0, 109.0, 114.0, 116.0, 118.0, 123.0, 124.0, 127.0, 128.0, 132.0, 133.0, 136.0, 138.0, 140.0, 141.0, 146.0, 147.0, 148.0, 151.0, 152.0, 156.0, 157.0, 168.0, 199.0, 200.0, 201.0, 204.0, 209.0, 212.0, 219.0, 220.0, 223.0, 226.0, 228.0, 229.0, 237.0, 239.0, 244.0]\n"
     ]
    }
   ],
   "source": [
    "print(sorted(user_book_rating.Age.unique()))"
   ]
  },
  {
   "cell_type": "code",
   "execution_count": 36,
   "id": "fddf1074",
   "metadata": {
    "ExecuteTime": {
     "end_time": "2022-11-09T14:24:53.775700Z",
     "start_time": "2022-11-09T14:24:53.724789Z"
    }
   },
   "outputs": [
    {
     "data": {
      "text/plain": [
       "4979"
      ]
     },
     "execution_count": 36,
     "metadata": {},
     "output_type": "execute_result"
    }
   ],
   "source": [
    "len(user_book_rating.loc[(user_book_rating.Age > 90) | (user_book_rating.Age < 5), 'Age'])"
   ]
  },
  {
   "cell_type": "code",
   "execution_count": 37,
   "id": "53a223e8",
   "metadata": {
    "ExecuteTime": {
     "end_time": "2022-11-09T14:24:53.838604Z",
     "start_time": "2022-11-09T14:24:53.793679Z"
    }
   },
   "outputs": [],
   "source": [
    "user_book_rating.loc[(user_book_rating.Age > 90) | (user_book_rating.Age < 5), 'Age'] = np.nan"
   ]
  },
  {
   "cell_type": "code",
   "execution_count": 38,
   "id": "8a312b28",
   "metadata": {
    "ExecuteTime": {
     "end_time": "2022-11-09T14:24:59.174810Z",
     "start_time": "2022-11-09T14:24:53.846598Z"
    }
   },
   "outputs": [
    {
     "data": {
      "text/plain": [
       "User_ID                     0\n",
       "Location                    0\n",
       "Age                    282814\n",
       "ISBN                        0\n",
       "Book_Rating                 0\n",
       "Book_Title                  0\n",
       "Book_Author                 0\n",
       "Year_Of_Publication         0\n",
       "Publisher                   0\n",
       "Image_URL_S                 0\n",
       "Image_URL_M                 0\n",
       "Image_URL_L                 0\n",
       "dtype: int64"
      ]
     },
     "execution_count": 38,
     "metadata": {},
     "output_type": "execute_result"
    }
   ],
   "source": [
    "user_book_rating.isnull().sum()"
   ]
  },
  {
   "cell_type": "code",
   "execution_count": 39,
   "id": "e3855533",
   "metadata": {
    "ExecuteTime": {
     "end_time": "2022-11-09T14:24:59.252689Z",
     "start_time": "2022-11-09T14:24:59.184798Z"
    }
   },
   "outputs": [
    {
     "data": {
      "text/plain": [
       "0    33.0\n",
       "Name: Age, dtype: float64"
      ]
     },
     "execution_count": 39,
     "metadata": {},
     "output_type": "execute_result"
    }
   ],
   "source": [
    "user_book_rating.Age.mode()"
   ]
  },
  {
   "cell_type": "code",
   "execution_count": 40,
   "id": "014dfd13",
   "metadata": {
    "ExecuteTime": {
     "end_time": "2022-11-09T14:24:59.360512Z",
     "start_time": "2022-11-09T14:24:59.264669Z"
    }
   },
   "outputs": [],
   "source": [
    "user_book_rating['Age']=user_book_rating['Age'].fillna(user_book_rating.Age.median()).astype('int32')"
   ]
  },
  {
   "cell_type": "code",
   "execution_count": 41,
   "id": "23e6c103",
   "metadata": {
    "ExecuteTime": {
     "end_time": "2022-11-09T14:25:04.722806Z",
     "start_time": "2022-11-09T14:24:59.370506Z"
    }
   },
   "outputs": [
    {
     "data": {
      "text/plain": [
       "User_ID                0\n",
       "Location               0\n",
       "Age                    0\n",
       "ISBN                   0\n",
       "Book_Rating            0\n",
       "Book_Title             0\n",
       "Book_Author            0\n",
       "Year_Of_Publication    0\n",
       "Publisher              0\n",
       "Image_URL_S            0\n",
       "Image_URL_M            0\n",
       "Image_URL_L            0\n",
       "dtype: int64"
      ]
     },
     "execution_count": 41,
     "metadata": {},
     "output_type": "execute_result"
    }
   ],
   "source": [
    "user_book_rating.isnull().sum()"
   ]
  },
  {
   "cell_type": "markdown",
   "id": "661f32cb",
   "metadata": {},
   "source": [
    "#### Handling feature - Year of Publication"
   ]
  },
  {
   "cell_type": "code",
   "execution_count": 42,
   "id": "9d042415",
   "metadata": {
    "ExecuteTime": {
     "end_time": "2022-11-09T14:25:04.754758Z",
     "start_time": "2022-11-09T14:25:04.731792Z"
    }
   },
   "outputs": [
    {
     "data": {
      "text/plain": [
       "dtype('O')"
      ]
     },
     "execution_count": 42,
     "metadata": {},
     "output_type": "execute_result"
    }
   ],
   "source": [
    "user_book_rating.Year_Of_Publication.dtype"
   ]
  },
  {
   "cell_type": "code",
   "execution_count": 43,
   "id": "24cf5983",
   "metadata": {
    "ExecuteTime": {
     "end_time": "2022-11-09T14:25:06.318839Z",
     "start_time": "2022-11-09T14:25:04.767741Z"
    }
   },
   "outputs": [],
   "source": [
    "user_book_rating.Year_Of_Publication=pd.to_numeric(arg=user_book_rating.Year_Of_Publication,errors='coerce')"
   ]
  },
  {
   "cell_type": "code",
   "execution_count": 44,
   "id": "b7cadd1b",
   "metadata": {
    "ExecuteTime": {
     "end_time": "2022-11-09T14:25:06.475595Z",
     "start_time": "2022-11-09T14:25:06.330821Z"
    }
   },
   "outputs": [
    {
     "name": "stdout",
     "output_type": "stream",
     "text": [
      "[0, 1376, 1378, 1806, 1897, 1900, 1901, 1902, 1904, 1906, 1908, 1909, 1910, 1911, 1914, 1917, 1919, 1920, 1921, 1922, 1923, 1924, 1925, 1926, 1927, 1928, 1929, 1930, 1931, 1932, 1933, 1934, 1935, 1936, 1937, 1938, 1939, 1940, 1941, 1942, 1943, 1944, 1945, 1946, 1947, 1948, 1949, 1950, 1951, 1952, 1953, 1954, 1955, 1956, 1957, 1958, 1959, 1960, 1961, 1962, 1963, 1964, 1965, 1966, 1967, 1968, 1969, 1970, 1971, 1972, 1973, 1974, 1975, 1976, 1977, 1978, 1979, 1980, 1981, 1982, 1983, 1984, 1985, 1986, 1987, 1988, 1989, 1990, 1991, 1992, 1993, 1994, 1995, 1996, 1997, 1998, 1999, 2000, 2001, 2002, 2003, 2004, 2005, 2006, 2008, 2010, 2011, 2012, 2020, 2021, 2024, 2026, 2030, 2037, 2038, 2050]\n"
     ]
    }
   ],
   "source": [
    "print(sorted(user_book_rating.Year_Of_Publication.unique()))"
   ]
  },
  {
   "cell_type": "code",
   "execution_count": 45,
   "id": "016287fe",
   "metadata": {
    "ExecuteTime": {
     "end_time": "2022-11-09T14:25:06.587421Z",
     "start_time": "2022-11-09T14:25:06.500555Z"
    }
   },
   "outputs": [
    {
     "data": {
      "text/plain": [
       "14089"
      ]
     },
     "execution_count": 45,
     "metadata": {},
     "output_type": "execute_result"
    }
   ],
   "source": [
    "len(user_book_rating.loc[(user_book_rating.Year_Of_Publication > 2006) | (user_book_rating.Year_Of_Publication ==0), 'Year_Of_Publication'])"
   ]
  },
  {
   "cell_type": "code",
   "execution_count": 46,
   "id": "b98b8dd6",
   "metadata": {
    "ExecuteTime": {
     "end_time": "2022-11-09T14:25:06.698239Z",
     "start_time": "2022-11-09T14:25:06.601394Z"
    }
   },
   "outputs": [],
   "source": [
    "user_book_rating.loc[(user_book_rating.Year_Of_Publication > 2006) | (user_book_rating.Year_Of_Publication ==0), 'Year_Of_Publication'] = np.nan"
   ]
  },
  {
   "cell_type": "code",
   "execution_count": 47,
   "id": "666a7941",
   "metadata": {
    "ExecuteTime": {
     "end_time": "2022-11-09T14:25:11.749010Z",
     "start_time": "2022-11-09T14:25:06.711222Z"
    }
   },
   "outputs": [
    {
     "data": {
      "text/plain": [
       "User_ID                    0\n",
       "Location                   0\n",
       "Age                        0\n",
       "ISBN                       0\n",
       "Book_Rating                0\n",
       "Book_Title                 0\n",
       "Book_Author                0\n",
       "Year_Of_Publication    14089\n",
       "Publisher                  0\n",
       "Image_URL_S                0\n",
       "Image_URL_M                0\n",
       "Image_URL_L                0\n",
       "dtype: int64"
      ]
     },
     "execution_count": 47,
     "metadata": {},
     "output_type": "execute_result"
    }
   ],
   "source": [
    "user_book_rating.isnull().sum()"
   ]
  },
  {
   "cell_type": "code",
   "execution_count": 48,
   "id": "e97a7d2a",
   "metadata": {
    "ExecuteTime": {
     "end_time": "2022-11-09T14:25:11.841864Z",
     "start_time": "2022-11-09T14:25:11.758003Z"
    }
   },
   "outputs": [
    {
     "data": {
      "text/plain": [
       "0    2002.0\n",
       "Name: Year_Of_Publication, dtype: float64"
      ]
     },
     "execution_count": 48,
     "metadata": {},
     "output_type": "execute_result"
    }
   ],
   "source": [
    "user_book_rating.Year_Of_Publication.mode()"
   ]
  },
  {
   "cell_type": "code",
   "execution_count": 49,
   "id": "0e6a08b5",
   "metadata": {
    "ExecuteTime": {
     "end_time": "2022-11-09T14:25:11.952691Z",
     "start_time": "2022-11-09T14:25:11.850860Z"
    }
   },
   "outputs": [],
   "source": [
    "user_book_rating['Year_Of_Publication']=user_book_rating['Year_Of_Publication'].fillna(user_book_rating.Year_Of_Publication.median()).astype('int32')"
   ]
  },
  {
   "cell_type": "code",
   "execution_count": 50,
   "id": "70b9612e",
   "metadata": {
    "ExecuteTime": {
     "end_time": "2022-11-09T14:25:16.764294Z",
     "start_time": "2022-11-09T14:25:11.959684Z"
    }
   },
   "outputs": [
    {
     "data": {
      "text/plain": [
       "User_ID                0\n",
       "Location               0\n",
       "Age                    0\n",
       "ISBN                   0\n",
       "Book_Rating            0\n",
       "Book_Title             0\n",
       "Book_Author            0\n",
       "Year_Of_Publication    0\n",
       "Publisher              0\n",
       "Image_URL_S            0\n",
       "Image_URL_M            0\n",
       "Image_URL_L            0\n",
       "dtype: int64"
      ]
     },
     "execution_count": 50,
     "metadata": {},
     "output_type": "execute_result"
    }
   ],
   "source": [
    "user_book_rating.isnull().sum()"
   ]
  },
  {
   "cell_type": "code",
   "execution_count": 51,
   "id": "1561daae",
   "metadata": {
    "ExecuteTime": {
     "end_time": "2022-11-09T14:25:16.859138Z",
     "start_time": "2022-11-09T14:25:16.773275Z"
    }
   },
   "outputs": [
    {
     "data": {
      "text/html": [
       "<div>\n",
       "<style scoped>\n",
       "    .dataframe tbody tr th:only-of-type {\n",
       "        vertical-align: middle;\n",
       "    }\n",
       "\n",
       "    .dataframe tbody tr th {\n",
       "        vertical-align: top;\n",
       "    }\n",
       "\n",
       "    .dataframe thead th {\n",
       "        text-align: right;\n",
       "    }\n",
       "</style>\n",
       "<table border=\"1\" class=\"dataframe\">\n",
       "  <thead>\n",
       "    <tr style=\"text-align: right;\">\n",
       "      <th></th>\n",
       "      <th>User_ID</th>\n",
       "      <th>Location</th>\n",
       "      <th>Age</th>\n",
       "      <th>ISBN</th>\n",
       "      <th>Book_Rating</th>\n",
       "      <th>Book_Title</th>\n",
       "      <th>Book_Author</th>\n",
       "      <th>Year_Of_Publication</th>\n",
       "      <th>Publisher</th>\n",
       "      <th>Image_URL_S</th>\n",
       "      <th>Image_URL_M</th>\n",
       "      <th>Image_URL_L</th>\n",
       "    </tr>\n",
       "  </thead>\n",
       "  <tbody>\n",
       "    <tr>\n",
       "      <th>0</th>\n",
       "      <td>2</td>\n",
       "      <td>stockton, california, usa</td>\n",
       "      <td>18</td>\n",
       "      <td>0195153448</td>\n",
       "      <td>0</td>\n",
       "      <td>Classical Mythology</td>\n",
       "      <td>Mark P. O. Morford</td>\n",
       "      <td>2002</td>\n",
       "      <td>Oxford University Press</td>\n",
       "      <td>http://images.amazon.com/images/P/0195153448.0...</td>\n",
       "      <td>http://images.amazon.com/images/P/0195153448.0...</td>\n",
       "      <td>http://images.amazon.com/images/P/0195153448.0...</td>\n",
       "    </tr>\n",
       "    <tr>\n",
       "      <th>1</th>\n",
       "      <td>8</td>\n",
       "      <td>timmins, ontario, canada</td>\n",
       "      <td>35</td>\n",
       "      <td>0002005018</td>\n",
       "      <td>5</td>\n",
       "      <td>Clara Callan</td>\n",
       "      <td>Richard Bruce Wright</td>\n",
       "      <td>2001</td>\n",
       "      <td>HarperFlamingo Canada</td>\n",
       "      <td>http://images.amazon.com/images/P/0002005018.0...</td>\n",
       "      <td>http://images.amazon.com/images/P/0002005018.0...</td>\n",
       "      <td>http://images.amazon.com/images/P/0002005018.0...</td>\n",
       "    </tr>\n",
       "    <tr>\n",
       "      <th>2</th>\n",
       "      <td>11400</td>\n",
       "      <td>ottawa, ontario, canada</td>\n",
       "      <td>49</td>\n",
       "      <td>0002005018</td>\n",
       "      <td>0</td>\n",
       "      <td>Clara Callan</td>\n",
       "      <td>Richard Bruce Wright</td>\n",
       "      <td>2001</td>\n",
       "      <td>HarperFlamingo Canada</td>\n",
       "      <td>http://images.amazon.com/images/P/0002005018.0...</td>\n",
       "      <td>http://images.amazon.com/images/P/0002005018.0...</td>\n",
       "      <td>http://images.amazon.com/images/P/0002005018.0...</td>\n",
       "    </tr>\n",
       "    <tr>\n",
       "      <th>3</th>\n",
       "      <td>11676</td>\n",
       "      <td>n/a, n/a, n/a</td>\n",
       "      <td>35</td>\n",
       "      <td>0002005018</td>\n",
       "      <td>8</td>\n",
       "      <td>Clara Callan</td>\n",
       "      <td>Richard Bruce Wright</td>\n",
       "      <td>2001</td>\n",
       "      <td>HarperFlamingo Canada</td>\n",
       "      <td>http://images.amazon.com/images/P/0002005018.0...</td>\n",
       "      <td>http://images.amazon.com/images/P/0002005018.0...</td>\n",
       "      <td>http://images.amazon.com/images/P/0002005018.0...</td>\n",
       "    </tr>\n",
       "    <tr>\n",
       "      <th>4</th>\n",
       "      <td>41385</td>\n",
       "      <td>sudbury, ontario, canada</td>\n",
       "      <td>35</td>\n",
       "      <td>0002005018</td>\n",
       "      <td>0</td>\n",
       "      <td>Clara Callan</td>\n",
       "      <td>Richard Bruce Wright</td>\n",
       "      <td>2001</td>\n",
       "      <td>HarperFlamingo Canada</td>\n",
       "      <td>http://images.amazon.com/images/P/0002005018.0...</td>\n",
       "      <td>http://images.amazon.com/images/P/0002005018.0...</td>\n",
       "      <td>http://images.amazon.com/images/P/0002005018.0...</td>\n",
       "    </tr>\n",
       "  </tbody>\n",
       "</table>\n",
       "</div>"
      ],
      "text/plain": [
       "   User_ID                   Location  Age        ISBN  Book_Rating  \\\n",
       "0        2  stockton, california, usa   18  0195153448            0   \n",
       "1        8   timmins, ontario, canada   35  0002005018            5   \n",
       "2    11400    ottawa, ontario, canada   49  0002005018            0   \n",
       "3    11676              n/a, n/a, n/a   35  0002005018            8   \n",
       "4    41385   sudbury, ontario, canada   35  0002005018            0   \n",
       "\n",
       "            Book_Title           Book_Author  Year_Of_Publication  \\\n",
       "0  Classical Mythology    Mark P. O. Morford                 2002   \n",
       "1         Clara Callan  Richard Bruce Wright                 2001   \n",
       "2         Clara Callan  Richard Bruce Wright                 2001   \n",
       "3         Clara Callan  Richard Bruce Wright                 2001   \n",
       "4         Clara Callan  Richard Bruce Wright                 2001   \n",
       "\n",
       "                 Publisher                                        Image_URL_S  \\\n",
       "0  Oxford University Press  http://images.amazon.com/images/P/0195153448.0...   \n",
       "1    HarperFlamingo Canada  http://images.amazon.com/images/P/0002005018.0...   \n",
       "2    HarperFlamingo Canada  http://images.amazon.com/images/P/0002005018.0...   \n",
       "3    HarperFlamingo Canada  http://images.amazon.com/images/P/0002005018.0...   \n",
       "4    HarperFlamingo Canada  http://images.amazon.com/images/P/0002005018.0...   \n",
       "\n",
       "                                         Image_URL_M  \\\n",
       "0  http://images.amazon.com/images/P/0195153448.0...   \n",
       "1  http://images.amazon.com/images/P/0002005018.0...   \n",
       "2  http://images.amazon.com/images/P/0002005018.0...   \n",
       "3  http://images.amazon.com/images/P/0002005018.0...   \n",
       "4  http://images.amazon.com/images/P/0002005018.0...   \n",
       "\n",
       "                                         Image_URL_L  \n",
       "0  http://images.amazon.com/images/P/0195153448.0...  \n",
       "1  http://images.amazon.com/images/P/0002005018.0...  \n",
       "2  http://images.amazon.com/images/P/0002005018.0...  \n",
       "3  http://images.amazon.com/images/P/0002005018.0...  \n",
       "4  http://images.amazon.com/images/P/0002005018.0...  "
      ]
     },
     "execution_count": 51,
     "metadata": {},
     "output_type": "execute_result"
    }
   ],
   "source": [
    "user_book_rating.head()"
   ]
  },
  {
   "cell_type": "markdown",
   "id": "8ad62ad0",
   "metadata": {},
   "source": [
    "### Data Visualization"
   ]
  },
  {
   "cell_type": "code",
   "execution_count": 52,
   "id": "72e55daa",
   "metadata": {
    "ExecuteTime": {
     "end_time": "2022-11-09T14:25:18.569245Z",
     "start_time": "2022-11-09T14:25:16.870128Z"
    }
   },
   "outputs": [
    {
     "data": {
      "image/png": "[encoded data removed]",
      "text/plain": [
       "<Figure size 1080x504 with 1 Axes>"
      ]
     },
     "metadata": {
      "needs_background": "light"
     },
     "output_type": "display_data"
    }
   ],
   "source": [
    "plt.figure(figsize=(15,7))\n",
    "ax=sns.countplot(user_book_rating['Book_Rating'],order=user_book_rating['Book_Rating'].value_counts().index)\n",
    "abs_values=user_book_rating['Book_Rating'].value_counts().values\n",
    "rel_values=user_book_rating['Book_Rating'].value_counts(normalize=True).values*100\n",
    "labels=[f'{p[0]} ({p[1]:.1f}%)' for p in zip(abs_values,rel_values)]    \n",
    "ax.bar_label(container=ax.containers[0],labels=labels,padding=5)\n",
    "plt.yticks(np.arange(0, 700000, step=50000))\n",
    "plt.title('Book Rating - Distribution',size=15)\n",
    "plt.show()"
   ]
  },
  {
   "cell_type": "code",
   "execution_count": 53,
   "id": "fbf5817b",
   "metadata": {
    "ExecuteTime": {
     "end_time": "2022-11-09T14:25:49.316771Z",
     "start_time": "2022-11-09T14:25:18.576240Z"
    }
   },
   "outputs": [
    {
     "data": {
      "image/png": "[encoded data removed]",
      "text/plain": [
       "<Figure size 720x1080 with 1 Axes>"
      ]
     },
     "metadata": {
      "needs_background": "light"
     },
     "output_type": "display_data"
    }
   ],
   "source": [
    "plt.figure(figsize=(10,15))\n",
    "sns.histplot(user_book_rating['Age'],kde=True)\n",
    "plt.yticks(np.arange(0, 300000, step=5000))\n",
    "plt.title('Age Distribution - Hist/Kde Plot',size=15)\n",
    "plt.show()"
   ]
  },
  {
   "cell_type": "code",
   "execution_count": 54,
   "id": "b8c8fe02",
   "metadata": {
    "ExecuteTime": {
     "end_time": "2022-11-09T14:25:50.347159Z",
     "start_time": "2022-11-09T14:25:49.324761Z"
    }
   },
   "outputs": [
    {
     "data": {
      "image/png": "[encoded data removed]",
      "text/plain": [
       "<Figure size 720x288 with 1 Axes>"
      ]
     },
     "metadata": {
      "needs_background": "light"
     },
     "output_type": "display_data"
    }
   ],
   "source": [
    "plt.figure(figsize=(10,4))\n",
    "sns.boxplot(user_book_rating['Age'])\n",
    "plt.title('Age Distribution - Box Plot',size=15)\n",
    "plt.show()"
   ]
  },
  {
   "cell_type": "code",
   "execution_count": 55,
   "id": "6d1075d1",
   "metadata": {
    "ExecuteTime": {
     "end_time": "2022-11-09T14:26:50.196368Z",
     "start_time": "2022-11-09T14:25:50.357139Z"
    }
   },
   "outputs": [
    {
     "data": {
      "image/png": "[encoded data removed]",
      "text/plain": [
       "<Figure size 720x1080 with 1 Axes>"
      ]
     },
     "metadata": {
      "needs_background": "light"
     },
     "output_type": "display_data"
    }
   ],
   "source": [
    "plt.figure(figsize=(10,15))\n",
    "sns.histplot(user_book_rating['Year_Of_Publication'],kde=True)\n",
    "plt.yticks(np.arange(0, 100000, step=5000))\n",
    "plt.title('Year of Publication Distribution - Hist/Kde Plot',size=15)\n",
    "plt.show()"
   ]
  },
  {
   "cell_type": "code",
   "execution_count": 56,
   "id": "633ea587",
   "metadata": {
    "ExecuteTime": {
     "end_time": "2022-11-09T14:26:52.105016Z",
     "start_time": "2022-11-09T14:26:50.205366Z"
    }
   },
   "outputs": [
    {
     "data": {
      "image/png": "[encoded data removed]",
      "text/plain": [
       "<Figure size 720x432 with 1 Axes>"
      ]
     },
     "metadata": {
      "needs_background": "light"
     },
     "output_type": "display_data"
    }
   ],
   "source": [
    "plt.figure(figsize=(10,6))\n",
    "book_freq=user_book_rating['Book_Title'].value_counts().head(10)\n",
    "ax=sns.barplot(book_freq,book_freq.index,orient='h')\n",
    "abs_values=book_freq.values   \n",
    "ax.bar_label(container=ax.containers[0],labels=abs_values)\n",
    "plt.xlabel('Frequency')\n",
    "plt.title('Most frequently rated Books',size=15)\n",
    "plt.show()"
   ]
  },
  {
   "cell_type": "code",
   "execution_count": 57,
   "id": "f375f5b8",
   "metadata": {
    "ExecuteTime": {
     "end_time": "2022-11-09T14:26:53.466016Z",
     "start_time": "2022-11-09T14:26:52.115004Z"
    }
   },
   "outputs": [
    {
     "data": {
      "image/png": "[encoded data removed]",
      "text/plain": [
       "<Figure size 720x432 with 1 Axes>"
      ]
     },
     "metadata": {
      "needs_background": "light"
     },
     "output_type": "display_data"
    }
   ],
   "source": [
    "plt.figure(figsize=(10,6))\n",
    "book_rating_freq=user_book_rating[user_book_rating['Book_Rating']==10]['Book_Title'].value_counts().head(10)\n",
    "ax=sns.barplot(book_rating_freq,book_rating_freq.index,orient='h')\n",
    "abs_values=book_rating_freq.values\n",
    "ax.bar_label(container=ax.containers[0],labels=abs_values)\n",
    "plt.xlabel('Frequency')\n",
    "plt.title('Most frequently rated(Rating=10) Books',size=15)\n",
    "plt.show()"
   ]
  },
  {
   "cell_type": "code",
   "execution_count": 58,
   "id": "16029d50",
   "metadata": {
    "ExecuteTime": {
     "end_time": "2022-11-09T14:26:55.697151Z",
     "start_time": "2022-11-09T14:26:53.474001Z"
    }
   },
   "outputs": [
    {
     "data": {
      "image/png": "[encoded data removed]",
      "text/plain": [
       "<Figure size 720x432 with 1 Axes>"
      ]
     },
     "metadata": {
      "needs_background": "light"
     },
     "output_type": "display_data"
    }
   ],
   "source": [
    "plt.figure(figsize=(10,6))\n",
    "book_rating_freq=user_book_rating[user_book_rating['Book_Rating']==0]['Book_Title'].value_counts().head(10)\n",
    "ax=sns.barplot(book_rating_freq,book_rating_freq.index,orient='h')\n",
    "abs_values=book_rating_freq.values\n",
    "ax.bar_label(container=ax.containers[0],labels=abs_values)\n",
    "plt.xlabel('Frequency')\n",
    "plt.title('Most frequently rated(Rating=1) Books',size=15)\n",
    "plt.show()"
   ]
  },
  {
   "cell_type": "code",
   "execution_count": 59,
   "id": "3bb2411d",
   "metadata": {
    "ExecuteTime": {
     "end_time": "2022-11-09T14:26:57.192415Z",
     "start_time": "2022-11-09T14:26:55.707133Z"
    }
   },
   "outputs": [
    {
     "data": {
      "image/png": "[encoded data removed]",
      "text/plain": [
       "<Figure size 720x432 with 1 Axes>"
      ]
     },
     "metadata": {
      "needs_background": "light"
     },
     "output_type": "display_data"
    }
   ],
   "source": [
    "plt.figure(figsize=(10,6))\n",
    "book_freq=user_book_rating['Book_Author'].value_counts().head(10)\n",
    "ax=sns.barplot(book_freq,book_freq.index,orient='h')\n",
    "abs_values=book_freq.values   \n",
    "ax.bar_label(container=ax.containers[0],labels=abs_values)\n",
    "plt.xlabel('Frequency')\n",
    "plt.title('Most frequently rated Authors',size=15)\n",
    "plt.show()"
   ]
  },
  {
   "cell_type": "code",
   "execution_count": 60,
   "id": "7c8444d0",
   "metadata": {
    "ExecuteTime": {
     "end_time": "2022-11-09T14:26:58.315962Z",
     "start_time": "2022-11-09T14:26:57.201396Z"
    }
   },
   "outputs": [
    {
     "data": {
      "image/png": "[encoded data removed]",
      "text/plain": [
       "<Figure size 720x432 with 1 Axes>"
      ]
     },
     "metadata": {
      "needs_background": "light"
     },
     "output_type": "display_data"
    }
   ],
   "source": [
    "plt.figure(figsize=(10,6))\n",
    "book_rating_freq=user_book_rating[user_book_rating['Book_Rating']==10]['Book_Author'].value_counts().head(10)\n",
    "ax=sns.barplot(book_rating_freq,book_rating_freq.index,orient='h')\n",
    "abs_values=book_rating_freq.values\n",
    "ax.bar_label(container=ax.containers[0],labels=abs_values)\n",
    "plt.xlabel('Frequency')\n",
    "plt.title('Most frequently rated(Rating=10) Authors',size=15)\n",
    "plt.show()"
   ]
  },
  {
   "cell_type": "code",
   "execution_count": 61,
   "id": "809ee663",
   "metadata": {
    "ExecuteTime": {
     "end_time": "2022-11-09T14:27:00.780101Z",
     "start_time": "2022-11-09T14:26:58.327944Z"
    }
   },
   "outputs": [
    {
     "data": {
      "image/png": "[encoded data removed]",
      "text/plain": [
       "<Figure size 720x432 with 1 Axes>"
      ]
     },
     "metadata": {
      "needs_background": "light"
     },
     "output_type": "display_data"
    }
   ],
   "source": [
    "plt.figure(figsize=(10,6))\n",
    "book_rating_freq=user_book_rating[user_book_rating['Book_Rating']==0]['Book_Author'].value_counts().head(10)\n",
    "ax=sns.barplot(book_rating_freq,book_rating_freq.index,orient='h')\n",
    "abs_values=book_rating_freq.values\n",
    "ax.bar_label(container=ax.containers[0],labels=abs_values)\n",
    "plt.xlabel('Frequency')\n",
    "plt.title('Most frequently rated(Rating=1) Authors',size=15)\n",
    "plt.show()"
   ]
  },
  {
   "cell_type": "markdown",
   "id": "9f42b95b",
   "metadata": {},
   "source": [
    "## -------------------------------------------------------------------------------------------------------------"
   ]
  },
  {
   "cell_type": "markdown",
   "id": "ffd86234",
   "metadata": {},
   "source": [
    "### Splitting data by book rating by implicit and explicit"
   ]
  },
  {
   "cell_type": "code",
   "execution_count": 62,
   "id": "6db34ae9",
   "metadata": {
    "ExecuteTime": {
     "end_time": "2022-11-09T14:27:01.273327Z",
     "start_time": "2022-11-09T14:27:00.788097Z"
    }
   },
   "outputs": [
    {
     "data": {
      "text/plain": [
       "(647294, 12)"
      ]
     },
     "execution_count": 62,
     "metadata": {},
     "output_type": "execute_result"
    }
   ],
   "source": [
    "df_implicit=user_book_rating[user_book_rating['Book_Rating']==0]\n",
    "df_implicit.shape"
   ]
  },
  {
   "cell_type": "code",
   "execution_count": 63,
   "id": "3994bf51",
   "metadata": {
    "ExecuteTime": {
     "end_time": "2022-11-09T14:27:01.621790Z",
     "start_time": "2022-11-09T14:27:01.282322Z"
    }
   },
   "outputs": [
    {
     "data": {
      "text/plain": [
       "(383841, 12)"
      ]
     },
     "execution_count": 63,
     "metadata": {},
     "output_type": "execute_result"
    }
   ],
   "source": [
    "df_explicit=user_book_rating[user_book_rating['Book_Rating']!=0]\n",
    "df_explicit.shape"
   ]
  },
  {
   "cell_type": "code",
   "execution_count": 64,
   "id": "9c3c97fb",
   "metadata": {
    "ExecuteTime": {
     "end_time": "2022-11-09T14:27:02.941706Z",
     "start_time": "2022-11-09T14:27:01.629771Z"
    }
   },
   "outputs": [
    {
     "data": {
      "image/png": "[encoded data removed]",
      "text/plain": [
       "<Figure size 1080x504 with 1 Axes>"
      ]
     },
     "metadata": {
      "needs_background": "light"
     },
     "output_type": "display_data"
    }
   ],
   "source": [
    "plt.figure(figsize=(15,7))\n",
    "ax=sns.countplot(df_explicit['Book_Rating'],order=df_explicit['Book_Rating'].value_counts().index)\n",
    "abs_values=df_explicit['Book_Rating'].value_counts().values\n",
    "rel_values=df_explicit['Book_Rating'].value_counts(normalize=True).values*100\n",
    "labels=[f'{p[0]} ({p[1]:.1f}%)' for p in zip(abs_values,rel_values)]    \n",
    "ax.bar_label(container=ax.containers[0],labels=labels,padding=5)\n",
    "plt.yticks(np.arange(0, 100000, step=5000))\n",
    "plt.title('Book Rating - Distribution',size=15)\n",
    "plt.show()"
   ]
  },
  {
   "cell_type": "code",
   "execution_count": 65,
   "id": "5ae588ab",
   "metadata": {
    "ExecuteTime": {
     "end_time": "2022-11-09T14:27:03.035564Z",
     "start_time": "2022-11-09T14:27:02.952691Z"
    }
   },
   "outputs": [
    {
     "data": {
      "text/html": [
       "<div>\n",
       "<style scoped>\n",
       "    .dataframe tbody tr th:only-of-type {\n",
       "        vertical-align: middle;\n",
       "    }\n",
       "\n",
       "    .dataframe tbody tr th {\n",
       "        vertical-align: top;\n",
       "    }\n",
       "\n",
       "    .dataframe thead th {\n",
       "        text-align: right;\n",
       "    }\n",
       "</style>\n",
       "<table border=\"1\" class=\"dataframe\">\n",
       "  <thead>\n",
       "    <tr style=\"text-align: right;\">\n",
       "      <th></th>\n",
       "      <th>User_ID</th>\n",
       "      <th>Location</th>\n",
       "      <th>Age</th>\n",
       "      <th>ISBN</th>\n",
       "      <th>Book_Rating</th>\n",
       "      <th>Book_Title</th>\n",
       "      <th>Book_Author</th>\n",
       "      <th>Year_Of_Publication</th>\n",
       "      <th>Publisher</th>\n",
       "      <th>Image_URL_S</th>\n",
       "      <th>Image_URL_M</th>\n",
       "      <th>Image_URL_L</th>\n",
       "    </tr>\n",
       "  </thead>\n",
       "  <tbody>\n",
       "    <tr>\n",
       "      <th>0</th>\n",
       "      <td>2</td>\n",
       "      <td>stockton, california, usa</td>\n",
       "      <td>18</td>\n",
       "      <td>0195153448</td>\n",
       "      <td>0</td>\n",
       "      <td>Classical Mythology</td>\n",
       "      <td>Mark P. O. Morford</td>\n",
       "      <td>2002</td>\n",
       "      <td>Oxford University Press</td>\n",
       "      <td>http://images.amazon.com/images/P/0195153448.0...</td>\n",
       "      <td>http://images.amazon.com/images/P/0195153448.0...</td>\n",
       "      <td>http://images.amazon.com/images/P/0195153448.0...</td>\n",
       "    </tr>\n",
       "    <tr>\n",
       "      <th>1</th>\n",
       "      <td>8</td>\n",
       "      <td>timmins, ontario, canada</td>\n",
       "      <td>35</td>\n",
       "      <td>0002005018</td>\n",
       "      <td>5</td>\n",
       "      <td>Clara Callan</td>\n",
       "      <td>Richard Bruce Wright</td>\n",
       "      <td>2001</td>\n",
       "      <td>HarperFlamingo Canada</td>\n",
       "      <td>http://images.amazon.com/images/P/0002005018.0...</td>\n",
       "      <td>http://images.amazon.com/images/P/0002005018.0...</td>\n",
       "      <td>http://images.amazon.com/images/P/0002005018.0...</td>\n",
       "    </tr>\n",
       "    <tr>\n",
       "      <th>2</th>\n",
       "      <td>11400</td>\n",
       "      <td>ottawa, ontario, canada</td>\n",
       "      <td>49</td>\n",
       "      <td>0002005018</td>\n",
       "      <td>0</td>\n",
       "      <td>Clara Callan</td>\n",
       "      <td>Richard Bruce Wright</td>\n",
       "      <td>2001</td>\n",
       "      <td>HarperFlamingo Canada</td>\n",
       "      <td>http://images.amazon.com/images/P/0002005018.0...</td>\n",
       "      <td>http://images.amazon.com/images/P/0002005018.0...</td>\n",
       "      <td>http://images.amazon.com/images/P/0002005018.0...</td>\n",
       "    </tr>\n",
       "    <tr>\n",
       "      <th>3</th>\n",
       "      <td>11676</td>\n",
       "      <td>n/a, n/a, n/a</td>\n",
       "      <td>35</td>\n",
       "      <td>0002005018</td>\n",
       "      <td>8</td>\n",
       "      <td>Clara Callan</td>\n",
       "      <td>Richard Bruce Wright</td>\n",
       "      <td>2001</td>\n",
       "      <td>HarperFlamingo Canada</td>\n",
       "      <td>http://images.amazon.com/images/P/0002005018.0...</td>\n",
       "      <td>http://images.amazon.com/images/P/0002005018.0...</td>\n",
       "      <td>http://images.amazon.com/images/P/0002005018.0...</td>\n",
       "    </tr>\n",
       "    <tr>\n",
       "      <th>4</th>\n",
       "      <td>41385</td>\n",
       "      <td>sudbury, ontario, canada</td>\n",
       "      <td>35</td>\n",
       "      <td>0002005018</td>\n",
       "      <td>0</td>\n",
       "      <td>Clara Callan</td>\n",
       "      <td>Richard Bruce Wright</td>\n",
       "      <td>2001</td>\n",
       "      <td>HarperFlamingo Canada</td>\n",
       "      <td>http://images.amazon.com/images/P/0002005018.0...</td>\n",
       "      <td>http://images.amazon.com/images/P/0002005018.0...</td>\n",
       "      <td>http://images.amazon.com/images/P/0002005018.0...</td>\n",
       "    </tr>\n",
       "    <tr>\n",
       "      <th>...</th>\n",
       "      <td>...</td>\n",
       "      <td>...</td>\n",
       "      <td>...</td>\n",
       "      <td>...</td>\n",
       "      <td>...</td>\n",
       "      <td>...</td>\n",
       "      <td>...</td>\n",
       "      <td>...</td>\n",
       "      <td>...</td>\n",
       "      <td>...</td>\n",
       "      <td>...</td>\n",
       "      <td>...</td>\n",
       "    </tr>\n",
       "    <tr>\n",
       "      <th>1031131</th>\n",
       "      <td>278851</td>\n",
       "      <td>dallas, texas, usa</td>\n",
       "      <td>33</td>\n",
       "      <td>0743203763</td>\n",
       "      <td>0</td>\n",
       "      <td>As Hogan Said . . . : The 389 Best Things Anyo...</td>\n",
       "      <td>Randy Voorhees</td>\n",
       "      <td>2000</td>\n",
       "      <td>Simon &amp;amp; Schuster</td>\n",
       "      <td>http://images.amazon.com/images/P/0743203763.0...</td>\n",
       "      <td>http://images.amazon.com/images/P/0743203763.0...</td>\n",
       "      <td>http://images.amazon.com/images/P/0743203763.0...</td>\n",
       "    </tr>\n",
       "    <tr>\n",
       "      <th>1031132</th>\n",
       "      <td>278851</td>\n",
       "      <td>dallas, texas, usa</td>\n",
       "      <td>33</td>\n",
       "      <td>0767907566</td>\n",
       "      <td>5</td>\n",
       "      <td>All Elevations Unknown: An Adventure in the He...</td>\n",
       "      <td>Sam Lightner</td>\n",
       "      <td>2001</td>\n",
       "      <td>Broadway Books</td>\n",
       "      <td>http://images.amazon.com/images/P/0767907566.0...</td>\n",
       "      <td>http://images.amazon.com/images/P/0767907566.0...</td>\n",
       "      <td>http://images.amazon.com/images/P/0767907566.0...</td>\n",
       "    </tr>\n",
       "    <tr>\n",
       "      <th>1031133</th>\n",
       "      <td>278851</td>\n",
       "      <td>dallas, texas, usa</td>\n",
       "      <td>33</td>\n",
       "      <td>0884159221</td>\n",
       "      <td>7</td>\n",
       "      <td>Why stop?: A guide to Texas historical roadsid...</td>\n",
       "      <td>Claude Dooley</td>\n",
       "      <td>1985</td>\n",
       "      <td>Lone Star Books</td>\n",
       "      <td>http://images.amazon.com/images/P/0884159221.0...</td>\n",
       "      <td>http://images.amazon.com/images/P/0884159221.0...</td>\n",
       "      <td>http://images.amazon.com/images/P/0884159221.0...</td>\n",
       "    </tr>\n",
       "    <tr>\n",
       "      <th>1031134</th>\n",
       "      <td>278851</td>\n",
       "      <td>dallas, texas, usa</td>\n",
       "      <td>33</td>\n",
       "      <td>0912333022</td>\n",
       "      <td>7</td>\n",
       "      <td>The Are You Being Served? Stories: 'Camping In...</td>\n",
       "      <td>Jeremy Lloyd</td>\n",
       "      <td>1997</td>\n",
       "      <td>Kqed Books</td>\n",
       "      <td>http://images.amazon.com/images/P/0912333022.0...</td>\n",
       "      <td>http://images.amazon.com/images/P/0912333022.0...</td>\n",
       "      <td>http://images.amazon.com/images/P/0912333022.0...</td>\n",
       "    </tr>\n",
       "    <tr>\n",
       "      <th>1031135</th>\n",
       "      <td>278851</td>\n",
       "      <td>dallas, texas, usa</td>\n",
       "      <td>33</td>\n",
       "      <td>1569661057</td>\n",
       "      <td>10</td>\n",
       "      <td>Dallas Street Map Guide and Directory, 2000 Ed...</td>\n",
       "      <td>Mapsco</td>\n",
       "      <td>1999</td>\n",
       "      <td>American Map Corporation</td>\n",
       "      <td>http://images.amazon.com/images/P/1569661057.0...</td>\n",
       "      <td>http://images.amazon.com/images/P/1569661057.0...</td>\n",
       "      <td>http://images.amazon.com/images/P/1569661057.0...</td>\n",
       "    </tr>\n",
       "  </tbody>\n",
       "</table>\n",
       "<p>1031135 rows × 12 columns</p>\n",
       "</div>"
      ],
      "text/plain": [
       "         User_ID                   Location  Age        ISBN  Book_Rating  \\\n",
       "0              2  stockton, california, usa   18  0195153448            0   \n",
       "1              8   timmins, ontario, canada   35  0002005018            5   \n",
       "2          11400    ottawa, ontario, canada   49  0002005018            0   \n",
       "3          11676              n/a, n/a, n/a   35  0002005018            8   \n",
       "4          41385   sudbury, ontario, canada   35  0002005018            0   \n",
       "...          ...                        ...  ...         ...          ...   \n",
       "1031131   278851         dallas, texas, usa   33  0743203763            0   \n",
       "1031132   278851         dallas, texas, usa   33  0767907566            5   \n",
       "1031133   278851         dallas, texas, usa   33  0884159221            7   \n",
       "1031134   278851         dallas, texas, usa   33  0912333022            7   \n",
       "1031135   278851         dallas, texas, usa   33  1569661057           10   \n",
       "\n",
       "                                                Book_Title  \\\n",
       "0                                      Classical Mythology   \n",
       "1                                             Clara Callan   \n",
       "2                                             Clara Callan   \n",
       "3                                             Clara Callan   \n",
       "4                                             Clara Callan   \n",
       "...                                                    ...   \n",
       "1031131  As Hogan Said . . . : The 389 Best Things Anyo...   \n",
       "1031132  All Elevations Unknown: An Adventure in the He...   \n",
       "1031133  Why stop?: A guide to Texas historical roadsid...   \n",
       "1031134  The Are You Being Served? Stories: 'Camping In...   \n",
       "1031135  Dallas Street Map Guide and Directory, 2000 Ed...   \n",
       "\n",
       "                  Book_Author  Year_Of_Publication                 Publisher  \\\n",
       "0          Mark P. O. Morford                 2002   Oxford University Press   \n",
       "1        Richard Bruce Wright                 2001     HarperFlamingo Canada   \n",
       "2        Richard Bruce Wright                 2001     HarperFlamingo Canada   \n",
       "3        Richard Bruce Wright                 2001     HarperFlamingo Canada   \n",
       "4        Richard Bruce Wright                 2001     HarperFlamingo Canada   \n",
       "...                       ...                  ...                       ...   \n",
       "1031131        Randy Voorhees                 2000      Simon &amp; Schuster   \n",
       "1031132          Sam Lightner                 2001            Broadway Books   \n",
       "1031133         Claude Dooley                 1985           Lone Star Books   \n",
       "1031134          Jeremy Lloyd                 1997                Kqed Books   \n",
       "1031135                Mapsco                 1999  American Map Corporation   \n",
       "\n",
       "                                               Image_URL_S  \\\n",
       "0        http://images.amazon.com/images/P/0195153448.0...   \n",
       "1        http://images.amazon.com/images/P/0002005018.0...   \n",
       "2        http://images.amazon.com/images/P/0002005018.0...   \n",
       "3        http://images.amazon.com/images/P/0002005018.0...   \n",
       "4        http://images.amazon.com/images/P/0002005018.0...   \n",
       "...                                                    ...   \n",
       "1031131  http://images.amazon.com/images/P/0743203763.0...   \n",
       "1031132  http://images.amazon.com/images/P/0767907566.0...   \n",
       "1031133  http://images.amazon.com/images/P/0884159221.0...   \n",
       "1031134  http://images.amazon.com/images/P/0912333022.0...   \n",
       "1031135  http://images.amazon.com/images/P/1569661057.0...   \n",
       "\n",
       "                                               Image_URL_M  \\\n",
       "0        http://images.amazon.com/images/P/0195153448.0...   \n",
       "1        http://images.amazon.com/images/P/0002005018.0...   \n",
       "2        http://images.amazon.com/images/P/0002005018.0...   \n",
       "3        http://images.amazon.com/images/P/0002005018.0...   \n",
       "4        http://images.amazon.com/images/P/0002005018.0...   \n",
       "...                                                    ...   \n",
       "1031131  http://images.amazon.com/images/P/0743203763.0...   \n",
       "1031132  http://images.amazon.com/images/P/0767907566.0...   \n",
       "1031133  http://images.amazon.com/images/P/0884159221.0...   \n",
       "1031134  http://images.amazon.com/images/P/0912333022.0...   \n",
       "1031135  http://images.amazon.com/images/P/1569661057.0...   \n",
       "\n",
       "                                               Image_URL_L  \n",
       "0        http://images.amazon.com/images/P/0195153448.0...  \n",
       "1        http://images.amazon.com/images/P/0002005018.0...  \n",
       "2        http://images.amazon.com/images/P/0002005018.0...  \n",
       "3        http://images.amazon.com/images/P/0002005018.0...  \n",
       "4        http://images.amazon.com/images/P/0002005018.0...  \n",
       "...                                                    ...  \n",
       "1031131  http://images.amazon.com/images/P/0743203763.0...  \n",
       "1031132  http://images.amazon.com/images/P/0767907566.0...  \n",
       "1031133  http://images.amazon.com/images/P/0884159221.0...  \n",
       "1031134  http://images.amazon.com/images/P/0912333022.0...  \n",
       "1031135  http://images.amazon.com/images/P/1569661057.0...  \n",
       "\n",
       "[1031135 rows x 12 columns]"
      ]
     },
     "execution_count": 65,
     "metadata": {},
     "output_type": "execute_result"
    }
   ],
   "source": [
    "user_book_rating"
   ]
  },
  {
   "cell_type": "code",
   "execution_count": 66,
   "id": "cfac69b7",
   "metadata": {
    "ExecuteTime": {
     "end_time": "2022-11-09T14:27:04.516535Z",
     "start_time": "2022-11-09T14:27:03.043548Z"
    }
   },
   "outputs": [],
   "source": [
    "import pandas as pd\n",
    "user_book_rating['User_ID']=user_book_rating['User_ID'].astype(str)"
   ]
  },
  {
   "cell_type": "code",
   "execution_count": 67,
   "id": "0f7ed1eb",
   "metadata": {
    "ExecuteTime": {
     "end_time": "2022-11-09T14:27:09.912956Z",
     "start_time": "2022-11-09T14:27:04.524714Z"
    }
   },
   "outputs": [
    {
     "name": "stdout",
     "output_type": "stream",
     "text": [
      "<class 'pandas.core.frame.DataFrame'>\n",
      "Int64Index: 1031135 entries, 0 to 1031135\n",
      "Data columns (total 12 columns):\n",
      " #   Column               Non-Null Count    Dtype \n",
      "---  ------               --------------    ----- \n",
      " 0   User_ID              1031135 non-null  object\n",
      " 1   Location             1031135 non-null  object\n",
      " 2   Age                  1031135 non-null  int32 \n",
      " 3   ISBN                 1031135 non-null  object\n",
      " 4   Book_Rating          1031135 non-null  int64 \n",
      " 5   Book_Title           1031135 non-null  object\n",
      " 6   Book_Author          1031135 non-null  object\n",
      " 7   Year_Of_Publication  1031135 non-null  int32 \n",
      " 8   Publisher            1031135 non-null  object\n",
      " 9   Image_URL_S          1031135 non-null  object\n",
      " 10  Image_URL_M          1031135 non-null  object\n",
      " 11  Image_URL_L          1031135 non-null  object\n",
      "dtypes: int32(2), int64(1), object(9)\n",
      "memory usage: 126.7+ MB\n"
     ]
    }
   ],
   "source": [
    "user_book_rating.info()"
   ]
  },
  {
   "cell_type": "code",
   "execution_count": 68,
   "id": "c9dabcf0",
   "metadata": {
    "ExecuteTime": {
     "end_time": "2022-11-09T14:27:10.463184Z",
     "start_time": "2022-11-09T14:27:09.947902Z"
    }
   },
   "outputs": [
    {
     "data": {
      "text/plain": [
       "92106"
      ]
     },
     "execution_count": 68,
     "metadata": {},
     "output_type": "execute_result"
    }
   ],
   "source": [
    "user_book_rating.User_ID.nunique()"
   ]
  },
  {
   "cell_type": "code",
   "execution_count": 69,
   "id": "b51ec7ed",
   "metadata": {
    "ExecuteTime": {
     "end_time": "2022-11-09T14:27:16.636832Z",
     "start_time": "2022-11-09T14:27:10.471173Z"
    }
   },
   "outputs": [
    {
     "data": {
      "text/plain": [
       "Index(['100004', '100009', '10001', '100010', '100053', '100066', '100088',\n",
       "       '100098', '100115', '100119',\n",
       "       ...\n",
       "       '99630', '99641', '99668', '99720', '99738', '9974', '99792', '99946',\n",
       "       '99955', '99996'],\n",
       "      dtype='object', name='User_ID', length=10842)"
      ]
     },
     "execution_count": 69,
     "metadata": {},
     "output_type": "execute_result"
    }
   ],
   "source": [
    "x=user_book_rating.groupby('User_ID').count()['Book_Rating'] >10\n",
    "padhe_likh_users=x[x].index\n",
    "padhe_likh_users"
   ]
  },
  {
   "cell_type": "code",
   "execution_count": 70,
   "id": "b2cda4b4",
   "metadata": {
    "ExecuteTime": {
     "end_time": "2022-11-09T14:27:18.535415Z",
     "start_time": "2022-11-09T14:27:16.644827Z"
    }
   },
   "outputs": [
    {
     "data": {
      "text/html": [
       "<div>\n",
       "<style scoped>\n",
       "    .dataframe tbody tr th:only-of-type {\n",
       "        vertical-align: middle;\n",
       "    }\n",
       "\n",
       "    .dataframe tbody tr th {\n",
       "        vertical-align: top;\n",
       "    }\n",
       "\n",
       "    .dataframe thead th {\n",
       "        text-align: right;\n",
       "    }\n",
       "</style>\n",
       "<table border=\"1\" class=\"dataframe\">\n",
       "  <thead>\n",
       "    <tr style=\"text-align: right;\">\n",
       "      <th></th>\n",
       "      <th>User_ID</th>\n",
       "      <th>Location</th>\n",
       "      <th>Age</th>\n",
       "      <th>ISBN</th>\n",
       "      <th>Book_Rating</th>\n",
       "      <th>Book_Title</th>\n",
       "      <th>Book_Author</th>\n",
       "      <th>Year_Of_Publication</th>\n",
       "      <th>Publisher</th>\n",
       "      <th>Image_URL_S</th>\n",
       "      <th>Image_URL_M</th>\n",
       "      <th>Image_URL_L</th>\n",
       "    </tr>\n",
       "  </thead>\n",
       "  <tbody>\n",
       "    <tr>\n",
       "      <th>1</th>\n",
       "      <td>8</td>\n",
       "      <td>timmins, ontario, canada</td>\n",
       "      <td>35</td>\n",
       "      <td>0002005018</td>\n",
       "      <td>5</td>\n",
       "      <td>Clara Callan</td>\n",
       "      <td>Richard Bruce Wright</td>\n",
       "      <td>2001</td>\n",
       "      <td>HarperFlamingo Canada</td>\n",
       "      <td>http://images.amazon.com/images/P/0002005018.0...</td>\n",
       "      <td>http://images.amazon.com/images/P/0002005018.0...</td>\n",
       "      <td>http://images.amazon.com/images/P/0002005018.0...</td>\n",
       "    </tr>\n",
       "    <tr>\n",
       "      <th>2</th>\n",
       "      <td>11400</td>\n",
       "      <td>ottawa, ontario, canada</td>\n",
       "      <td>49</td>\n",
       "      <td>0002005018</td>\n",
       "      <td>0</td>\n",
       "      <td>Clara Callan</td>\n",
       "      <td>Richard Bruce Wright</td>\n",
       "      <td>2001</td>\n",
       "      <td>HarperFlamingo Canada</td>\n",
       "      <td>http://images.amazon.com/images/P/0002005018.0...</td>\n",
       "      <td>http://images.amazon.com/images/P/0002005018.0...</td>\n",
       "      <td>http://images.amazon.com/images/P/0002005018.0...</td>\n",
       "    </tr>\n",
       "    <tr>\n",
       "      <th>3</th>\n",
       "      <td>11676</td>\n",
       "      <td>n/a, n/a, n/a</td>\n",
       "      <td>35</td>\n",
       "      <td>0002005018</td>\n",
       "      <td>8</td>\n",
       "      <td>Clara Callan</td>\n",
       "      <td>Richard Bruce Wright</td>\n",
       "      <td>2001</td>\n",
       "      <td>HarperFlamingo Canada</td>\n",
       "      <td>http://images.amazon.com/images/P/0002005018.0...</td>\n",
       "      <td>http://images.amazon.com/images/P/0002005018.0...</td>\n",
       "      <td>http://images.amazon.com/images/P/0002005018.0...</td>\n",
       "    </tr>\n",
       "    <tr>\n",
       "      <th>5</th>\n",
       "      <td>67544</td>\n",
       "      <td>toronto, ontario, canada</td>\n",
       "      <td>30</td>\n",
       "      <td>0002005018</td>\n",
       "      <td>8</td>\n",
       "      <td>Clara Callan</td>\n",
       "      <td>Richard Bruce Wright</td>\n",
       "      <td>2001</td>\n",
       "      <td>HarperFlamingo Canada</td>\n",
       "      <td>http://images.amazon.com/images/P/0002005018.0...</td>\n",
       "      <td>http://images.amazon.com/images/P/0002005018.0...</td>\n",
       "      <td>http://images.amazon.com/images/P/0002005018.0...</td>\n",
       "    </tr>\n",
       "    <tr>\n",
       "      <th>6</th>\n",
       "      <td>85526</td>\n",
       "      <td>victoria, british columbia, canada</td>\n",
       "      <td>36</td>\n",
       "      <td>0002005018</td>\n",
       "      <td>0</td>\n",
       "      <td>Clara Callan</td>\n",
       "      <td>Richard Bruce Wright</td>\n",
       "      <td>2001</td>\n",
       "      <td>HarperFlamingo Canada</td>\n",
       "      <td>http://images.amazon.com/images/P/0002005018.0...</td>\n",
       "      <td>http://images.amazon.com/images/P/0002005018.0...</td>\n",
       "      <td>http://images.amazon.com/images/P/0002005018.0...</td>\n",
       "    </tr>\n",
       "    <tr>\n",
       "      <th>...</th>\n",
       "      <td>...</td>\n",
       "      <td>...</td>\n",
       "      <td>...</td>\n",
       "      <td>...</td>\n",
       "      <td>...</td>\n",
       "      <td>...</td>\n",
       "      <td>...</td>\n",
       "      <td>...</td>\n",
       "      <td>...</td>\n",
       "      <td>...</td>\n",
       "      <td>...</td>\n",
       "      <td>...</td>\n",
       "    </tr>\n",
       "    <tr>\n",
       "      <th>1031131</th>\n",
       "      <td>278851</td>\n",
       "      <td>dallas, texas, usa</td>\n",
       "      <td>33</td>\n",
       "      <td>0743203763</td>\n",
       "      <td>0</td>\n",
       "      <td>As Hogan Said . . . : The 389 Best Things Anyo...</td>\n",
       "      <td>Randy Voorhees</td>\n",
       "      <td>2000</td>\n",
       "      <td>Simon &amp;amp; Schuster</td>\n",
       "      <td>http://images.amazon.com/images/P/0743203763.0...</td>\n",
       "      <td>http://images.amazon.com/images/P/0743203763.0...</td>\n",
       "      <td>http://images.amazon.com/images/P/0743203763.0...</td>\n",
       "    </tr>\n",
       "    <tr>\n",
       "      <th>1031132</th>\n",
       "      <td>278851</td>\n",
       "      <td>dallas, texas, usa</td>\n",
       "      <td>33</td>\n",
       "      <td>0767907566</td>\n",
       "      <td>5</td>\n",
       "      <td>All Elevations Unknown: An Adventure in the He...</td>\n",
       "      <td>Sam Lightner</td>\n",
       "      <td>2001</td>\n",
       "      <td>Broadway Books</td>\n",
       "      <td>http://images.amazon.com/images/P/0767907566.0...</td>\n",
       "      <td>http://images.amazon.com/images/P/0767907566.0...</td>\n",
       "      <td>http://images.amazon.com/images/P/0767907566.0...</td>\n",
       "    </tr>\n",
       "    <tr>\n",
       "      <th>1031133</th>\n",
       "      <td>278851</td>\n",
       "      <td>dallas, texas, usa</td>\n",
       "      <td>33</td>\n",
       "      <td>0884159221</td>\n",
       "      <td>7</td>\n",
       "      <td>Why stop?: A guide to Texas historical roadsid...</td>\n",
       "      <td>Claude Dooley</td>\n",
       "      <td>1985</td>\n",
       "      <td>Lone Star Books</td>\n",
       "      <td>http://images.amazon.com/images/P/0884159221.0...</td>\n",
       "      <td>http://images.amazon.com/images/P/0884159221.0...</td>\n",
       "      <td>http://images.amazon.com/images/P/0884159221.0...</td>\n",
       "    </tr>\n",
       "    <tr>\n",
       "      <th>1031134</th>\n",
       "      <td>278851</td>\n",
       "      <td>dallas, texas, usa</td>\n",
       "      <td>33</td>\n",
       "      <td>0912333022</td>\n",
       "      <td>7</td>\n",
       "      <td>The Are You Being Served? Stories: 'Camping In...</td>\n",
       "      <td>Jeremy Lloyd</td>\n",
       "      <td>1997</td>\n",
       "      <td>Kqed Books</td>\n",
       "      <td>http://images.amazon.com/images/P/0912333022.0...</td>\n",
       "      <td>http://images.amazon.com/images/P/0912333022.0...</td>\n",
       "      <td>http://images.amazon.com/images/P/0912333022.0...</td>\n",
       "    </tr>\n",
       "    <tr>\n",
       "      <th>1031135</th>\n",
       "      <td>278851</td>\n",
       "      <td>dallas, texas, usa</td>\n",
       "      <td>33</td>\n",
       "      <td>1569661057</td>\n",
       "      <td>10</td>\n",
       "      <td>Dallas Street Map Guide and Directory, 2000 Ed...</td>\n",
       "      <td>Mapsco</td>\n",
       "      <td>1999</td>\n",
       "      <td>American Map Corporation</td>\n",
       "      <td>http://images.amazon.com/images/P/1569661057.0...</td>\n",
       "      <td>http://images.amazon.com/images/P/1569661057.0...</td>\n",
       "      <td>http://images.amazon.com/images/P/1569661057.0...</td>\n",
       "    </tr>\n",
       "  </tbody>\n",
       "</table>\n",
       "<p>859892 rows × 12 columns</p>\n",
       "</div>"
      ],
      "text/plain": [
       "        User_ID                            Location  Age        ISBN  \\\n",
       "1             8            timmins, ontario, canada   35  0002005018   \n",
       "2         11400             ottawa, ontario, canada   49  0002005018   \n",
       "3         11676                       n/a, n/a, n/a   35  0002005018   \n",
       "5         67544            toronto, ontario, canada   30  0002005018   \n",
       "6         85526  victoria, british columbia, canada   36  0002005018   \n",
       "...         ...                                 ...  ...         ...   \n",
       "1031131  278851                  dallas, texas, usa   33  0743203763   \n",
       "1031132  278851                  dallas, texas, usa   33  0767907566   \n",
       "1031133  278851                  dallas, texas, usa   33  0884159221   \n",
       "1031134  278851                  dallas, texas, usa   33  0912333022   \n",
       "1031135  278851                  dallas, texas, usa   33  1569661057   \n",
       "\n",
       "         Book_Rating                                         Book_Title  \\\n",
       "1                  5                                       Clara Callan   \n",
       "2                  0                                       Clara Callan   \n",
       "3                  8                                       Clara Callan   \n",
       "5                  8                                       Clara Callan   \n",
       "6                  0                                       Clara Callan   \n",
       "...              ...                                                ...   \n",
       "1031131            0  As Hogan Said . . . : The 389 Best Things Anyo...   \n",
       "1031132            5  All Elevations Unknown: An Adventure in the He...   \n",
       "1031133            7  Why stop?: A guide to Texas historical roadsid...   \n",
       "1031134            7  The Are You Being Served? Stories: 'Camping In...   \n",
       "1031135           10  Dallas Street Map Guide and Directory, 2000 Ed...   \n",
       "\n",
       "                  Book_Author  Year_Of_Publication                 Publisher  \\\n",
       "1        Richard Bruce Wright                 2001     HarperFlamingo Canada   \n",
       "2        Richard Bruce Wright                 2001     HarperFlamingo Canada   \n",
       "3        Richard Bruce Wright                 2001     HarperFlamingo Canada   \n",
       "5        Richard Bruce Wright                 2001     HarperFlamingo Canada   \n",
       "6        Richard Bruce Wright                 2001     HarperFlamingo Canada   \n",
       "...                       ...                  ...                       ...   \n",
       "1031131        Randy Voorhees                 2000      Simon &amp; Schuster   \n",
       "1031132          Sam Lightner                 2001            Broadway Books   \n",
       "1031133         Claude Dooley                 1985           Lone Star Books   \n",
       "1031134          Jeremy Lloyd                 1997                Kqed Books   \n",
       "1031135                Mapsco                 1999  American Map Corporation   \n",
       "\n",
       "                                               Image_URL_S  \\\n",
       "1        http://images.amazon.com/images/P/0002005018.0...   \n",
       "2        http://images.amazon.com/images/P/0002005018.0...   \n",
       "3        http://images.amazon.com/images/P/0002005018.0...   \n",
       "5        http://images.amazon.com/images/P/0002005018.0...   \n",
       "6        http://images.amazon.com/images/P/0002005018.0...   \n",
       "...                                                    ...   \n",
       "1031131  http://images.amazon.com/images/P/0743203763.0...   \n",
       "1031132  http://images.amazon.com/images/P/0767907566.0...   \n",
       "1031133  http://images.amazon.com/images/P/0884159221.0...   \n",
       "1031134  http://images.amazon.com/images/P/0912333022.0...   \n",
       "1031135  http://images.amazon.com/images/P/1569661057.0...   \n",
       "\n",
       "                                               Image_URL_M  \\\n",
       "1        http://images.amazon.com/images/P/0002005018.0...   \n",
       "2        http://images.amazon.com/images/P/0002005018.0...   \n",
       "3        http://images.amazon.com/images/P/0002005018.0...   \n",
       "5        http://images.amazon.com/images/P/0002005018.0...   \n",
       "6        http://images.amazon.com/images/P/0002005018.0...   \n",
       "...                                                    ...   \n",
       "1031131  http://images.amazon.com/images/P/0743203763.0...   \n",
       "1031132  http://images.amazon.com/images/P/0767907566.0...   \n",
       "1031133  http://images.amazon.com/images/P/0884159221.0...   \n",
       "1031134  http://images.amazon.com/images/P/0912333022.0...   \n",
       "1031135  http://images.amazon.com/images/P/1569661057.0...   \n",
       "\n",
       "                                               Image_URL_L  \n",
       "1        http://images.amazon.com/images/P/0002005018.0...  \n",
       "2        http://images.amazon.com/images/P/0002005018.0...  \n",
       "3        http://images.amazon.com/images/P/0002005018.0...  \n",
       "5        http://images.amazon.com/images/P/0002005018.0...  \n",
       "6        http://images.amazon.com/images/P/0002005018.0...  \n",
       "...                                                    ...  \n",
       "1031131  http://images.amazon.com/images/P/0743203763.0...  \n",
       "1031132  http://images.amazon.com/images/P/0767907566.0...  \n",
       "1031133  http://images.amazon.com/images/P/0884159221.0...  \n",
       "1031134  http://images.amazon.com/images/P/0912333022.0...  \n",
       "1031135  http://images.amazon.com/images/P/1569661057.0...  \n",
       "\n",
       "[859892 rows x 12 columns]"
      ]
     },
     "execution_count": 70,
     "metadata": {},
     "output_type": "execute_result"
    }
   ],
   "source": [
    "filter_user=user_book_rating[user_book_rating['User_ID'].isin(padhe_likh_users)]\n",
    "filter_user"
   ]
  },
  {
   "cell_type": "code",
   "execution_count": 71,
   "id": "62829357",
   "metadata": {
    "ExecuteTime": {
     "end_time": "2022-11-09T14:27:24.824719Z",
     "start_time": "2022-11-09T14:27:18.545406Z"
    }
   },
   "outputs": [
    {
     "data": {
      "text/plain": [
       "Index([' Murder of a Sleeping Beauty (Scumble River Mysteries (Paperback))',\n",
       "       ' Q-Space (Star Trek The Next Generation, Book 47)',\n",
       "       ' Q-Zone (Star Trek The Next Generation, Book 48)', ''Salem's Lot',\n",
       "       '...AND THE HORSE HE RODE IN ON : THE PEOPLE V. KENNETH STARR',\n",
       "       '01-01-00: The Novel of the Millennium',\n",
       "       '1,000 Places to See Before You Die', '10 Lb. Penalty',\n",
       "       '1001 Ways to Be Romantic', '1001 Ways to Cut Your Expenses',\n",
       "       ...\n",
       "       'Zoya's Story: An Afghan Woman's Struggle for Freedom', 'ZwÃ?Â¶lf.',\n",
       "       '\\ Lamb to the Slaughter and Other Stories (Penguin 60s S.)\"',\n",
       "       '\\A\\\" is for Alibi : A Kinsey Millhone Mystery (A Kinsey Millhone Mystery)\"',\n",
       "       '\\O\\\" Is for Outlaw\"',\n",
       "       '\\Surely You're Joking, Mr. Feynman!\\\": Adventures of a Curious Character\"',\n",
       "       '\\The Happy Prince\\\" and Other Stories (Penguin Popular Classics)\"',\n",
       "       'e', 'one hundred years of solitude', 'stardust'],\n",
       "      dtype='object', name='Book_Title', length=14680)"
      ]
     },
     "execution_count": 71,
     "metadata": {},
     "output_type": "execute_result"
    }
   ],
   "source": [
    "y=filter_user.groupby('Book_Title').count()['Book_Rating']>=10\n",
    "famous_book=y[y].index\n",
    "famous_book"
   ]
  },
  {
   "cell_type": "code",
   "execution_count": 72,
   "id": "8f4b2c42",
   "metadata": {
    "ExecuteTime": {
     "end_time": "2022-11-09T14:27:25.378849Z",
     "start_time": "2022-11-09T14:27:24.833708Z"
    },
    "scrolled": true
   },
   "outputs": [
    {
     "data": {
      "text/html": [
       "<div>\n",
       "<style scoped>\n",
       "    .dataframe tbody tr th:only-of-type {\n",
       "        vertical-align: middle;\n",
       "    }\n",
       "\n",
       "    .dataframe tbody tr th {\n",
       "        vertical-align: top;\n",
       "    }\n",
       "\n",
       "    .dataframe thead th {\n",
       "        text-align: right;\n",
       "    }\n",
       "</style>\n",
       "<table border=\"1\" class=\"dataframe\">\n",
       "  <thead>\n",
       "    <tr style=\"text-align: right;\">\n",
       "      <th></th>\n",
       "      <th>User_ID</th>\n",
       "      <th>Location</th>\n",
       "      <th>Age</th>\n",
       "      <th>ISBN</th>\n",
       "      <th>Book_Rating</th>\n",
       "      <th>Book_Title</th>\n",
       "      <th>Book_Author</th>\n",
       "      <th>Year_Of_Publication</th>\n",
       "      <th>Publisher</th>\n",
       "      <th>Image_URL_S</th>\n",
       "      <th>Image_URL_M</th>\n",
       "      <th>Image_URL_L</th>\n",
       "    </tr>\n",
       "  </thead>\n",
       "  <tbody>\n",
       "    <tr>\n",
       "      <th>1</th>\n",
       "      <td>8</td>\n",
       "      <td>timmins, ontario, canada</td>\n",
       "      <td>35</td>\n",
       "      <td>0002005018</td>\n",
       "      <td>5</td>\n",
       "      <td>Clara Callan</td>\n",
       "      <td>Richard Bruce Wright</td>\n",
       "      <td>2001</td>\n",
       "      <td>HarperFlamingo Canada</td>\n",
       "      <td>http://images.amazon.com/images/P/0002005018.0...</td>\n",
       "      <td>http://images.amazon.com/images/P/0002005018.0...</td>\n",
       "      <td>http://images.amazon.com/images/P/0002005018.0...</td>\n",
       "    </tr>\n",
       "    <tr>\n",
       "      <th>2</th>\n",
       "      <td>11400</td>\n",
       "      <td>ottawa, ontario, canada</td>\n",
       "      <td>49</td>\n",
       "      <td>0002005018</td>\n",
       "      <td>0</td>\n",
       "      <td>Clara Callan</td>\n",
       "      <td>Richard Bruce Wright</td>\n",
       "      <td>2001</td>\n",
       "      <td>HarperFlamingo Canada</td>\n",
       "      <td>http://images.amazon.com/images/P/0002005018.0...</td>\n",
       "      <td>http://images.amazon.com/images/P/0002005018.0...</td>\n",
       "      <td>http://images.amazon.com/images/P/0002005018.0...</td>\n",
       "    </tr>\n",
       "    <tr>\n",
       "      <th>3</th>\n",
       "      <td>11676</td>\n",
       "      <td>n/a, n/a, n/a</td>\n",
       "      <td>35</td>\n",
       "      <td>0002005018</td>\n",
       "      <td>8</td>\n",
       "      <td>Clara Callan</td>\n",
       "      <td>Richard Bruce Wright</td>\n",
       "      <td>2001</td>\n",
       "      <td>HarperFlamingo Canada</td>\n",
       "      <td>http://images.amazon.com/images/P/0002005018.0...</td>\n",
       "      <td>http://images.amazon.com/images/P/0002005018.0...</td>\n",
       "      <td>http://images.amazon.com/images/P/0002005018.0...</td>\n",
       "    </tr>\n",
       "    <tr>\n",
       "      <th>5</th>\n",
       "      <td>67544</td>\n",
       "      <td>toronto, ontario, canada</td>\n",
       "      <td>30</td>\n",
       "      <td>0002005018</td>\n",
       "      <td>8</td>\n",
       "      <td>Clara Callan</td>\n",
       "      <td>Richard Bruce Wright</td>\n",
       "      <td>2001</td>\n",
       "      <td>HarperFlamingo Canada</td>\n",
       "      <td>http://images.amazon.com/images/P/0002005018.0...</td>\n",
       "      <td>http://images.amazon.com/images/P/0002005018.0...</td>\n",
       "      <td>http://images.amazon.com/images/P/0002005018.0...</td>\n",
       "    </tr>\n",
       "    <tr>\n",
       "      <th>6</th>\n",
       "      <td>85526</td>\n",
       "      <td>victoria, british columbia, canada</td>\n",
       "      <td>36</td>\n",
       "      <td>0002005018</td>\n",
       "      <td>0</td>\n",
       "      <td>Clara Callan</td>\n",
       "      <td>Richard Bruce Wright</td>\n",
       "      <td>2001</td>\n",
       "      <td>HarperFlamingo Canada</td>\n",
       "      <td>http://images.amazon.com/images/P/0002005018.0...</td>\n",
       "      <td>http://images.amazon.com/images/P/0002005018.0...</td>\n",
       "      <td>http://images.amazon.com/images/P/0002005018.0...</td>\n",
       "    </tr>\n",
       "    <tr>\n",
       "      <th>...</th>\n",
       "      <td>...</td>\n",
       "      <td>...</td>\n",
       "      <td>...</td>\n",
       "      <td>...</td>\n",
       "      <td>...</td>\n",
       "      <td>...</td>\n",
       "      <td>...</td>\n",
       "      <td>...</td>\n",
       "      <td>...</td>\n",
       "      <td>...</td>\n",
       "      <td>...</td>\n",
       "      <td>...</td>\n",
       "    </tr>\n",
       "    <tr>\n",
       "      <th>1030898</th>\n",
       "      <td>278418</td>\n",
       "      <td>omaha, nebraska, usa</td>\n",
       "      <td>35</td>\n",
       "      <td>0871238292</td>\n",
       "      <td>0</td>\n",
       "      <td>Love's Enduring Promise (Love Comes Softly, Bo...</td>\n",
       "      <td>Janette Oke</td>\n",
       "      <td>1985</td>\n",
       "      <td>Bethany House Publishers</td>\n",
       "      <td>http://images.amazon.com/images/P/0871238292.0...</td>\n",
       "      <td>http://images.amazon.com/images/P/0871238292.0...</td>\n",
       "      <td>http://images.amazon.com/images/P/0871238292.0...</td>\n",
       "    </tr>\n",
       "    <tr>\n",
       "      <th>1030899</th>\n",
       "      <td>278418</td>\n",
       "      <td>omaha, nebraska, usa</td>\n",
       "      <td>35</td>\n",
       "      <td>0871238543</td>\n",
       "      <td>0</td>\n",
       "      <td>Love's Abiding Joy (Love Comes Softly, Book 4)</td>\n",
       "      <td>Janette Oke</td>\n",
       "      <td>1985</td>\n",
       "      <td>Baker Pub Group</td>\n",
       "      <td>http://images.amazon.com/images/P/0871238543.0...</td>\n",
       "      <td>http://images.amazon.com/images/P/0871238543.0...</td>\n",
       "      <td>http://images.amazon.com/images/P/0871238543.0...</td>\n",
       "    </tr>\n",
       "    <tr>\n",
       "      <th>1030980</th>\n",
       "      <td>278418</td>\n",
       "      <td>omaha, nebraska, usa</td>\n",
       "      <td>35</td>\n",
       "      <td>1559274034</td>\n",
       "      <td>0</td>\n",
       "      <td>James Herriot's Favorite Dog Stories</td>\n",
       "      <td>James Herriot</td>\n",
       "      <td>1996</td>\n",
       "      <td>Audio Renaissance</td>\n",
       "      <td>http://images.amazon.com/images/P/1559274034.0...</td>\n",
       "      <td>http://images.amazon.com/images/P/1559274034.0...</td>\n",
       "      <td>http://images.amazon.com/images/P/1559274034.0...</td>\n",
       "    </tr>\n",
       "    <tr>\n",
       "      <th>1031026</th>\n",
       "      <td>278418</td>\n",
       "      <td>omaha, nebraska, usa</td>\n",
       "      <td>35</td>\n",
       "      <td>1570960100</td>\n",
       "      <td>0</td>\n",
       "      <td>Rogue</td>\n",
       "      <td>Fabio</td>\n",
       "      <td>1994</td>\n",
       "      <td>Romance Alive Audio Books</td>\n",
       "      <td>http://images.amazon.com/images/P/1570960100.0...</td>\n",
       "      <td>http://images.amazon.com/images/P/1570960100.0...</td>\n",
       "      <td>http://images.amazon.com/images/P/1570960100.0...</td>\n",
       "    </tr>\n",
       "    <tr>\n",
       "      <th>1031048</th>\n",
       "      <td>278418</td>\n",
       "      <td>omaha, nebraska, usa</td>\n",
       "      <td>35</td>\n",
       "      <td>1577191641</td>\n",
       "      <td>0</td>\n",
       "      <td>The Tale of Squirrel Nutkin</td>\n",
       "      <td>Beatrix Potter</td>\n",
       "      <td>1997</td>\n",
       "      <td>Inchworm Press</td>\n",
       "      <td>http://images.amazon.com/images/P/1577191641.0...</td>\n",
       "      <td>http://images.amazon.com/images/P/1577191641.0...</td>\n",
       "      <td>http://images.amazon.com/images/P/1577191641.0...</td>\n",
       "    </tr>\n",
       "  </tbody>\n",
       "</table>\n",
       "<p>445072 rows × 12 columns</p>\n",
       "</div>"
      ],
      "text/plain": [
       "        User_ID                            Location  Age        ISBN  \\\n",
       "1             8            timmins, ontario, canada   35  0002005018   \n",
       "2         11400             ottawa, ontario, canada   49  0002005018   \n",
       "3         11676                       n/a, n/a, n/a   35  0002005018   \n",
       "5         67544            toronto, ontario, canada   30  0002005018   \n",
       "6         85526  victoria, british columbia, canada   36  0002005018   \n",
       "...         ...                                 ...  ...         ...   \n",
       "1030898  278418                omaha, nebraska, usa   35  0871238292   \n",
       "1030899  278418                omaha, nebraska, usa   35  0871238543   \n",
       "1030980  278418                omaha, nebraska, usa   35  1559274034   \n",
       "1031026  278418                omaha, nebraska, usa   35  1570960100   \n",
       "1031048  278418                omaha, nebraska, usa   35  1577191641   \n",
       "\n",
       "         Book_Rating                                         Book_Title  \\\n",
       "1                  5                                       Clara Callan   \n",
       "2                  0                                       Clara Callan   \n",
       "3                  8                                       Clara Callan   \n",
       "5                  8                                       Clara Callan   \n",
       "6                  0                                       Clara Callan   \n",
       "...              ...                                                ...   \n",
       "1030898            0  Love's Enduring Promise (Love Comes Softly, Bo...   \n",
       "1030899            0     Love's Abiding Joy (Love Comes Softly, Book 4)   \n",
       "1030980            0               James Herriot's Favorite Dog Stories   \n",
       "1031026            0                                              Rogue   \n",
       "1031048            0                        The Tale of Squirrel Nutkin   \n",
       "\n",
       "                  Book_Author  Year_Of_Publication                  Publisher  \\\n",
       "1        Richard Bruce Wright                 2001      HarperFlamingo Canada   \n",
       "2        Richard Bruce Wright                 2001      HarperFlamingo Canada   \n",
       "3        Richard Bruce Wright                 2001      HarperFlamingo Canada   \n",
       "5        Richard Bruce Wright                 2001      HarperFlamingo Canada   \n",
       "6        Richard Bruce Wright                 2001      HarperFlamingo Canada   \n",
       "...                       ...                  ...                        ...   \n",
       "1030898           Janette Oke                 1985   Bethany House Publishers   \n",
       "1030899           Janette Oke                 1985            Baker Pub Group   \n",
       "1030980         James Herriot                 1996          Audio Renaissance   \n",
       "1031026                 Fabio                 1994  Romance Alive Audio Books   \n",
       "1031048        Beatrix Potter                 1997             Inchworm Press   \n",
       "\n",
       "                                               Image_URL_S  \\\n",
       "1        http://images.amazon.com/images/P/0002005018.0...   \n",
       "2        http://images.amazon.com/images/P/0002005018.0...   \n",
       "3        http://images.amazon.com/images/P/0002005018.0...   \n",
       "5        http://images.amazon.com/images/P/0002005018.0...   \n",
       "6        http://images.amazon.com/images/P/0002005018.0...   \n",
       "...                                                    ...   \n",
       "1030898  http://images.amazon.com/images/P/0871238292.0...   \n",
       "1030899  http://images.amazon.com/images/P/0871238543.0...   \n",
       "1030980  http://images.amazon.com/images/P/1559274034.0...   \n",
       "1031026  http://images.amazon.com/images/P/1570960100.0...   \n",
       "1031048  http://images.amazon.com/images/P/1577191641.0...   \n",
       "\n",
       "                                               Image_URL_M  \\\n",
       "1        http://images.amazon.com/images/P/0002005018.0...   \n",
       "2        http://images.amazon.com/images/P/0002005018.0...   \n",
       "3        http://images.amazon.com/images/P/0002005018.0...   \n",
       "5        http://images.amazon.com/images/P/0002005018.0...   \n",
       "6        http://images.amazon.com/images/P/0002005018.0...   \n",
       "...                                                    ...   \n",
       "1030898  http://images.amazon.com/images/P/0871238292.0...   \n",
       "1030899  http://images.amazon.com/images/P/0871238543.0...   \n",
       "1030980  http://images.amazon.com/images/P/1559274034.0...   \n",
       "1031026  http://images.amazon.com/images/P/1570960100.0...   \n",
       "1031048  http://images.amazon.com/images/P/1577191641.0...   \n",
       "\n",
       "                                               Image_URL_L  \n",
       "1        http://images.amazon.com/images/P/0002005018.0...  \n",
       "2        http://images.amazon.com/images/P/0002005018.0...  \n",
       "3        http://images.amazon.com/images/P/0002005018.0...  \n",
       "5        http://images.amazon.com/images/P/0002005018.0...  \n",
       "6        http://images.amazon.com/images/P/0002005018.0...  \n",
       "...                                                    ...  \n",
       "1030898  http://images.amazon.com/images/P/0871238292.0...  \n",
       "1030899  http://images.amazon.com/images/P/0871238543.0...  \n",
       "1030980  http://images.amazon.com/images/P/1559274034.0...  \n",
       "1031026  http://images.amazon.com/images/P/1570960100.0...  \n",
       "1031048  http://images.amazon.com/images/P/1577191641.0...  \n",
       "\n",
       "[445072 rows x 12 columns]"
      ]
     },
     "execution_count": 72,
     "metadata": {},
     "output_type": "execute_result"
    }
   ],
   "source": [
    "final=filter_user[filter_user['Book_Title'].isin(famous_book)]\n",
    "final"
   ]
  },
  {
   "cell_type": "code",
   "execution_count": 73,
   "id": "16c939fb",
   "metadata": {
    "ExecuteTime": {
     "end_time": "2022-11-09T14:28:20.482962Z",
     "start_time": "2022-11-09T14:27:25.387837Z"
    },
    "scrolled": true
   },
   "outputs": [
    {
     "data": {
      "text/html": [
       "<div>\n",
       "<style scoped>\n",
       "    .dataframe tbody tr th:only-of-type {\n",
       "        vertical-align: middle;\n",
       "    }\n",
       "\n",
       "    .dataframe tbody tr th {\n",
       "        vertical-align: top;\n",
       "    }\n",
       "\n",
       "    .dataframe thead th {\n",
       "        text-align: right;\n",
       "    }\n",
       "</style>\n",
       "<table border=\"1\" class=\"dataframe\">\n",
       "  <thead>\n",
       "    <tr style=\"text-align: right;\">\n",
       "      <th>Book_Title</th>\n",
       "      <th>Murder of a Sleeping Beauty (Scumble River Mysteries (Paperback))</th>\n",
       "      <th>Q-Space (Star Trek The Next Generation, Book 47)</th>\n",
       "      <th>Q-Zone (Star Trek The Next Generation, Book 48)</th>\n",
       "      <th>'Salem's Lot</th>\n",
       "      <th>...AND THE HORSE HE RODE IN ON : THE PEOPLE V. KENNETH STARR</th>\n",
       "      <th>01-01-00: The Novel of the Millennium</th>\n",
       "      <th>1,000 Places to See Before You Die</th>\n",
       "      <th>10 Lb. Penalty</th>\n",
       "      <th>1001 Ways to Be Romantic</th>\n",
       "      <th>1001 Ways to Cut Your Expenses</th>\n",
       "      <th>...</th>\n",
       "      <th>Zoya's Story: An Afghan Woman's Struggle for Freedom</th>\n",
       "      <th>ZwÃ?Â¶lf.</th>\n",
       "      <th>\\ Lamb to the Slaughter and Other Stories (Penguin 60s S.)\"</th>\n",
       "      <th>\\A\\\" is for Alibi : A Kinsey Millhone Mystery (A Kinsey Millhone Mystery)\"</th>\n",
       "      <th>\\O\\\" Is for Outlaw\"</th>\n",
       "      <th>\\Surely You're Joking, Mr. Feynman!\\\": Adventures of a Curious Character\"</th>\n",
       "      <th>\\The Happy Prince\\\" and Other Stories (Penguin Popular Classics)\"</th>\n",
       "      <th>e</th>\n",
       "      <th>one hundred years of solitude</th>\n",
       "      <th>stardust</th>\n",
       "    </tr>\n",
       "    <tr>\n",
       "      <th>User_ID</th>\n",
       "      <th></th>\n",
       "      <th></th>\n",
       "      <th></th>\n",
       "      <th></th>\n",
       "      <th></th>\n",
       "      <th></th>\n",
       "      <th></th>\n",
       "      <th></th>\n",
       "      <th></th>\n",
       "      <th></th>\n",
       "      <th></th>\n",
       "      <th></th>\n",
       "      <th></th>\n",
       "      <th></th>\n",
       "      <th></th>\n",
       "      <th></th>\n",
       "      <th></th>\n",
       "      <th></th>\n",
       "      <th></th>\n",
       "      <th></th>\n",
       "      <th></th>\n",
       "    </tr>\n",
       "  </thead>\n",
       "  <tbody>\n",
       "    <tr>\n",
       "      <th>100004</th>\n",
       "      <td>0.0</td>\n",
       "      <td>0.0</td>\n",
       "      <td>0.0</td>\n",
       "      <td>0.0</td>\n",
       "      <td>0.0</td>\n",
       "      <td>0.0</td>\n",
       "      <td>0.0</td>\n",
       "      <td>0.0</td>\n",
       "      <td>0.0</td>\n",
       "      <td>0.0</td>\n",
       "      <td>...</td>\n",
       "      <td>0.0</td>\n",
       "      <td>0.0</td>\n",
       "      <td>0.0</td>\n",
       "      <td>0.0</td>\n",
       "      <td>0.0</td>\n",
       "      <td>0.0</td>\n",
       "      <td>0.0</td>\n",
       "      <td>0.0</td>\n",
       "      <td>0.0</td>\n",
       "      <td>0.0</td>\n",
       "    </tr>\n",
       "    <tr>\n",
       "      <th>100009</th>\n",
       "      <td>0.0</td>\n",
       "      <td>0.0</td>\n",
       "      <td>0.0</td>\n",
       "      <td>0.0</td>\n",
       "      <td>0.0</td>\n",
       "      <td>0.0</td>\n",
       "      <td>0.0</td>\n",
       "      <td>0.0</td>\n",
       "      <td>0.0</td>\n",
       "      <td>0.0</td>\n",
       "      <td>...</td>\n",
       "      <td>0.0</td>\n",
       "      <td>0.0</td>\n",
       "      <td>0.0</td>\n",
       "      <td>0.0</td>\n",
       "      <td>0.0</td>\n",
       "      <td>0.0</td>\n",
       "      <td>0.0</td>\n",
       "      <td>0.0</td>\n",
       "      <td>0.0</td>\n",
       "      <td>0.0</td>\n",
       "    </tr>\n",
       "    <tr>\n",
       "      <th>10001</th>\n",
       "      <td>0.0</td>\n",
       "      <td>0.0</td>\n",
       "      <td>0.0</td>\n",
       "      <td>0.0</td>\n",
       "      <td>0.0</td>\n",
       "      <td>0.0</td>\n",
       "      <td>0.0</td>\n",
       "      <td>0.0</td>\n",
       "      <td>0.0</td>\n",
       "      <td>0.0</td>\n",
       "      <td>...</td>\n",
       "      <td>0.0</td>\n",
       "      <td>0.0</td>\n",
       "      <td>0.0</td>\n",
       "      <td>0.0</td>\n",
       "      <td>0.0</td>\n",
       "      <td>0.0</td>\n",
       "      <td>0.0</td>\n",
       "      <td>0.0</td>\n",
       "      <td>0.0</td>\n",
       "      <td>0.0</td>\n",
       "    </tr>\n",
       "    <tr>\n",
       "      <th>100010</th>\n",
       "      <td>0.0</td>\n",
       "      <td>0.0</td>\n",
       "      <td>0.0</td>\n",
       "      <td>0.0</td>\n",
       "      <td>0.0</td>\n",
       "      <td>0.0</td>\n",
       "      <td>0.0</td>\n",
       "      <td>0.0</td>\n",
       "      <td>0.0</td>\n",
       "      <td>0.0</td>\n",
       "      <td>...</td>\n",
       "      <td>0.0</td>\n",
       "      <td>0.0</td>\n",
       "      <td>0.0</td>\n",
       "      <td>0.0</td>\n",
       "      <td>0.0</td>\n",
       "      <td>0.0</td>\n",
       "      <td>0.0</td>\n",
       "      <td>0.0</td>\n",
       "      <td>0.0</td>\n",
       "      <td>0.0</td>\n",
       "    </tr>\n",
       "    <tr>\n",
       "      <th>100053</th>\n",
       "      <td>0.0</td>\n",
       "      <td>0.0</td>\n",
       "      <td>0.0</td>\n",
       "      <td>0.0</td>\n",
       "      <td>0.0</td>\n",
       "      <td>0.0</td>\n",
       "      <td>0.0</td>\n",
       "      <td>0.0</td>\n",
       "      <td>0.0</td>\n",
       "      <td>0.0</td>\n",
       "      <td>...</td>\n",
       "      <td>0.0</td>\n",
       "      <td>0.0</td>\n",
       "      <td>0.0</td>\n",
       "      <td>0.0</td>\n",
       "      <td>0.0</td>\n",
       "      <td>0.0</td>\n",
       "      <td>0.0</td>\n",
       "      <td>0.0</td>\n",
       "      <td>0.0</td>\n",
       "      <td>0.0</td>\n",
       "    </tr>\n",
       "    <tr>\n",
       "      <th>...</th>\n",
       "      <td>...</td>\n",
       "      <td>...</td>\n",
       "      <td>...</td>\n",
       "      <td>...</td>\n",
       "      <td>...</td>\n",
       "      <td>...</td>\n",
       "      <td>...</td>\n",
       "      <td>...</td>\n",
       "      <td>...</td>\n",
       "      <td>...</td>\n",
       "      <td>...</td>\n",
       "      <td>...</td>\n",
       "      <td>...</td>\n",
       "      <td>...</td>\n",
       "      <td>...</td>\n",
       "      <td>...</td>\n",
       "      <td>...</td>\n",
       "      <td>...</td>\n",
       "      <td>...</td>\n",
       "      <td>...</td>\n",
       "      <td>...</td>\n",
       "    </tr>\n",
       "    <tr>\n",
       "      <th>9974</th>\n",
       "      <td>0.0</td>\n",
       "      <td>0.0</td>\n",
       "      <td>0.0</td>\n",
       "      <td>0.0</td>\n",
       "      <td>0.0</td>\n",
       "      <td>0.0</td>\n",
       "      <td>0.0</td>\n",
       "      <td>0.0</td>\n",
       "      <td>0.0</td>\n",
       "      <td>0.0</td>\n",
       "      <td>...</td>\n",
       "      <td>0.0</td>\n",
       "      <td>0.0</td>\n",
       "      <td>0.0</td>\n",
       "      <td>0.0</td>\n",
       "      <td>0.0</td>\n",
       "      <td>0.0</td>\n",
       "      <td>0.0</td>\n",
       "      <td>0.0</td>\n",
       "      <td>0.0</td>\n",
       "      <td>0.0</td>\n",
       "    </tr>\n",
       "    <tr>\n",
       "      <th>99792</th>\n",
       "      <td>0.0</td>\n",
       "      <td>0.0</td>\n",
       "      <td>0.0</td>\n",
       "      <td>0.0</td>\n",
       "      <td>0.0</td>\n",
       "      <td>0.0</td>\n",
       "      <td>0.0</td>\n",
       "      <td>0.0</td>\n",
       "      <td>0.0</td>\n",
       "      <td>0.0</td>\n",
       "      <td>...</td>\n",
       "      <td>0.0</td>\n",
       "      <td>0.0</td>\n",
       "      <td>0.0</td>\n",
       "      <td>0.0</td>\n",
       "      <td>0.0</td>\n",
       "      <td>0.0</td>\n",
       "      <td>0.0</td>\n",
       "      <td>0.0</td>\n",
       "      <td>0.0</td>\n",
       "      <td>0.0</td>\n",
       "    </tr>\n",
       "    <tr>\n",
       "      <th>99946</th>\n",
       "      <td>0.0</td>\n",
       "      <td>0.0</td>\n",
       "      <td>0.0</td>\n",
       "      <td>0.0</td>\n",
       "      <td>0.0</td>\n",
       "      <td>0.0</td>\n",
       "      <td>0.0</td>\n",
       "      <td>0.0</td>\n",
       "      <td>0.0</td>\n",
       "      <td>0.0</td>\n",
       "      <td>...</td>\n",
       "      <td>0.0</td>\n",
       "      <td>0.0</td>\n",
       "      <td>0.0</td>\n",
       "      <td>0.0</td>\n",
       "      <td>0.0</td>\n",
       "      <td>0.0</td>\n",
       "      <td>0.0</td>\n",
       "      <td>0.0</td>\n",
       "      <td>0.0</td>\n",
       "      <td>0.0</td>\n",
       "    </tr>\n",
       "    <tr>\n",
       "      <th>99955</th>\n",
       "      <td>0.0</td>\n",
       "      <td>0.0</td>\n",
       "      <td>0.0</td>\n",
       "      <td>0.0</td>\n",
       "      <td>0.0</td>\n",
       "      <td>0.0</td>\n",
       "      <td>0.0</td>\n",
       "      <td>0.0</td>\n",
       "      <td>0.0</td>\n",
       "      <td>0.0</td>\n",
       "      <td>...</td>\n",
       "      <td>0.0</td>\n",
       "      <td>0.0</td>\n",
       "      <td>0.0</td>\n",
       "      <td>0.0</td>\n",
       "      <td>0.0</td>\n",
       "      <td>0.0</td>\n",
       "      <td>0.0</td>\n",
       "      <td>0.0</td>\n",
       "      <td>0.0</td>\n",
       "      <td>0.0</td>\n",
       "    </tr>\n",
       "    <tr>\n",
       "      <th>99996</th>\n",
       "      <td>0.0</td>\n",
       "      <td>0.0</td>\n",
       "      <td>0.0</td>\n",
       "      <td>0.0</td>\n",
       "      <td>0.0</td>\n",
       "      <td>0.0</td>\n",
       "      <td>0.0</td>\n",
       "      <td>0.0</td>\n",
       "      <td>0.0</td>\n",
       "      <td>0.0</td>\n",
       "      <td>...</td>\n",
       "      <td>0.0</td>\n",
       "      <td>0.0</td>\n",
       "      <td>0.0</td>\n",
       "      <td>0.0</td>\n",
       "      <td>0.0</td>\n",
       "      <td>0.0</td>\n",
       "      <td>0.0</td>\n",
       "      <td>0.0</td>\n",
       "      <td>0.0</td>\n",
       "      <td>0.0</td>\n",
       "    </tr>\n",
       "  </tbody>\n",
       "</table>\n",
       "<p>10723 rows × 14680 columns</p>\n",
       "</div>"
      ],
      "text/plain": [
       "Book_Title   Murder of a Sleeping Beauty (Scumble River Mysteries (Paperback))  \\\n",
       "User_ID                                                                          \n",
       "100004                                                    0.0                    \n",
       "100009                                                    0.0                    \n",
       "10001                                                     0.0                    \n",
       "100010                                                    0.0                    \n",
       "100053                                                    0.0                    \n",
       "...                                                       ...                    \n",
       "9974                                                      0.0                    \n",
       "99792                                                     0.0                    \n",
       "99946                                                     0.0                    \n",
       "99955                                                     0.0                    \n",
       "99996                                                     0.0                    \n",
       "\n",
       "Book_Title   Q-Space (Star Trek The Next Generation, Book 47)  \\\n",
       "User_ID                                                         \n",
       "100004                                                    0.0   \n",
       "100009                                                    0.0   \n",
       "10001                                                     0.0   \n",
       "100010                                                    0.0   \n",
       "100053                                                    0.0   \n",
       "...                                                       ...   \n",
       "9974                                                      0.0   \n",
       "99792                                                     0.0   \n",
       "99946                                                     0.0   \n",
       "99955                                                     0.0   \n",
       "99996                                                     0.0   \n",
       "\n",
       "Book_Title   Q-Zone (Star Trek The Next Generation, Book 48)  'Salem's Lot  \\\n",
       "User_ID                                                                      \n",
       "100004                                                   0.0           0.0   \n",
       "100009                                                   0.0           0.0   \n",
       "10001                                                    0.0           0.0   \n",
       "100010                                                   0.0           0.0   \n",
       "100053                                                   0.0           0.0   \n",
       "...                                                      ...           ...   \n",
       "9974                                                     0.0           0.0   \n",
       "99792                                                    0.0           0.0   \n",
       "99946                                                    0.0           0.0   \n",
       "99955                                                    0.0           0.0   \n",
       "99996                                                    0.0           0.0   \n",
       "\n",
       "Book_Title  ...AND THE HORSE HE RODE IN ON : THE PEOPLE V. KENNETH STARR  \\\n",
       "User_ID                                                                    \n",
       "100004                                                    0.0              \n",
       "100009                                                    0.0              \n",
       "10001                                                     0.0              \n",
       "100010                                                    0.0              \n",
       "100053                                                    0.0              \n",
       "...                                                       ...              \n",
       "9974                                                      0.0              \n",
       "99792                                                     0.0              \n",
       "99946                                                     0.0              \n",
       "99955                                                     0.0              \n",
       "99996                                                     0.0              \n",
       "\n",
       "Book_Title  01-01-00: The Novel of the Millennium  \\\n",
       "User_ID                                             \n",
       "100004                                        0.0   \n",
       "100009                                        0.0   \n",
       "10001                                         0.0   \n",
       "100010                                        0.0   \n",
       "100053                                        0.0   \n",
       "...                                           ...   \n",
       "9974                                          0.0   \n",
       "99792                                         0.0   \n",
       "99946                                         0.0   \n",
       "99955                                         0.0   \n",
       "99996                                         0.0   \n",
       "\n",
       "Book_Title  1,000 Places to See Before You Die  10 Lb. Penalty  \\\n",
       "User_ID                                                          \n",
       "100004                                     0.0             0.0   \n",
       "100009                                     0.0             0.0   \n",
       "10001                                      0.0             0.0   \n",
       "100010                                     0.0             0.0   \n",
       "100053                                     0.0             0.0   \n",
       "...                                        ...             ...   \n",
       "9974                                       0.0             0.0   \n",
       "99792                                      0.0             0.0   \n",
       "99946                                      0.0             0.0   \n",
       "99955                                      0.0             0.0   \n",
       "99996                                      0.0             0.0   \n",
       "\n",
       "Book_Title  1001 Ways to Be Romantic  1001 Ways to Cut Your Expenses  ...  \\\n",
       "User_ID                                                               ...   \n",
       "100004                           0.0                             0.0  ...   \n",
       "100009                           0.0                             0.0  ...   \n",
       "10001                            0.0                             0.0  ...   \n",
       "100010                           0.0                             0.0  ...   \n",
       "100053                           0.0                             0.0  ...   \n",
       "...                              ...                             ...  ...   \n",
       "9974                             0.0                             0.0  ...   \n",
       "99792                            0.0                             0.0  ...   \n",
       "99946                            0.0                             0.0  ...   \n",
       "99955                            0.0                             0.0  ...   \n",
       "99996                            0.0                             0.0  ...   \n",
       "\n",
       "Book_Title  Zoya's Story: An Afghan Woman's Struggle for Freedom  ZwÃ?Â¶lf.  \\\n",
       "User_ID                                                                       \n",
       "100004                                                    0.0           0.0   \n",
       "100009                                                    0.0           0.0   \n",
       "10001                                                     0.0           0.0   \n",
       "100010                                                    0.0           0.0   \n",
       "100053                                                    0.0           0.0   \n",
       "...                                                       ...           ...   \n",
       "9974                                                      0.0           0.0   \n",
       "99792                                                     0.0           0.0   \n",
       "99946                                                     0.0           0.0   \n",
       "99955                                                     0.0           0.0   \n",
       "99996                                                     0.0           0.0   \n",
       "\n",
       "Book_Title  \\ Lamb to the Slaughter and Other Stories (Penguin 60s S.)\"  \\\n",
       "User_ID                                                                   \n",
       "100004                                                    0.0             \n",
       "100009                                                    0.0             \n",
       "10001                                                     0.0             \n",
       "100010                                                    0.0             \n",
       "100053                                                    0.0             \n",
       "...                                                       ...             \n",
       "9974                                                      0.0             \n",
       "99792                                                     0.0             \n",
       "99946                                                     0.0             \n",
       "99955                                                     0.0             \n",
       "99996                                                     0.0             \n",
       "\n",
       "Book_Title  \\A\\\" is for Alibi : A Kinsey Millhone Mystery (A Kinsey Millhone Mystery)\"  \\\n",
       "User_ID                                                                                  \n",
       "100004                                                    0.0                            \n",
       "100009                                                    0.0                            \n",
       "10001                                                     0.0                            \n",
       "100010                                                    0.0                            \n",
       "100053                                                    0.0                            \n",
       "...                                                       ...                            \n",
       "9974                                                      0.0                            \n",
       "99792                                                     0.0                            \n",
       "99946                                                     0.0                            \n",
       "99955                                                     0.0                            \n",
       "99996                                                     0.0                            \n",
       "\n",
       "Book_Title  \\O\\\" Is for Outlaw\"  \\\n",
       "User_ID                           \n",
       "100004                      0.0   \n",
       "100009                      0.0   \n",
       "10001                       0.0   \n",
       "100010                      0.0   \n",
       "100053                      0.0   \n",
       "...                         ...   \n",
       "9974                        0.0   \n",
       "99792                       0.0   \n",
       "99946                       0.0   \n",
       "99955                       0.0   \n",
       "99996                       0.0   \n",
       "\n",
       "Book_Title  \\Surely You're Joking, Mr. Feynman!\\\": Adventures of a Curious Character\"  \\\n",
       "User_ID                                                                                 \n",
       "100004                                                    0.0                           \n",
       "100009                                                    0.0                           \n",
       "10001                                                     0.0                           \n",
       "100010                                                    0.0                           \n",
       "100053                                                    0.0                           \n",
       "...                                                       ...                           \n",
       "9974                                                      0.0                           \n",
       "99792                                                     0.0                           \n",
       "99946                                                     0.0                           \n",
       "99955                                                     0.0                           \n",
       "99996                                                     0.0                           \n",
       "\n",
       "Book_Title  \\The Happy Prince\\\" and Other Stories (Penguin Popular Classics)\"  \\\n",
       "User_ID                                                                         \n",
       "100004                                                    0.0                   \n",
       "100009                                                    0.0                   \n",
       "10001                                                     0.0                   \n",
       "100010                                                    0.0                   \n",
       "100053                                                    0.0                   \n",
       "...                                                       ...                   \n",
       "9974                                                      0.0                   \n",
       "99792                                                     0.0                   \n",
       "99946                                                     0.0                   \n",
       "99955                                                     0.0                   \n",
       "99996                                                     0.0                   \n",
       "\n",
       "Book_Title    e  one hundred years of solitude  stardust  \n",
       "User_ID                                                   \n",
       "100004      0.0                            0.0       0.0  \n",
       "100009      0.0                            0.0       0.0  \n",
       "10001       0.0                            0.0       0.0  \n",
       "100010      0.0                            0.0       0.0  \n",
       "100053      0.0                            0.0       0.0  \n",
       "...         ...                            ...       ...  \n",
       "9974        0.0                            0.0       0.0  \n",
       "99792       0.0                            0.0       0.0  \n",
       "99946       0.0                            0.0       0.0  \n",
       "99955       0.0                            0.0       0.0  \n",
       "99996       0.0                            0.0       0.0  \n",
       "\n",
       "[10723 rows x 14680 columns]"
      ]
     },
     "execution_count": 73,
     "metadata": {},
     "output_type": "execute_result"
    }
   ],
   "source": [
    "pt=final.pivot_table( values='Book_Rating',index='User_ID',columns='Book_Title').fillna(0)\n",
    "pt"
   ]
  },
  {
   "cell_type": "code",
   "execution_count": 74,
   "id": "e8d374a1",
   "metadata": {
    "ExecuteTime": {
     "end_time": "2022-11-09T14:36:36.668283Z",
     "start_time": "2022-11-09T14:28:20.516074Z"
    },
    "scrolled": true
   },
   "outputs": [
    {
     "data": {
      "text/plain": [
       "array([[0.00000000e+00, 1.00000000e+00, 1.00000000e+00, ...,\n",
       "        1.00000000e+00, 1.00000000e+00, 1.00000000e+00],\n",
       "       [1.00000000e+00, 0.00000000e+00, 1.00000000e+00, ...,\n",
       "        1.00000000e+00, 1.00000000e+00, 1.00000000e+00],\n",
       "       [1.00000000e+00, 1.00000000e+00, 2.22044605e-16, ...,\n",
       "        1.00000000e+00, 1.00000000e+00, 1.00000000e+00],\n",
       "       ...,\n",
       "       [1.00000000e+00, 1.00000000e+00, 1.00000000e+00, ...,\n",
       "        0.00000000e+00, 1.00000000e+00, 1.00000000e+00],\n",
       "       [1.00000000e+00, 1.00000000e+00, 1.00000000e+00, ...,\n",
       "        1.00000000e+00, 1.11022302e-16, 9.59160279e-01],\n",
       "       [1.00000000e+00, 1.00000000e+00, 1.00000000e+00, ...,\n",
       "        1.00000000e+00, 9.59160279e-01, 0.00000000e+00]])"
      ]
     },
     "execution_count": 74,
     "metadata": {},
     "output_type": "execute_result"
    }
   ],
   "source": [
    "cosine_pairwise=pairwise_distances(X=pt,metric='cosine')\n",
    "cosine_pairwise"
   ]
  },
  {
   "cell_type": "code",
   "execution_count": 75,
   "id": "cce463ff",
   "metadata": {
    "ExecuteTime": {
     "end_time": "2022-11-09T14:36:36.747389Z",
     "start_time": "2022-11-09T14:36:36.691481Z"
    }
   },
   "outputs": [
    {
     "data": {
      "text/plain": [
       "(10723, 10723)"
      ]
     },
     "execution_count": 75,
     "metadata": {},
     "output_type": "execute_result"
    }
   ],
   "source": [
    "cosine_pairwise.shape"
   ]
  },
  {
   "cell_type": "code",
   "execution_count": 76,
   "id": "4077ef32",
   "metadata": {
    "ExecuteTime": {
     "end_time": "2022-11-09T14:36:38.204898Z",
     "start_time": "2022-11-09T14:36:36.763124Z"
    },
    "scrolled": true
   },
   "outputs": [
    {
     "data": {
      "text/html": [
       "<div>\n",
       "<style scoped>\n",
       "    .dataframe tbody tr th:only-of-type {\n",
       "        vertical-align: middle;\n",
       "    }\n",
       "\n",
       "    .dataframe tbody tr th {\n",
       "        vertical-align: top;\n",
       "    }\n",
       "\n",
       "    .dataframe thead th {\n",
       "        text-align: right;\n",
       "    }\n",
       "</style>\n",
       "<table border=\"1\" class=\"dataframe\">\n",
       "  <thead>\n",
       "    <tr style=\"text-align: right;\">\n",
       "      <th></th>\n",
       "      <th>8</th>\n",
       "      <th>11400</th>\n",
       "      <th>11676</th>\n",
       "      <th>67544</th>\n",
       "      <th>85526</th>\n",
       "      <th>96054</th>\n",
       "      <th>116866</th>\n",
       "      <th>177458</th>\n",
       "      <th>219008</th>\n",
       "      <th>263325</th>\n",
       "      <th>...</th>\n",
       "      <th>133910</th>\n",
       "      <th>142202</th>\n",
       "      <th>151366</th>\n",
       "      <th>184672</th>\n",
       "      <th>196523</th>\n",
       "      <th>216097</th>\n",
       "      <th>213293</th>\n",
       "      <th>223503</th>\n",
       "      <th>227764</th>\n",
       "      <th>235604</th>\n",
       "    </tr>\n",
       "  </thead>\n",
       "  <tbody>\n",
       "    <tr>\n",
       "      <th>8</th>\n",
       "      <td>0.0</td>\n",
       "      <td>1.0</td>\n",
       "      <td>1.000000e+00</td>\n",
       "      <td>1.0</td>\n",
       "      <td>1.000000e+00</td>\n",
       "      <td>1.0</td>\n",
       "      <td>1.000000</td>\n",
       "      <td>1.0</td>\n",
       "      <td>1.0</td>\n",
       "      <td>1.0</td>\n",
       "      <td>...</td>\n",
       "      <td>1.000000</td>\n",
       "      <td>1.0</td>\n",
       "      <td>1.0</td>\n",
       "      <td>0.806762</td>\n",
       "      <td>1.0</td>\n",
       "      <td>1.0</td>\n",
       "      <td>1.0</td>\n",
       "      <td>1.0</td>\n",
       "      <td>1.000000e+00</td>\n",
       "      <td>1.00000</td>\n",
       "    </tr>\n",
       "    <tr>\n",
       "      <th>11400</th>\n",
       "      <td>1.0</td>\n",
       "      <td>0.0</td>\n",
       "      <td>1.000000e+00</td>\n",
       "      <td>1.0</td>\n",
       "      <td>1.000000e+00</td>\n",
       "      <td>1.0</td>\n",
       "      <td>0.951857</td>\n",
       "      <td>1.0</td>\n",
       "      <td>1.0</td>\n",
       "      <td>1.0</td>\n",
       "      <td>...</td>\n",
       "      <td>1.000000</td>\n",
       "      <td>1.0</td>\n",
       "      <td>1.0</td>\n",
       "      <td>1.000000</td>\n",
       "      <td>1.0</td>\n",
       "      <td>1.0</td>\n",
       "      <td>1.0</td>\n",
       "      <td>1.0</td>\n",
       "      <td>1.000000e+00</td>\n",
       "      <td>1.00000</td>\n",
       "    </tr>\n",
       "    <tr>\n",
       "      <th>11676</th>\n",
       "      <td>1.0</td>\n",
       "      <td>1.0</td>\n",
       "      <td>2.220446e-16</td>\n",
       "      <td>1.0</td>\n",
       "      <td>1.000000e+00</td>\n",
       "      <td>1.0</td>\n",
       "      <td>1.000000</td>\n",
       "      <td>1.0</td>\n",
       "      <td>1.0</td>\n",
       "      <td>1.0</td>\n",
       "      <td>...</td>\n",
       "      <td>1.000000</td>\n",
       "      <td>1.0</td>\n",
       "      <td>1.0</td>\n",
       "      <td>1.000000</td>\n",
       "      <td>1.0</td>\n",
       "      <td>1.0</td>\n",
       "      <td>1.0</td>\n",
       "      <td>1.0</td>\n",
       "      <td>1.000000e+00</td>\n",
       "      <td>1.00000</td>\n",
       "    </tr>\n",
       "    <tr>\n",
       "      <th>67544</th>\n",
       "      <td>1.0</td>\n",
       "      <td>1.0</td>\n",
       "      <td>1.000000e+00</td>\n",
       "      <td>1.0</td>\n",
       "      <td>1.000000e+00</td>\n",
       "      <td>1.0</td>\n",
       "      <td>1.000000</td>\n",
       "      <td>1.0</td>\n",
       "      <td>1.0</td>\n",
       "      <td>1.0</td>\n",
       "      <td>...</td>\n",
       "      <td>1.000000</td>\n",
       "      <td>1.0</td>\n",
       "      <td>1.0</td>\n",
       "      <td>1.000000</td>\n",
       "      <td>1.0</td>\n",
       "      <td>1.0</td>\n",
       "      <td>1.0</td>\n",
       "      <td>1.0</td>\n",
       "      <td>1.000000e+00</td>\n",
       "      <td>1.00000</td>\n",
       "    </tr>\n",
       "    <tr>\n",
       "      <th>85526</th>\n",
       "      <td>1.0</td>\n",
       "      <td>1.0</td>\n",
       "      <td>1.000000e+00</td>\n",
       "      <td>1.0</td>\n",
       "      <td>2.220446e-16</td>\n",
       "      <td>1.0</td>\n",
       "      <td>1.000000</td>\n",
       "      <td>1.0</td>\n",
       "      <td>1.0</td>\n",
       "      <td>1.0</td>\n",
       "      <td>...</td>\n",
       "      <td>1.000000</td>\n",
       "      <td>1.0</td>\n",
       "      <td>1.0</td>\n",
       "      <td>1.000000</td>\n",
       "      <td>1.0</td>\n",
       "      <td>1.0</td>\n",
       "      <td>1.0</td>\n",
       "      <td>1.0</td>\n",
       "      <td>1.000000e+00</td>\n",
       "      <td>1.00000</td>\n",
       "    </tr>\n",
       "    <tr>\n",
       "      <th>...</th>\n",
       "      <td>...</td>\n",
       "      <td>...</td>\n",
       "      <td>...</td>\n",
       "      <td>...</td>\n",
       "      <td>...</td>\n",
       "      <td>...</td>\n",
       "      <td>...</td>\n",
       "      <td>...</td>\n",
       "      <td>...</td>\n",
       "      <td>...</td>\n",
       "      <td>...</td>\n",
       "      <td>...</td>\n",
       "      <td>...</td>\n",
       "      <td>...</td>\n",
       "      <td>...</td>\n",
       "      <td>...</td>\n",
       "      <td>...</td>\n",
       "      <td>...</td>\n",
       "      <td>...</td>\n",
       "      <td>...</td>\n",
       "      <td>...</td>\n",
       "    </tr>\n",
       "    <tr>\n",
       "      <th>216097</th>\n",
       "      <td>1.0</td>\n",
       "      <td>1.0</td>\n",
       "      <td>1.000000e+00</td>\n",
       "      <td>1.0</td>\n",
       "      <td>1.000000e+00</td>\n",
       "      <td>1.0</td>\n",
       "      <td>1.000000</td>\n",
       "      <td>1.0</td>\n",
       "      <td>1.0</td>\n",
       "      <td>1.0</td>\n",
       "      <td>...</td>\n",
       "      <td>1.000000</td>\n",
       "      <td>1.0</td>\n",
       "      <td>1.0</td>\n",
       "      <td>1.000000</td>\n",
       "      <td>1.0</td>\n",
       "      <td>0.0</td>\n",
       "      <td>1.0</td>\n",
       "      <td>1.0</td>\n",
       "      <td>1.000000e+00</td>\n",
       "      <td>1.00000</td>\n",
       "    </tr>\n",
       "    <tr>\n",
       "      <th>213293</th>\n",
       "      <td>1.0</td>\n",
       "      <td>1.0</td>\n",
       "      <td>1.000000e+00</td>\n",
       "      <td>1.0</td>\n",
       "      <td>1.000000e+00</td>\n",
       "      <td>1.0</td>\n",
       "      <td>1.000000</td>\n",
       "      <td>1.0</td>\n",
       "      <td>1.0</td>\n",
       "      <td>1.0</td>\n",
       "      <td>...</td>\n",
       "      <td>1.000000</td>\n",
       "      <td>1.0</td>\n",
       "      <td>1.0</td>\n",
       "      <td>1.000000</td>\n",
       "      <td>1.0</td>\n",
       "      <td>1.0</td>\n",
       "      <td>0.0</td>\n",
       "      <td>1.0</td>\n",
       "      <td>1.000000e+00</td>\n",
       "      <td>1.00000</td>\n",
       "    </tr>\n",
       "    <tr>\n",
       "      <th>223503</th>\n",
       "      <td>1.0</td>\n",
       "      <td>1.0</td>\n",
       "      <td>1.000000e+00</td>\n",
       "      <td>1.0</td>\n",
       "      <td>1.000000e+00</td>\n",
       "      <td>1.0</td>\n",
       "      <td>1.000000</td>\n",
       "      <td>1.0</td>\n",
       "      <td>1.0</td>\n",
       "      <td>1.0</td>\n",
       "      <td>...</td>\n",
       "      <td>1.000000</td>\n",
       "      <td>1.0</td>\n",
       "      <td>1.0</td>\n",
       "      <td>1.000000</td>\n",
       "      <td>1.0</td>\n",
       "      <td>1.0</td>\n",
       "      <td>1.0</td>\n",
       "      <td>0.0</td>\n",
       "      <td>1.000000e+00</td>\n",
       "      <td>1.00000</td>\n",
       "    </tr>\n",
       "    <tr>\n",
       "      <th>227764</th>\n",
       "      <td>1.0</td>\n",
       "      <td>1.0</td>\n",
       "      <td>1.000000e+00</td>\n",
       "      <td>1.0</td>\n",
       "      <td>1.000000e+00</td>\n",
       "      <td>1.0</td>\n",
       "      <td>1.000000</td>\n",
       "      <td>1.0</td>\n",
       "      <td>1.0</td>\n",
       "      <td>1.0</td>\n",
       "      <td>...</td>\n",
       "      <td>0.989792</td>\n",
       "      <td>1.0</td>\n",
       "      <td>1.0</td>\n",
       "      <td>0.983664</td>\n",
       "      <td>1.0</td>\n",
       "      <td>1.0</td>\n",
       "      <td>1.0</td>\n",
       "      <td>1.0</td>\n",
       "      <td>1.110223e-16</td>\n",
       "      <td>0.95916</td>\n",
       "    </tr>\n",
       "    <tr>\n",
       "      <th>235604</th>\n",
       "      <td>1.0</td>\n",
       "      <td>1.0</td>\n",
       "      <td>1.000000e+00</td>\n",
       "      <td>1.0</td>\n",
       "      <td>1.000000e+00</td>\n",
       "      <td>1.0</td>\n",
       "      <td>1.000000</td>\n",
       "      <td>1.0</td>\n",
       "      <td>1.0</td>\n",
       "      <td>1.0</td>\n",
       "      <td>...</td>\n",
       "      <td>1.000000</td>\n",
       "      <td>1.0</td>\n",
       "      <td>1.0</td>\n",
       "      <td>1.000000</td>\n",
       "      <td>1.0</td>\n",
       "      <td>1.0</td>\n",
       "      <td>1.0</td>\n",
       "      <td>1.0</td>\n",
       "      <td>9.591603e-01</td>\n",
       "      <td>0.00000</td>\n",
       "    </tr>\n",
       "  </tbody>\n",
       "</table>\n",
       "<p>10723 rows × 10723 columns</p>\n",
       "</div>"
      ],
      "text/plain": [
       "          8  11400         11676  67544         85526  96054    116866  \\\n",
       "8       0.0    1.0  1.000000e+00    1.0  1.000000e+00    1.0  1.000000   \n",
       "11400   1.0    0.0  1.000000e+00    1.0  1.000000e+00    1.0  0.951857   \n",
       "11676   1.0    1.0  2.220446e-16    1.0  1.000000e+00    1.0  1.000000   \n",
       "67544   1.0    1.0  1.000000e+00    1.0  1.000000e+00    1.0  1.000000   \n",
       "85526   1.0    1.0  1.000000e+00    1.0  2.220446e-16    1.0  1.000000   \n",
       "...     ...    ...           ...    ...           ...    ...       ...   \n",
       "216097  1.0    1.0  1.000000e+00    1.0  1.000000e+00    1.0  1.000000   \n",
       "213293  1.0    1.0  1.000000e+00    1.0  1.000000e+00    1.0  1.000000   \n",
       "223503  1.0    1.0  1.000000e+00    1.0  1.000000e+00    1.0  1.000000   \n",
       "227764  1.0    1.0  1.000000e+00    1.0  1.000000e+00    1.0  1.000000   \n",
       "235604  1.0    1.0  1.000000e+00    1.0  1.000000e+00    1.0  1.000000   \n",
       "\n",
       "        177458  219008  263325  ...    133910  142202  151366    184672  \\\n",
       "8          1.0     1.0     1.0  ...  1.000000     1.0     1.0  0.806762   \n",
       "11400      1.0     1.0     1.0  ...  1.000000     1.0     1.0  1.000000   \n",
       "11676      1.0     1.0     1.0  ...  1.000000     1.0     1.0  1.000000   \n",
       "67544      1.0     1.0     1.0  ...  1.000000     1.0     1.0  1.000000   \n",
       "85526      1.0     1.0     1.0  ...  1.000000     1.0     1.0  1.000000   \n",
       "...        ...     ...     ...  ...       ...     ...     ...       ...   \n",
       "216097     1.0     1.0     1.0  ...  1.000000     1.0     1.0  1.000000   \n",
       "213293     1.0     1.0     1.0  ...  1.000000     1.0     1.0  1.000000   \n",
       "223503     1.0     1.0     1.0  ...  1.000000     1.0     1.0  1.000000   \n",
       "227764     1.0     1.0     1.0  ...  0.989792     1.0     1.0  0.983664   \n",
       "235604     1.0     1.0     1.0  ...  1.000000     1.0     1.0  1.000000   \n",
       "\n",
       "        196523  216097  213293  223503        227764   235604  \n",
       "8          1.0     1.0     1.0     1.0  1.000000e+00  1.00000  \n",
       "11400      1.0     1.0     1.0     1.0  1.000000e+00  1.00000  \n",
       "11676      1.0     1.0     1.0     1.0  1.000000e+00  1.00000  \n",
       "67544      1.0     1.0     1.0     1.0  1.000000e+00  1.00000  \n",
       "85526      1.0     1.0     1.0     1.0  1.000000e+00  1.00000  \n",
       "...        ...     ...     ...     ...           ...      ...  \n",
       "216097     1.0     0.0     1.0     1.0  1.000000e+00  1.00000  \n",
       "213293     1.0     1.0     0.0     1.0  1.000000e+00  1.00000  \n",
       "223503     1.0     1.0     1.0     0.0  1.000000e+00  1.00000  \n",
       "227764     1.0     1.0     1.0     1.0  1.110223e-16  0.95916  \n",
       "235604     1.0     1.0     1.0     1.0  9.591603e-01  0.00000  \n",
       "\n",
       "[10723 rows x 10723 columns]"
      ]
     },
     "execution_count": 76,
     "metadata": {},
     "output_type": "execute_result"
    }
   ],
   "source": [
    "cosine_pairwise_df=pd.DataFrame(data=cosine_pairwise)\n",
    "cosine_pairwise_df.index=final['User_ID'].unique()\n",
    "cosine_pairwise_df.columns=final['User_ID'].unique()\n",
    "cosine_pairwise_df"
   ]
  },
  {
   "cell_type": "code",
   "execution_count": 77,
   "id": "ae5fd525",
   "metadata": {
    "ExecuteTime": {
     "end_time": "2022-11-09T14:36:38.268797Z",
     "start_time": "2022-11-09T14:36:38.214882Z"
    }
   },
   "outputs": [],
   "source": [
    "def recommend(user_id):\n",
    "    index=np.where(pt.index==user_id)[0][0]\n",
    "    temp=list(cosine_pairwise_df.sort_values([user_id],ascending=True).head(10).index)\n",
    "    book_list=[]\n",
    "    data=[]\n",
    "    for i in temp:\n",
    "        book_list=book_list+list(final[final['User_ID']==i]['Book_Title'])\n",
    "        result=set(book_list)-set(final[final['User_ID']==user_id]['Book_Title'])\n",
    "        result=list(result)[:10]\n",
    "    for i in result:\n",
    "        item=[]\n",
    "        temp_df=books[books['Book-Title']==i]\n",
    "        item.extend(list(temp_df.drop_duplicates('Book-Title')['Book-Title'].values))\n",
    "        item.extend(list(temp_df.drop_duplicates('Book-Title')['Book-Author'].values))\n",
    "        item.extend(list(temp_df.drop_duplicates('Book-Title')['Image-URL-M'].values))\n",
    "        \n",
    "        data.append(item)\n",
    "    return data        "
   ]
  },
  {
   "cell_type": "code",
   "execution_count": 83,
   "id": "a2c0d347",
   "metadata": {
    "ExecuteTime": {
     "end_time": "2022-11-09T14:38:33.343150Z",
     "start_time": "2022-11-09T14:38:22.263520Z"
    }
   },
   "outputs": [
    {
     "data": {
      "text/plain": [
       "[['The Book of Laughter and Forgetting',\n",
       "  'Milan Kundera',\n",
       "  'http://images.amazon.com/images/P/0060932147.01.MZZZZZZZ.jpg'],\n",
       " ['The Music of the Spheres',\n",
       "  'Elizabeth Redfern',\n",
       "  'http://images.amazon.com/images/P/051513239X.01.MZZZZZZZ.jpg'],\n",
       " ['To Kill a Mockingbird',\n",
       "  'Harper Lee',\n",
       "  'http://images.amazon.com/images/P/0446310786.01.MZZZZZZZ.jpg'],\n",
       " [\"The Plains of Passage (Earth's Children (Paperback))\",\n",
       "  'JEAN M. AUEL',\n",
       "  'http://images.amazon.com/images/P/0553289411.01.MZZZZZZZ.jpg'],\n",
       " ['Saint Maybe',\n",
       "  'ANNE TYLER',\n",
       "  'http://images.amazon.com/images/P/0804108749.01.MZZZZZZZ.jpg'],\n",
       " ['Island of the Sequined Love Nun',\n",
       "  'Christopher Moore',\n",
       "  'http://images.amazon.com/images/P/0380816547.01.MZZZZZZZ.jpg'],\n",
       " ['SKI WEEKEND (FEAR STREET ) : SKI WEEKEND (Fear Street)',\n",
       "  'R.L. Stine',\n",
       "  'http://images.amazon.com/images/P/0671724800.01.MZZZZZZZ.jpg'],\n",
       " ['Black and Blue : A Novel',\n",
       "  'ANNA QUINDLEN',\n",
       "  'http://images.amazon.com/images/P/0375500510.01.MZZZZZZZ.jpg'],\n",
       " ['My Sweet Audrina',\n",
       "  'V.C. Andrews',\n",
       "  'http://images.amazon.com/images/P/0671729462.01.MZZZZZZZ.jpg'],\n",
       " ['Divine Secrets of the Ya-Ya Sisterhood: A Novel',\n",
       "  'Rebecca Wells',\n",
       "  'http://images.amazon.com/images/P/0060928336.01.MZZZZZZZ.jpg']]"
      ]
     },
     "execution_count": 83,
     "metadata": {},
     "output_type": "execute_result"
    }
   ],
   "source": [
    "recommend('8')\n"
   ]
  },
  {
   "cell_type": "markdown",
   "id": "dd5a5af3",
   "metadata": {
    "ExecuteTime": {
     "end_time": "2022-11-09T14:37:11.068869Z",
     "start_time": "2022-11-09T14:36:44.017729Z"
    }
   },
   "source": [
    "import pickle\n",
    "pickle.dump(pt,open('pivot_table.pkl','wb'))\n",
    "pickle.dump(cosine_pairwise_df,open('similarity_df.pkl','wb'))"
   ]
  },
  {
   "cell_type": "markdown",
   "id": "e4000f29",
   "metadata": {
    "ExecuteTime": {
     "end_time": "2022-11-09T14:37:15.119226Z",
     "start_time": "2022-11-09T14:37:11.109546Z"
    }
   },
   "source": [
    "pickle.dump(books,open('books.pkl','wb'))"
   ]
  },
  {
   "cell_type": "markdown",
   "id": "1ae298db",
   "metadata": {
    "ExecuteTime": {
     "end_time": "2022-11-09T14:37:20.601474Z",
     "start_time": "2022-11-09T14:37:15.127463Z"
    }
   },
   "source": [
    "pickle.dump(final,open('final.pkl','wb'))"
   ]
  },
  {
   "cell_type": "code",
   "execution_count": null,
   "id": "a0cf7a9b",
   "metadata": {},
   "outputs": [],
   "source": []
  }
 ],
 "metadata": {
  "kernelspec": {
   "display_name": "Python 3 (ipykernel)",
   "language": "python",
   "name": "python3"
  },
  "language_info": {
   "codemirror_mode": {
    "name": "ipython",
    "version": 3
   },
   "file_extension": ".py",
   "mimetype": "text/x-python",
   "name": "python",
   "nbconvert_exporter": "python",
   "pygments_lexer": "ipython3",
   "version": "3.9.12"
  }
 },
 "nbformat": 4,
 "nbformat_minor": 5
}
