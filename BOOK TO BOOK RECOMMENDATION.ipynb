{
 "cells": [
  {
   "cell_type": "code",
   "execution_count": 94,
   "id": "f848fdb6",
   "metadata": {
    "ExecuteTime": {
     "end_time": "2022-12-06T18:26:22.113606Z",
     "start_time": "2022-12-06T18:26:22.088649Z"
    }
   },
   "outputs": [],
   "source": [
    "#Import Required Libraries\n",
    "\n",
    "import pandas as pd\n",
    "import numpy as np\n",
    "import matplotlib.pyplot as plt\n",
    "import seaborn as sns\n",
    "import re\n",
    "import sklearn\n",
    "from sklearn.metrics import pairwise_distances\n",
    "from sklearn.metrics.pairwise import cosine_similarity\n",
    "\n",
    "\n",
    "import warnings\n",
    "warnings.filterwarnings('ignore')"
   ]
  },
  {
   "cell_type": "code",
   "execution_count": 95,
   "id": "ab347282",
   "metadata": {
    "ExecuteTime": {
     "end_time": "2022-12-06T18:26:30.976840Z",
     "start_time": "2022-12-06T18:26:23.152953Z"
    }
   },
   "outputs": [],
   "source": [
    "#Import Data\n",
    "\n",
    "books=pd.read_csv('Booksss.csv')\n",
    "ratings=pd.read_csv(\"Book-Ratings.csv\" ,  encoding = 'latin-1' , error_bad_lines = False , sep = \";\")\n",
    "users=pd.read_csv('Usersss.csv')"
   ]
  },
  {
   "cell_type": "code",
   "execution_count": 96,
   "id": "3aec44aa",
   "metadata": {
    "ExecuteTime": {
     "end_time": "2022-12-06T18:26:34.366151Z",
     "start_time": "2022-12-06T18:26:34.313233Z"
    },
    "scrolled": true
   },
   "outputs": [
    {
     "data": {
      "text/html": [
       "<div>\n",
       "<style scoped>\n",
       "    .dataframe tbody tr th:only-of-type {\n",
       "        vertical-align: middle;\n",
       "    }\n",
       "\n",
       "    .dataframe tbody tr th {\n",
       "        vertical-align: top;\n",
       "    }\n",
       "\n",
       "    .dataframe thead th {\n",
       "        text-align: right;\n",
       "    }\n",
       "</style>\n",
       "<table border=\"1\" class=\"dataframe\">\n",
       "  <thead>\n",
       "    <tr style=\"text-align: right;\">\n",
       "      <th></th>\n",
       "      <th>ISBN</th>\n",
       "      <th>Book-Title</th>\n",
       "      <th>Book-Author</th>\n",
       "      <th>Year-Of-Publication</th>\n",
       "      <th>Publisher</th>\n",
       "      <th>Image-URL-S</th>\n",
       "      <th>Image-URL-M</th>\n",
       "      <th>Image-URL-L</th>\n",
       "    </tr>\n",
       "  </thead>\n",
       "  <tbody>\n",
       "    <tr>\n",
       "      <th>0</th>\n",
       "      <td>0195153448</td>\n",
       "      <td>Classical Mythology</td>\n",
       "      <td>Mark P. O. Morford</td>\n",
       "      <td>2002</td>\n",
       "      <td>Oxford University Press</td>\n",
       "      <td>http://images.amazon.com/images/P/0195153448.0...</td>\n",
       "      <td>http://images.amazon.com/images/P/0195153448.0...</td>\n",
       "      <td>http://images.amazon.com/images/P/0195153448.0...</td>\n",
       "    </tr>\n",
       "    <tr>\n",
       "      <th>1</th>\n",
       "      <td>0002005018</td>\n",
       "      <td>Clara Callan</td>\n",
       "      <td>Richard Bruce Wright</td>\n",
       "      <td>2001</td>\n",
       "      <td>HarperFlamingo Canada</td>\n",
       "      <td>http://images.amazon.com/images/P/0002005018.0...</td>\n",
       "      <td>http://images.amazon.com/images/P/0002005018.0...</td>\n",
       "      <td>http://images.amazon.com/images/P/0002005018.0...</td>\n",
       "    </tr>\n",
       "    <tr>\n",
       "      <th>2</th>\n",
       "      <td>0060973129</td>\n",
       "      <td>Decision in Normandy</td>\n",
       "      <td>Carlo D'Este</td>\n",
       "      <td>1991</td>\n",
       "      <td>HarperPerennial</td>\n",
       "      <td>http://images.amazon.com/images/P/0060973129.0...</td>\n",
       "      <td>http://images.amazon.com/images/P/0060973129.0...</td>\n",
       "      <td>http://images.amazon.com/images/P/0060973129.0...</td>\n",
       "    </tr>\n",
       "    <tr>\n",
       "      <th>3</th>\n",
       "      <td>0374157065</td>\n",
       "      <td>Flu: The Story of the Great Influenza Pandemic...</td>\n",
       "      <td>Gina Bari Kolata</td>\n",
       "      <td>1999</td>\n",
       "      <td>Farrar Straus Giroux</td>\n",
       "      <td>http://images.amazon.com/images/P/0374157065.0...</td>\n",
       "      <td>http://images.amazon.com/images/P/0374157065.0...</td>\n",
       "      <td>http://images.amazon.com/images/P/0374157065.0...</td>\n",
       "    </tr>\n",
       "    <tr>\n",
       "      <th>4</th>\n",
       "      <td>0393045218</td>\n",
       "      <td>The Mummies of Urumchi</td>\n",
       "      <td>E. J. W. Barber</td>\n",
       "      <td>1999</td>\n",
       "      <td>W. W. Norton &amp;amp; Company</td>\n",
       "      <td>http://images.amazon.com/images/P/0393045218.0...</td>\n",
       "      <td>http://images.amazon.com/images/P/0393045218.0...</td>\n",
       "      <td>http://images.amazon.com/images/P/0393045218.0...</td>\n",
       "    </tr>\n",
       "  </tbody>\n",
       "</table>\n",
       "</div>"
      ],
      "text/plain": [
       "         ISBN                                         Book-Title  \\\n",
       "0  0195153448                                Classical Mythology   \n",
       "1  0002005018                                       Clara Callan   \n",
       "2  0060973129                               Decision in Normandy   \n",
       "3  0374157065  Flu: The Story of the Great Influenza Pandemic...   \n",
       "4  0393045218                             The Mummies of Urumchi   \n",
       "\n",
       "            Book-Author Year-Of-Publication                   Publisher  \\\n",
       "0    Mark P. O. Morford                2002     Oxford University Press   \n",
       "1  Richard Bruce Wright                2001       HarperFlamingo Canada   \n",
       "2          Carlo D'Este                1991             HarperPerennial   \n",
       "3      Gina Bari Kolata                1999        Farrar Straus Giroux   \n",
       "4       E. J. W. Barber                1999  W. W. Norton &amp; Company   \n",
       "\n",
       "                                         Image-URL-S  \\\n",
       "0  http://images.amazon.com/images/P/0195153448.0...   \n",
       "1  http://images.amazon.com/images/P/0002005018.0...   \n",
       "2  http://images.amazon.com/images/P/0060973129.0...   \n",
       "3  http://images.amazon.com/images/P/0374157065.0...   \n",
       "4  http://images.amazon.com/images/P/0393045218.0...   \n",
       "\n",
       "                                         Image-URL-M  \\\n",
       "0  http://images.amazon.com/images/P/0195153448.0...   \n",
       "1  http://images.amazon.com/images/P/0002005018.0...   \n",
       "2  http://images.amazon.com/images/P/0060973129.0...   \n",
       "3  http://images.amazon.com/images/P/0374157065.0...   \n",
       "4  http://images.amazon.com/images/P/0393045218.0...   \n",
       "\n",
       "                                         Image-URL-L  \n",
       "0  http://images.amazon.com/images/P/0195153448.0...  \n",
       "1  http://images.amazon.com/images/P/0002005018.0...  \n",
       "2  http://images.amazon.com/images/P/0060973129.0...  \n",
       "3  http://images.amazon.com/images/P/0374157065.0...  \n",
       "4  http://images.amazon.com/images/P/0393045218.0...  "
      ]
     },
     "execution_count": 96,
     "metadata": {},
     "output_type": "execute_result"
    }
   ],
   "source": [
    "books.head()"
   ]
  },
  {
   "cell_type": "code",
   "execution_count": 97,
   "id": "866decd3",
   "metadata": {
    "ExecuteTime": {
     "end_time": "2022-12-06T18:26:35.310583Z",
     "start_time": "2022-12-06T18:26:35.271650Z"
    }
   },
   "outputs": [
    {
     "data": {
      "text/html": [
       "<div>\n",
       "<style scoped>\n",
       "    .dataframe tbody tr th:only-of-type {\n",
       "        vertical-align: middle;\n",
       "    }\n",
       "\n",
       "    .dataframe tbody tr th {\n",
       "        vertical-align: top;\n",
       "    }\n",
       "\n",
       "    .dataframe thead th {\n",
       "        text-align: right;\n",
       "    }\n",
       "</style>\n",
       "<table border=\"1\" class=\"dataframe\">\n",
       "  <thead>\n",
       "    <tr style=\"text-align: right;\">\n",
       "      <th></th>\n",
       "      <th>User-ID</th>\n",
       "      <th>ISBN</th>\n",
       "      <th>Book-Rating</th>\n",
       "    </tr>\n",
       "  </thead>\n",
       "  <tbody>\n",
       "    <tr>\n",
       "      <th>0</th>\n",
       "      <td>276725</td>\n",
       "      <td>034545104X</td>\n",
       "      <td>0</td>\n",
       "    </tr>\n",
       "    <tr>\n",
       "      <th>1</th>\n",
       "      <td>276726</td>\n",
       "      <td>0155061224</td>\n",
       "      <td>5</td>\n",
       "    </tr>\n",
       "    <tr>\n",
       "      <th>2</th>\n",
       "      <td>276727</td>\n",
       "      <td>0446520802</td>\n",
       "      <td>0</td>\n",
       "    </tr>\n",
       "    <tr>\n",
       "      <th>3</th>\n",
       "      <td>276729</td>\n",
       "      <td>052165615X</td>\n",
       "      <td>3</td>\n",
       "    </tr>\n",
       "    <tr>\n",
       "      <th>4</th>\n",
       "      <td>276729</td>\n",
       "      <td>0521795028</td>\n",
       "      <td>6</td>\n",
       "    </tr>\n",
       "  </tbody>\n",
       "</table>\n",
       "</div>"
      ],
      "text/plain": [
       "   User-ID        ISBN  Book-Rating\n",
       "0   276725  034545104X            0\n",
       "1   276726  0155061224            5\n",
       "2   276727  0446520802            0\n",
       "3   276729  052165615X            3\n",
       "4   276729  0521795028            6"
      ]
     },
     "execution_count": 97,
     "metadata": {},
     "output_type": "execute_result"
    }
   ],
   "source": [
    "ratings.head()"
   ]
  },
  {
   "cell_type": "code",
   "execution_count": 98,
   "id": "246ec193",
   "metadata": {
    "ExecuteTime": {
     "end_time": "2022-12-06T18:26:36.158579Z",
     "start_time": "2022-12-06T18:26:36.118648Z"
    }
   },
   "outputs": [
    {
     "data": {
      "text/html": [
       "<div>\n",
       "<style scoped>\n",
       "    .dataframe tbody tr th:only-of-type {\n",
       "        vertical-align: middle;\n",
       "    }\n",
       "\n",
       "    .dataframe tbody tr th {\n",
       "        vertical-align: top;\n",
       "    }\n",
       "\n",
       "    .dataframe thead th {\n",
       "        text-align: right;\n",
       "    }\n",
       "</style>\n",
       "<table border=\"1\" class=\"dataframe\">\n",
       "  <thead>\n",
       "    <tr style=\"text-align: right;\">\n",
       "      <th></th>\n",
       "      <th>User-ID</th>\n",
       "      <th>Location</th>\n",
       "      <th>Age</th>\n",
       "    </tr>\n",
       "  </thead>\n",
       "  <tbody>\n",
       "    <tr>\n",
       "      <th>0</th>\n",
       "      <td>1</td>\n",
       "      <td>nyc, new york, usa</td>\n",
       "      <td>NaN</td>\n",
       "    </tr>\n",
       "    <tr>\n",
       "      <th>1</th>\n",
       "      <td>2</td>\n",
       "      <td>stockton, california, usa</td>\n",
       "      <td>18.0</td>\n",
       "    </tr>\n",
       "    <tr>\n",
       "      <th>2</th>\n",
       "      <td>3</td>\n",
       "      <td>moscow, yukon territory, russia</td>\n",
       "      <td>NaN</td>\n",
       "    </tr>\n",
       "    <tr>\n",
       "      <th>3</th>\n",
       "      <td>4</td>\n",
       "      <td>porto, v.n.gaia, portugal</td>\n",
       "      <td>17.0</td>\n",
       "    </tr>\n",
       "    <tr>\n",
       "      <th>4</th>\n",
       "      <td>5</td>\n",
       "      <td>farnborough, hants, united kingdom</td>\n",
       "      <td>NaN</td>\n",
       "    </tr>\n",
       "  </tbody>\n",
       "</table>\n",
       "</div>"
      ],
      "text/plain": [
       "   User-ID                            Location   Age\n",
       "0        1                  nyc, new york, usa   NaN\n",
       "1        2           stockton, california, usa  18.0\n",
       "2        3     moscow, yukon territory, russia   NaN\n",
       "3        4           porto, v.n.gaia, portugal  17.0\n",
       "4        5  farnborough, hants, united kingdom   NaN"
      ]
     },
     "execution_count": 98,
     "metadata": {},
     "output_type": "execute_result"
    }
   ],
   "source": [
    "users.head()"
   ]
  },
  {
   "cell_type": "code",
   "execution_count": 99,
   "id": "597dbdf2",
   "metadata": {
    "ExecuteTime": {
     "end_time": "2022-12-06T18:26:36.798985Z",
     "start_time": "2022-12-06T18:26:36.779018Z"
    }
   },
   "outputs": [
    {
     "name": "stdout",
     "output_type": "stream",
     "text": [
      "Shape of the Books :  (271360, 8)\n",
      "Shape of the Ratings :  (1149780, 3)\n",
      "Shape of the Users :  (278858, 3)\n"
     ]
    }
   ],
   "source": [
    "print(\"Shape of the Books : \",books.shape)\n",
    "print(\"Shape of the Ratings : \",ratings.shape)\n",
    "print(\"Shape of the Users : \",users.shape)"
   ]
  },
  {
   "cell_type": "code",
   "execution_count": 100,
   "id": "a03bd8da",
   "metadata": {
    "ExecuteTime": {
     "end_time": "2022-12-06T18:26:37.493958Z",
     "start_time": "2022-12-06T18:26:37.467004Z"
    }
   },
   "outputs": [
    {
     "name": "stdout",
     "output_type": "stream",
     "text": [
      "Data Type for Books :\n",
      " ISBN                   object\n",
      "Book-Title             object\n",
      "Book-Author            object\n",
      "Year-Of-Publication    object\n",
      "Publisher              object\n",
      "Image-URL-S            object\n",
      "Image-URL-M            object\n",
      "Image-URL-L            object\n",
      "dtype: object\n",
      "\n",
      "Data Type for Ratings :\n",
      " User-ID         int64\n",
      "ISBN           object\n",
      "Book-Rating     int64\n",
      "dtype: object\n",
      "\n",
      "Data Type for Users :\n",
      " User-ID       int64\n",
      "Location     object\n",
      "Age         float64\n",
      "dtype: object\n"
     ]
    }
   ],
   "source": [
    "print(\"Data Type for Books :\\n\",books.dtypes)\n",
    "print(\"\\nData Type for Ratings :\\n\",ratings.dtypes)\n",
    "print(\"\\nData Type for Users :\\n\",users.dtypes)"
   ]
  },
  {
   "cell_type": "code",
   "execution_count": 101,
   "id": "2ccf0e2f",
   "metadata": {
    "ExecuteTime": {
     "end_time": "2022-12-06T18:26:40.203147Z",
     "start_time": "2022-12-06T18:26:38.313906Z"
    }
   },
   "outputs": [
    {
     "data": {
      "text/html": [
       "<div>\n",
       "<style scoped>\n",
       "    .dataframe tbody tr th:only-of-type {\n",
       "        vertical-align: middle;\n",
       "    }\n",
       "\n",
       "    .dataframe tbody tr th {\n",
       "        vertical-align: top;\n",
       "    }\n",
       "\n",
       "    .dataframe thead th {\n",
       "        text-align: right;\n",
       "    }\n",
       "</style>\n",
       "<table border=\"1\" class=\"dataframe\">\n",
       "  <thead>\n",
       "    <tr style=\"text-align: right;\">\n",
       "      <th></th>\n",
       "      <th>ISBN</th>\n",
       "      <th>Book-Title</th>\n",
       "      <th>Book-Author</th>\n",
       "      <th>Year-Of-Publication</th>\n",
       "      <th>Publisher</th>\n",
       "      <th>Image-URL-S</th>\n",
       "      <th>Image-URL-M</th>\n",
       "      <th>Image-URL-L</th>\n",
       "    </tr>\n",
       "  </thead>\n",
       "  <tbody>\n",
       "  </tbody>\n",
       "</table>\n",
       "</div>"
      ],
      "text/plain": [
       "Empty DataFrame\n",
       "Columns: [ISBN, Book-Title, Book-Author, Year-Of-Publication, Publisher, Image-URL-S, Image-URL-M, Image-URL-L]\n",
       "Index: []"
      ]
     },
     "execution_count": 101,
     "metadata": {},
     "output_type": "execute_result"
    }
   ],
   "source": [
    "books[books.duplicated()]"
   ]
  },
  {
   "cell_type": "code",
   "execution_count": 102,
   "id": "28191b64",
   "metadata": {
    "ExecuteTime": {
     "end_time": "2022-12-06T18:26:41.739183Z",
     "start_time": "2022-12-06T18:26:40.213136Z"
    }
   },
   "outputs": [
    {
     "data": {
      "text/html": [
       "<div>\n",
       "<style scoped>\n",
       "    .dataframe tbody tr th:only-of-type {\n",
       "        vertical-align: middle;\n",
       "    }\n",
       "\n",
       "    .dataframe tbody tr th {\n",
       "        vertical-align: top;\n",
       "    }\n",
       "\n",
       "    .dataframe thead th {\n",
       "        text-align: right;\n",
       "    }\n",
       "</style>\n",
       "<table border=\"1\" class=\"dataframe\">\n",
       "  <thead>\n",
       "    <tr style=\"text-align: right;\">\n",
       "      <th></th>\n",
       "      <th>User-ID</th>\n",
       "      <th>ISBN</th>\n",
       "      <th>Book-Rating</th>\n",
       "    </tr>\n",
       "  </thead>\n",
       "  <tbody>\n",
       "  </tbody>\n",
       "</table>\n",
       "</div>"
      ],
      "text/plain": [
       "Empty DataFrame\n",
       "Columns: [User-ID, ISBN, Book-Rating]\n",
       "Index: []"
      ]
     },
     "execution_count": 102,
     "metadata": {},
     "output_type": "execute_result"
    }
   ],
   "source": [
    "ratings[ratings.duplicated()]"
   ]
  },
  {
   "cell_type": "code",
   "execution_count": 103,
   "id": "501f5fc1",
   "metadata": {
    "ExecuteTime": {
     "end_time": "2022-12-06T18:26:42.232642Z",
     "start_time": "2022-12-06T18:26:41.748164Z"
    }
   },
   "outputs": [
    {
     "data": {
      "text/html": [
       "<div>\n",
       "<style scoped>\n",
       "    .dataframe tbody tr th:only-of-type {\n",
       "        vertical-align: middle;\n",
       "    }\n",
       "\n",
       "    .dataframe tbody tr th {\n",
       "        vertical-align: top;\n",
       "    }\n",
       "\n",
       "    .dataframe thead th {\n",
       "        text-align: right;\n",
       "    }\n",
       "</style>\n",
       "<table border=\"1\" class=\"dataframe\">\n",
       "  <thead>\n",
       "    <tr style=\"text-align: right;\">\n",
       "      <th></th>\n",
       "      <th>User-ID</th>\n",
       "      <th>Location</th>\n",
       "      <th>Age</th>\n",
       "    </tr>\n",
       "  </thead>\n",
       "  <tbody>\n",
       "  </tbody>\n",
       "</table>\n",
       "</div>"
      ],
      "text/plain": [
       "Empty DataFrame\n",
       "Columns: [User-ID, Location, Age]\n",
       "Index: []"
      ]
     },
     "execution_count": 103,
     "metadata": {},
     "output_type": "execute_result"
    }
   ],
   "source": [
    "users[users.duplicated()]"
   ]
  },
  {
   "cell_type": "code",
   "execution_count": 104,
   "id": "b417a7b0",
   "metadata": {
    "ExecuteTime": {
     "end_time": "2022-12-06T18:26:44.594541Z",
     "start_time": "2022-12-06T18:26:43.155312Z"
    }
   },
   "outputs": [
    {
     "data": {
      "text/html": [
       "<div>\n",
       "<style scoped>\n",
       "    .dataframe tbody tr th:only-of-type {\n",
       "        vertical-align: middle;\n",
       "    }\n",
       "\n",
       "    .dataframe tbody tr th {\n",
       "        vertical-align: top;\n",
       "    }\n",
       "\n",
       "    .dataframe thead th {\n",
       "        text-align: right;\n",
       "    }\n",
       "</style>\n",
       "<table border=\"1\" class=\"dataframe\">\n",
       "  <thead>\n",
       "    <tr style=\"text-align: right;\">\n",
       "      <th></th>\n",
       "      <th>User-ID</th>\n",
       "      <th>Location</th>\n",
       "      <th>Age</th>\n",
       "      <th>ISBN</th>\n",
       "      <th>Book-Rating</th>\n",
       "    </tr>\n",
       "  </thead>\n",
       "  <tbody>\n",
       "    <tr>\n",
       "      <th>0</th>\n",
       "      <td>2</td>\n",
       "      <td>stockton, california, usa</td>\n",
       "      <td>18.0</td>\n",
       "      <td>0195153448</td>\n",
       "      <td>0</td>\n",
       "    </tr>\n",
       "    <tr>\n",
       "      <th>1</th>\n",
       "      <td>7</td>\n",
       "      <td>washington, dc, usa</td>\n",
       "      <td>NaN</td>\n",
       "      <td>034542252</td>\n",
       "      <td>0</td>\n",
       "    </tr>\n",
       "    <tr>\n",
       "      <th>2</th>\n",
       "      <td>8</td>\n",
       "      <td>timmins, ontario, canada</td>\n",
       "      <td>NaN</td>\n",
       "      <td>0002005018</td>\n",
       "      <td>5</td>\n",
       "    </tr>\n",
       "    <tr>\n",
       "      <th>3</th>\n",
       "      <td>8</td>\n",
       "      <td>timmins, ontario, canada</td>\n",
       "      <td>NaN</td>\n",
       "      <td>0060973129</td>\n",
       "      <td>0</td>\n",
       "    </tr>\n",
       "    <tr>\n",
       "      <th>4</th>\n",
       "      <td>8</td>\n",
       "      <td>timmins, ontario, canada</td>\n",
       "      <td>NaN</td>\n",
       "      <td>0374157065</td>\n",
       "      <td>0</td>\n",
       "    </tr>\n",
       "  </tbody>\n",
       "</table>\n",
       "</div>"
      ],
      "text/plain": [
       "   User-ID                   Location   Age        ISBN  Book-Rating\n",
       "0        2  stockton, california, usa  18.0  0195153448            0\n",
       "1        7        washington, dc, usa   NaN   034542252            0\n",
       "2        8   timmins, ontario, canada   NaN  0002005018            5\n",
       "3        8   timmins, ontario, canada   NaN  0060973129            0\n",
       "4        8   timmins, ontario, canada   NaN  0374157065            0"
      ]
     },
     "execution_count": 104,
     "metadata": {},
     "output_type": "execute_result"
    }
   ],
   "source": [
    "#Merging datasets users and ratings based on 'Used-ID'\n",
    "user_rating=pd.merge(users,ratings,on='User-ID')\n",
    "user_rating.head()"
   ]
  },
  {
   "cell_type": "code",
   "execution_count": 105,
   "id": "97487cc2",
   "metadata": {
    "ExecuteTime": {
     "end_time": "2022-12-06T18:26:48.463067Z",
     "start_time": "2022-12-06T18:26:44.848297Z"
    }
   },
   "outputs": [
    {
     "data": {
      "text/html": [
       "<div>\n",
       "<style scoped>\n",
       "    .dataframe tbody tr th:only-of-type {\n",
       "        vertical-align: middle;\n",
       "    }\n",
       "\n",
       "    .dataframe tbody tr th {\n",
       "        vertical-align: top;\n",
       "    }\n",
       "\n",
       "    .dataframe thead th {\n",
       "        text-align: right;\n",
       "    }\n",
       "</style>\n",
       "<table border=\"1\" class=\"dataframe\">\n",
       "  <thead>\n",
       "    <tr style=\"text-align: right;\">\n",
       "      <th></th>\n",
       "      <th>User-ID</th>\n",
       "      <th>Location</th>\n",
       "      <th>Age</th>\n",
       "      <th>ISBN</th>\n",
       "      <th>Book-Rating</th>\n",
       "      <th>Book-Title</th>\n",
       "      <th>Book-Author</th>\n",
       "      <th>Year-Of-Publication</th>\n",
       "      <th>Publisher</th>\n",
       "      <th>Image-URL-S</th>\n",
       "      <th>Image-URL-M</th>\n",
       "      <th>Image-URL-L</th>\n",
       "    </tr>\n",
       "  </thead>\n",
       "  <tbody>\n",
       "    <tr>\n",
       "      <th>0</th>\n",
       "      <td>2</td>\n",
       "      <td>stockton, california, usa</td>\n",
       "      <td>18.0</td>\n",
       "      <td>0195153448</td>\n",
       "      <td>0</td>\n",
       "      <td>Classical Mythology</td>\n",
       "      <td>Mark P. O. Morford</td>\n",
       "      <td>2002</td>\n",
       "      <td>Oxford University Press</td>\n",
       "      <td>http://images.amazon.com/images/P/0195153448.0...</td>\n",
       "      <td>http://images.amazon.com/images/P/0195153448.0...</td>\n",
       "      <td>http://images.amazon.com/images/P/0195153448.0...</td>\n",
       "    </tr>\n",
       "    <tr>\n",
       "      <th>1</th>\n",
       "      <td>8</td>\n",
       "      <td>timmins, ontario, canada</td>\n",
       "      <td>NaN</td>\n",
       "      <td>0002005018</td>\n",
       "      <td>5</td>\n",
       "      <td>Clara Callan</td>\n",
       "      <td>Richard Bruce Wright</td>\n",
       "      <td>2001</td>\n",
       "      <td>HarperFlamingo Canada</td>\n",
       "      <td>http://images.amazon.com/images/P/0002005018.0...</td>\n",
       "      <td>http://images.amazon.com/images/P/0002005018.0...</td>\n",
       "      <td>http://images.amazon.com/images/P/0002005018.0...</td>\n",
       "    </tr>\n",
       "    <tr>\n",
       "      <th>2</th>\n",
       "      <td>11400</td>\n",
       "      <td>ottawa, ontario, canada</td>\n",
       "      <td>49.0</td>\n",
       "      <td>0002005018</td>\n",
       "      <td>0</td>\n",
       "      <td>Clara Callan</td>\n",
       "      <td>Richard Bruce Wright</td>\n",
       "      <td>2001</td>\n",
       "      <td>HarperFlamingo Canada</td>\n",
       "      <td>http://images.amazon.com/images/P/0002005018.0...</td>\n",
       "      <td>http://images.amazon.com/images/P/0002005018.0...</td>\n",
       "      <td>http://images.amazon.com/images/P/0002005018.0...</td>\n",
       "    </tr>\n",
       "    <tr>\n",
       "      <th>3</th>\n",
       "      <td>11676</td>\n",
       "      <td>n/a, n/a, n/a</td>\n",
       "      <td>NaN</td>\n",
       "      <td>0002005018</td>\n",
       "      <td>8</td>\n",
       "      <td>Clara Callan</td>\n",
       "      <td>Richard Bruce Wright</td>\n",
       "      <td>2001</td>\n",
       "      <td>HarperFlamingo Canada</td>\n",
       "      <td>http://images.amazon.com/images/P/0002005018.0...</td>\n",
       "      <td>http://images.amazon.com/images/P/0002005018.0...</td>\n",
       "      <td>http://images.amazon.com/images/P/0002005018.0...</td>\n",
       "    </tr>\n",
       "    <tr>\n",
       "      <th>4</th>\n",
       "      <td>41385</td>\n",
       "      <td>sudbury, ontario, canada</td>\n",
       "      <td>NaN</td>\n",
       "      <td>0002005018</td>\n",
       "      <td>0</td>\n",
       "      <td>Clara Callan</td>\n",
       "      <td>Richard Bruce Wright</td>\n",
       "      <td>2001</td>\n",
       "      <td>HarperFlamingo Canada</td>\n",
       "      <td>http://images.amazon.com/images/P/0002005018.0...</td>\n",
       "      <td>http://images.amazon.com/images/P/0002005018.0...</td>\n",
       "      <td>http://images.amazon.com/images/P/0002005018.0...</td>\n",
       "    </tr>\n",
       "  </tbody>\n",
       "</table>\n",
       "</div>"
      ],
      "text/plain": [
       "   User-ID                   Location   Age        ISBN  Book-Rating  \\\n",
       "0        2  stockton, california, usa  18.0  0195153448            0   \n",
       "1        8   timmins, ontario, canada   NaN  0002005018            5   \n",
       "2    11400    ottawa, ontario, canada  49.0  0002005018            0   \n",
       "3    11676              n/a, n/a, n/a   NaN  0002005018            8   \n",
       "4    41385   sudbury, ontario, canada   NaN  0002005018            0   \n",
       "\n",
       "            Book-Title           Book-Author Year-Of-Publication  \\\n",
       "0  Classical Mythology    Mark P. O. Morford                2002   \n",
       "1         Clara Callan  Richard Bruce Wright                2001   \n",
       "2         Clara Callan  Richard Bruce Wright                2001   \n",
       "3         Clara Callan  Richard Bruce Wright                2001   \n",
       "4         Clara Callan  Richard Bruce Wright                2001   \n",
       "\n",
       "                 Publisher                                        Image-URL-S  \\\n",
       "0  Oxford University Press  http://images.amazon.com/images/P/0195153448.0...   \n",
       "1    HarperFlamingo Canada  http://images.amazon.com/images/P/0002005018.0...   \n",
       "2    HarperFlamingo Canada  http://images.amazon.com/images/P/0002005018.0...   \n",
       "3    HarperFlamingo Canada  http://images.amazon.com/images/P/0002005018.0...   \n",
       "4    HarperFlamingo Canada  http://images.amazon.com/images/P/0002005018.0...   \n",
       "\n",
       "                                         Image-URL-M  \\\n",
       "0  http://images.amazon.com/images/P/0195153448.0...   \n",
       "1  http://images.amazon.com/images/P/0002005018.0...   \n",
       "2  http://images.amazon.com/images/P/0002005018.0...   \n",
       "3  http://images.amazon.com/images/P/0002005018.0...   \n",
       "4  http://images.amazon.com/images/P/0002005018.0...   \n",
       "\n",
       "                                         Image-URL-L  \n",
       "0  http://images.amazon.com/images/P/0195153448.0...  \n",
       "1  http://images.amazon.com/images/P/0002005018.0...  \n",
       "2  http://images.amazon.com/images/P/0002005018.0...  \n",
       "3  http://images.amazon.com/images/P/0002005018.0...  \n",
       "4  http://images.amazon.com/images/P/0002005018.0...  "
      ]
     },
     "execution_count": 105,
     "metadata": {},
     "output_type": "execute_result"
    }
   ],
   "source": [
    "#Merging datasets user_rating and books based on 'ISBN'\n",
    "user_book_rating=pd.merge(user_rating,books,on='ISBN')\n",
    "user_book_rating.head()"
   ]
  },
  {
   "cell_type": "code",
   "execution_count": 106,
   "id": "47d703ad",
   "metadata": {
    "ExecuteTime": {
     "end_time": "2022-12-06T18:26:48.508993Z",
     "start_time": "2022-12-06T18:26:48.476054Z"
    }
   },
   "outputs": [
    {
     "data": {
      "text/plain": [
       "(1031136, 12)"
      ]
     },
     "execution_count": 106,
     "metadata": {},
     "output_type": "execute_result"
    }
   ],
   "source": [
    "user_book_rating.shape"
   ]
  },
  {
   "cell_type": "code",
   "execution_count": 107,
   "id": "2afd2ddf",
   "metadata": {
    "ExecuteTime": {
     "end_time": "2022-12-06T18:26:53.008635Z",
     "start_time": "2022-12-06T18:26:48.514991Z"
    }
   },
   "outputs": [
    {
     "data": {
      "text/plain": [
       "User-ID                     0\n",
       "Location                    0\n",
       "ISBN                        0\n",
       "Book-Rating                 0\n",
       "Book-Title                  0\n",
       "Year-Of-Publication         0\n",
       "Image-URL-S                 0\n",
       "Image-URL-M                 0\n",
       "Book-Author                 1\n",
       "Publisher                   2\n",
       "Image-URL-L                 4\n",
       "Age                    277835\n",
       "dtype: int64"
      ]
     },
     "execution_count": 107,
     "metadata": {},
     "output_type": "execute_result"
    }
   ],
   "source": [
    "user_book_rating.isna().sum().sort_values(ascending=True)"
   ]
  },
  {
   "cell_type": "code",
   "execution_count": 108,
   "id": "c62026cf",
   "metadata": {
    "ExecuteTime": {
     "end_time": "2022-12-06T18:26:57.350238Z",
     "start_time": "2022-12-06T18:26:53.019622Z"
    }
   },
   "outputs": [
    {
     "data": {
      "text/plain": [
       "User-ID                 0.000000\n",
       "Location                0.000000\n",
       "ISBN                    0.000000\n",
       "Book-Rating             0.000000\n",
       "Book-Title              0.000000\n",
       "Year-Of-Publication     0.000000\n",
       "Image-URL-S             0.000000\n",
       "Image-URL-M             0.000000\n",
       "Book-Author             0.000087\n",
       "Publisher               0.000174\n",
       "Image-URL-L             0.000348\n",
       "Age                    24.164188\n",
       "dtype: float64"
      ]
     },
     "execution_count": 108,
     "metadata": {},
     "output_type": "execute_result"
    }
   ],
   "source": [
    "user_book_rating.isna().sum().sort_values(ascending=True)/len(ratings)*100"
   ]
  },
  {
   "cell_type": "code",
   "execution_count": 109,
   "id": "fb742fe8",
   "metadata": {
    "ExecuteTime": {
     "end_time": "2022-12-06T18:26:57.381190Z",
     "start_time": "2022-12-06T18:26:57.357235Z"
    }
   },
   "outputs": [
    {
     "data": {
      "text/plain": [
       "User-ID                  int64\n",
       "Location                object\n",
       "Age                    float64\n",
       "ISBN                    object\n",
       "Book-Rating              int64\n",
       "Book-Title              object\n",
       "Book-Author             object\n",
       "Year-Of-Publication     object\n",
       "Publisher               object\n",
       "Image-URL-S             object\n",
       "Image-URL-M             object\n",
       "Image-URL-L             object\n",
       "dtype: object"
      ]
     },
     "execution_count": 109,
     "metadata": {},
     "output_type": "execute_result"
    }
   ],
   "source": [
    "user_book_rating.dtypes"
   ]
  },
  {
   "cell_type": "code",
   "execution_count": 110,
   "id": "81721e91",
   "metadata": {
    "ExecuteTime": {
     "end_time": "2022-12-06T18:27:04.592259Z",
     "start_time": "2022-12-06T18:26:57.388188Z"
    }
   },
   "outputs": [
    {
     "data": {
      "text/html": [
       "<div>\n",
       "<style scoped>\n",
       "    .dataframe tbody tr th:only-of-type {\n",
       "        vertical-align: middle;\n",
       "    }\n",
       "\n",
       "    .dataframe tbody tr th {\n",
       "        vertical-align: top;\n",
       "    }\n",
       "\n",
       "    .dataframe thead th {\n",
       "        text-align: right;\n",
       "    }\n",
       "</style>\n",
       "<table border=\"1\" class=\"dataframe\">\n",
       "  <thead>\n",
       "    <tr style=\"text-align: right;\">\n",
       "      <th></th>\n",
       "      <th>User-ID</th>\n",
       "      <th>Location</th>\n",
       "      <th>Age</th>\n",
       "      <th>ISBN</th>\n",
       "      <th>Book-Rating</th>\n",
       "      <th>Book-Title</th>\n",
       "      <th>Book-Author</th>\n",
       "      <th>Year-Of-Publication</th>\n",
       "      <th>Publisher</th>\n",
       "      <th>Image-URL-S</th>\n",
       "      <th>Image-URL-M</th>\n",
       "      <th>Image-URL-L</th>\n",
       "    </tr>\n",
       "  </thead>\n",
       "  <tbody>\n",
       "  </tbody>\n",
       "</table>\n",
       "</div>"
      ],
      "text/plain": [
       "Empty DataFrame\n",
       "Columns: [User-ID, Location, Age, ISBN, Book-Rating, Book-Title, Book-Author, Year-Of-Publication, Publisher, Image-URL-S, Image-URL-M, Image-URL-L]\n",
       "Index: []"
      ]
     },
     "execution_count": 110,
     "metadata": {},
     "output_type": "execute_result"
    }
   ],
   "source": [
    "user_book_rating[user_book_rating.duplicated()]"
   ]
  },
  {
   "cell_type": "code",
   "execution_count": 111,
   "id": "5b31343b",
   "metadata": {
    "ExecuteTime": {
     "end_time": "2022-12-06T18:27:04.873824Z",
     "start_time": "2022-12-06T18:27:04.598258Z"
    }
   },
   "outputs": [
    {
     "data": {
      "text/html": [
       "<div>\n",
       "<style scoped>\n",
       "    .dataframe tbody tr th:only-of-type {\n",
       "        vertical-align: middle;\n",
       "    }\n",
       "\n",
       "    .dataframe tbody tr th {\n",
       "        vertical-align: top;\n",
       "    }\n",
       "\n",
       "    .dataframe thead th {\n",
       "        text-align: right;\n",
       "    }\n",
       "</style>\n",
       "<table border=\"1\" class=\"dataframe\">\n",
       "  <thead>\n",
       "    <tr style=\"text-align: right;\">\n",
       "      <th></th>\n",
       "      <th>User-ID</th>\n",
       "      <th>Age</th>\n",
       "      <th>Book-Rating</th>\n",
       "    </tr>\n",
       "  </thead>\n",
       "  <tbody>\n",
       "    <tr>\n",
       "      <th>count</th>\n",
       "      <td>1031136.00</td>\n",
       "      <td>753301.0</td>\n",
       "      <td>1031136.00</td>\n",
       "    </tr>\n",
       "    <tr>\n",
       "      <th>mean</th>\n",
       "      <td>140594.50</td>\n",
       "      <td>37.4</td>\n",
       "      <td>2.84</td>\n",
       "    </tr>\n",
       "    <tr>\n",
       "      <th>std</th>\n",
       "      <td>80524.66</td>\n",
       "      <td>14.1</td>\n",
       "      <td>3.85</td>\n",
       "    </tr>\n",
       "    <tr>\n",
       "      <th>min</th>\n",
       "      <td>2.00</td>\n",
       "      <td>0.0</td>\n",
       "      <td>0.00</td>\n",
       "    </tr>\n",
       "    <tr>\n",
       "      <th>25%</th>\n",
       "      <td>70415.00</td>\n",
       "      <td>28.0</td>\n",
       "      <td>0.00</td>\n",
       "    </tr>\n",
       "    <tr>\n",
       "      <th>50%</th>\n",
       "      <td>141210.00</td>\n",
       "      <td>35.0</td>\n",
       "      <td>0.00</td>\n",
       "    </tr>\n",
       "    <tr>\n",
       "      <th>75%</th>\n",
       "      <td>211426.00</td>\n",
       "      <td>45.0</td>\n",
       "      <td>7.00</td>\n",
       "    </tr>\n",
       "    <tr>\n",
       "      <th>max</th>\n",
       "      <td>278854.00</td>\n",
       "      <td>244.0</td>\n",
       "      <td>10.00</td>\n",
       "    </tr>\n",
       "  </tbody>\n",
       "</table>\n",
       "</div>"
      ],
      "text/plain": [
       "          User-ID       Age  Book-Rating\n",
       "count  1031136.00  753301.0   1031136.00\n",
       "mean    140594.50      37.4         2.84\n",
       "std      80524.66      14.1         3.85\n",
       "min          2.00       0.0         0.00\n",
       "25%      70415.00      28.0         0.00\n",
       "50%     141210.00      35.0         0.00\n",
       "75%     211426.00      45.0         7.00\n",
       "max     278854.00     244.0        10.00"
      ]
     },
     "execution_count": 111,
     "metadata": {},
     "output_type": "execute_result"
    }
   ],
   "source": [
    "user_book_rating.describe().round(2)"
   ]
  },
  {
   "cell_type": "markdown",
   "id": "12963279",
   "metadata": {},
   "source": [
    "### Data Cleaning/Preparation"
   ]
  },
  {
   "cell_type": "code",
   "execution_count": 112,
   "id": "565f2935",
   "metadata": {
    "ExecuteTime": {
     "end_time": "2022-12-06T18:27:05.406983Z",
     "start_time": "2022-12-06T18:27:04.881809Z"
    }
   },
   "outputs": [
    {
     "data": {
      "text/html": [
       "<div>\n",
       "<style scoped>\n",
       "    .dataframe tbody tr th:only-of-type {\n",
       "        vertical-align: middle;\n",
       "    }\n",
       "\n",
       "    .dataframe tbody tr th {\n",
       "        vertical-align: top;\n",
       "    }\n",
       "\n",
       "    .dataframe thead th {\n",
       "        text-align: right;\n",
       "    }\n",
       "</style>\n",
       "<table border=\"1\" class=\"dataframe\">\n",
       "  <thead>\n",
       "    <tr style=\"text-align: right;\">\n",
       "      <th></th>\n",
       "      <th>User_ID</th>\n",
       "      <th>Location</th>\n",
       "      <th>Age</th>\n",
       "      <th>ISBN</th>\n",
       "      <th>Book_Rating</th>\n",
       "      <th>Book_Title</th>\n",
       "      <th>Book_Author</th>\n",
       "      <th>Year_Of_Publication</th>\n",
       "      <th>Publisher</th>\n",
       "      <th>Image_URL_S</th>\n",
       "      <th>Image_URL_M</th>\n",
       "      <th>Image_URL_L</th>\n",
       "    </tr>\n",
       "  </thead>\n",
       "  <tbody>\n",
       "    <tr>\n",
       "      <th>0</th>\n",
       "      <td>2</td>\n",
       "      <td>stockton, california, usa</td>\n",
       "      <td>18.0</td>\n",
       "      <td>0195153448</td>\n",
       "      <td>0</td>\n",
       "      <td>Classical Mythology</td>\n",
       "      <td>Mark P. O. Morford</td>\n",
       "      <td>2002</td>\n",
       "      <td>Oxford University Press</td>\n",
       "      <td>http://images.amazon.com/images/P/0195153448.0...</td>\n",
       "      <td>http://images.amazon.com/images/P/0195153448.0...</td>\n",
       "      <td>http://images.amazon.com/images/P/0195153448.0...</td>\n",
       "    </tr>\n",
       "    <tr>\n",
       "      <th>1</th>\n",
       "      <td>8</td>\n",
       "      <td>timmins, ontario, canada</td>\n",
       "      <td>NaN</td>\n",
       "      <td>0002005018</td>\n",
       "      <td>5</td>\n",
       "      <td>Clara Callan</td>\n",
       "      <td>Richard Bruce Wright</td>\n",
       "      <td>2001</td>\n",
       "      <td>HarperFlamingo Canada</td>\n",
       "      <td>http://images.amazon.com/images/P/0002005018.0...</td>\n",
       "      <td>http://images.amazon.com/images/P/0002005018.0...</td>\n",
       "      <td>http://images.amazon.com/images/P/0002005018.0...</td>\n",
       "    </tr>\n",
       "  </tbody>\n",
       "</table>\n",
       "</div>"
      ],
      "text/plain": [
       "   User_ID                   Location   Age        ISBN  Book_Rating  \\\n",
       "0        2  stockton, california, usa  18.0  0195153448            0   \n",
       "1        8   timmins, ontario, canada   NaN  0002005018            5   \n",
       "\n",
       "            Book_Title           Book_Author Year_Of_Publication  \\\n",
       "0  Classical Mythology    Mark P. O. Morford                2002   \n",
       "1         Clara Callan  Richard Bruce Wright                2001   \n",
       "\n",
       "                 Publisher                                        Image_URL_S  \\\n",
       "0  Oxford University Press  http://images.amazon.com/images/P/0195153448.0...   \n",
       "1    HarperFlamingo Canada  http://images.amazon.com/images/P/0002005018.0...   \n",
       "\n",
       "                                         Image_URL_M  \\\n",
       "0  http://images.amazon.com/images/P/0195153448.0...   \n",
       "1  http://images.amazon.com/images/P/0002005018.0...   \n",
       "\n",
       "                                         Image_URL_L  \n",
       "0  http://images.amazon.com/images/P/0195153448.0...  \n",
       "1  http://images.amazon.com/images/P/0002005018.0...  "
      ]
     },
     "execution_count": 112,
     "metadata": {},
     "output_type": "execute_result"
    }
   ],
   "source": [
    "#Replace hyphen with underscore\n",
    "\n",
    "user_book_rating=user_book_rating.rename(columns = {'User-ID':'User_ID','Book-Rating':'Book_Rating','Book-Title':'Book_Title',\n",
    "                                  'Book-Author':'Book_Author','Year-Of-Publication':'Year_Of_Publication',\n",
    "                                  'Image-URL-S':'Image_URL_S', 'Image-URL-M':'Image_URL_M','Image-URL-L':'Image_URL_L'})\n",
    "user_book_rating.head(2)"
   ]
  },
  {
   "cell_type": "markdown",
   "id": "033d2126",
   "metadata": {},
   "source": [
    "#### Handling feature 'Book Author'"
   ]
  },
  {
   "cell_type": "code",
   "execution_count": 113,
   "id": "20811736",
   "metadata": {
    "ExecuteTime": {
     "end_time": "2022-12-06T18:27:05.652597Z",
     "start_time": "2022-12-06T18:27:05.416968Z"
    }
   },
   "outputs": [
    {
     "data": {
      "text/html": [
       "<div>\n",
       "<style scoped>\n",
       "    .dataframe tbody tr th:only-of-type {\n",
       "        vertical-align: middle;\n",
       "    }\n",
       "\n",
       "    .dataframe tbody tr th {\n",
       "        vertical-align: top;\n",
       "    }\n",
       "\n",
       "    .dataframe thead th {\n",
       "        text-align: right;\n",
       "    }\n",
       "</style>\n",
       "<table border=\"1\" class=\"dataframe\">\n",
       "  <thead>\n",
       "    <tr style=\"text-align: right;\">\n",
       "      <th></th>\n",
       "      <th>User_ID</th>\n",
       "      <th>Location</th>\n",
       "      <th>Age</th>\n",
       "      <th>ISBN</th>\n",
       "      <th>Book_Rating</th>\n",
       "      <th>Book_Title</th>\n",
       "      <th>Book_Author</th>\n",
       "      <th>Year_Of_Publication</th>\n",
       "      <th>Publisher</th>\n",
       "      <th>Image_URL_S</th>\n",
       "      <th>Image_URL_M</th>\n",
       "      <th>Image_URL_L</th>\n",
       "    </tr>\n",
       "  </thead>\n",
       "  <tbody>\n",
       "    <tr>\n",
       "      <th>857604</th>\n",
       "      <td>98647</td>\n",
       "      <td>selayang, selangor, malaysia</td>\n",
       "      <td>26.0</td>\n",
       "      <td>9627982032</td>\n",
       "      <td>8</td>\n",
       "      <td>The Credit Suisse Guide to Managing Your Perso...</td>\n",
       "      <td>NaN</td>\n",
       "      <td>1995</td>\n",
       "      <td>Edinburgh Financial Publishing</td>\n",
       "      <td>http://images.amazon.com/images/P/9627982032.0...</td>\n",
       "      <td>http://images.amazon.com/images/P/9627982032.0...</td>\n",
       "      <td>http://images.amazon.com/images/P/9627982032.0...</td>\n",
       "    </tr>\n",
       "  </tbody>\n",
       "</table>\n",
       "</div>"
      ],
      "text/plain": [
       "        User_ID                      Location   Age        ISBN  Book_Rating  \\\n",
       "857604    98647  selayang, selangor, malaysia  26.0  9627982032            8   \n",
       "\n",
       "                                               Book_Title Book_Author  \\\n",
       "857604  The Credit Suisse Guide to Managing Your Perso...         NaN   \n",
       "\n",
       "       Year_Of_Publication                       Publisher  \\\n",
       "857604                1995  Edinburgh Financial Publishing   \n",
       "\n",
       "                                              Image_URL_S  \\\n",
       "857604  http://images.amazon.com/images/P/9627982032.0...   \n",
       "\n",
       "                                              Image_URL_M  \\\n",
       "857604  http://images.amazon.com/images/P/9627982032.0...   \n",
       "\n",
       "                                              Image_URL_L  \n",
       "857604  http://images.amazon.com/images/P/9627982032.0...  "
      ]
     },
     "execution_count": 113,
     "metadata": {},
     "output_type": "execute_result"
    }
   ],
   "source": [
    "user_book_rating[user_book_rating['Book_Author'].isnull()]"
   ]
  },
  {
   "cell_type": "code",
   "execution_count": 114,
   "id": "7488abfe",
   "metadata": {
    "ExecuteTime": {
     "end_time": "2022-12-06T18:27:05.858278Z",
     "start_time": "2022-12-06T18:27:05.665574Z"
    }
   },
   "outputs": [],
   "source": [
    "index_nan_book_author=user_book_rating[user_book_rating['Book_Author'].isnull()].index[0]"
   ]
  },
  {
   "cell_type": "code",
   "execution_count": 115,
   "id": "59e62f9f",
   "metadata": {
    "ExecuteTime": {
     "end_time": "2022-12-06T18:27:06.775832Z",
     "start_time": "2022-12-06T18:27:05.874257Z"
    }
   },
   "outputs": [],
   "source": [
    "user_book_rating.drop(index=index_nan_book_author,axis=0,inplace=True)"
   ]
  },
  {
   "cell_type": "markdown",
   "id": "7f92b879",
   "metadata": {},
   "source": [
    "#### Handling feature 'Publisher'"
   ]
  },
  {
   "cell_type": "code",
   "execution_count": 116,
   "id": "d520b3bd",
   "metadata": {
    "ExecuteTime": {
     "end_time": "2022-12-06T18:27:07.007489Z",
     "start_time": "2022-12-06T18:27:06.782824Z"
    }
   },
   "outputs": [
    {
     "data": {
      "text/html": [
       "<div>\n",
       "<style scoped>\n",
       "    .dataframe tbody tr th:only-of-type {\n",
       "        vertical-align: middle;\n",
       "    }\n",
       "\n",
       "    .dataframe tbody tr th {\n",
       "        vertical-align: top;\n",
       "    }\n",
       "\n",
       "    .dataframe thead th {\n",
       "        text-align: right;\n",
       "    }\n",
       "</style>\n",
       "<table border=\"1\" class=\"dataframe\">\n",
       "  <thead>\n",
       "    <tr style=\"text-align: right;\">\n",
       "      <th></th>\n",
       "      <th>User_ID</th>\n",
       "      <th>Location</th>\n",
       "      <th>Age</th>\n",
       "      <th>ISBN</th>\n",
       "      <th>Book_Rating</th>\n",
       "      <th>Book_Title</th>\n",
       "      <th>Book_Author</th>\n",
       "      <th>Year_Of_Publication</th>\n",
       "      <th>Publisher</th>\n",
       "      <th>Image_URL_S</th>\n",
       "      <th>Image_URL_M</th>\n",
       "      <th>Image_URL_L</th>\n",
       "    </tr>\n",
       "  </thead>\n",
       "  <tbody>\n",
       "    <tr>\n",
       "      <th>857163</th>\n",
       "      <td>98391</td>\n",
       "      <td>morrow, georgia, usa</td>\n",
       "      <td>52.0</td>\n",
       "      <td>193169656X</td>\n",
       "      <td>9</td>\n",
       "      <td>Tyrant Moon</td>\n",
       "      <td>Elaine Corvidae</td>\n",
       "      <td>2002</td>\n",
       "      <td>NaN</td>\n",
       "      <td>http://images.amazon.com/images/P/193169656X.0...</td>\n",
       "      <td>http://images.amazon.com/images/P/193169656X.0...</td>\n",
       "      <td>http://images.amazon.com/images/P/193169656X.0...</td>\n",
       "    </tr>\n",
       "    <tr>\n",
       "      <th>857174</th>\n",
       "      <td>98391</td>\n",
       "      <td>morrow, georgia, usa</td>\n",
       "      <td>52.0</td>\n",
       "      <td>1931696993</td>\n",
       "      <td>9</td>\n",
       "      <td>Finders Keepers</td>\n",
       "      <td>Linnea Sinclair</td>\n",
       "      <td>2001</td>\n",
       "      <td>NaN</td>\n",
       "      <td>http://images.amazon.com/images/P/1931696993.0...</td>\n",
       "      <td>http://images.amazon.com/images/P/1931696993.0...</td>\n",
       "      <td>http://images.amazon.com/images/P/1931696993.0...</td>\n",
       "    </tr>\n",
       "  </tbody>\n",
       "</table>\n",
       "</div>"
      ],
      "text/plain": [
       "        User_ID              Location   Age        ISBN  Book_Rating  \\\n",
       "857163    98391  morrow, georgia, usa  52.0  193169656X            9   \n",
       "857174    98391  morrow, georgia, usa  52.0  1931696993            9   \n",
       "\n",
       "             Book_Title      Book_Author Year_Of_Publication Publisher  \\\n",
       "857163      Tyrant Moon  Elaine Corvidae                2002       NaN   \n",
       "857174  Finders Keepers  Linnea Sinclair                2001       NaN   \n",
       "\n",
       "                                              Image_URL_S  \\\n",
       "857163  http://images.amazon.com/images/P/193169656X.0...   \n",
       "857174  http://images.amazon.com/images/P/1931696993.0...   \n",
       "\n",
       "                                              Image_URL_M  \\\n",
       "857163  http://images.amazon.com/images/P/193169656X.0...   \n",
       "857174  http://images.amazon.com/images/P/1931696993.0...   \n",
       "\n",
       "                                              Image_URL_L  \n",
       "857163  http://images.amazon.com/images/P/193169656X.0...  \n",
       "857174  http://images.amazon.com/images/P/1931696993.0...  "
      ]
     },
     "execution_count": 116,
     "metadata": {},
     "output_type": "execute_result"
    }
   ],
   "source": [
    "user_book_rating[user_book_rating['Publisher'].isnull()]"
   ]
  },
  {
   "cell_type": "code",
   "execution_count": 117,
   "id": "71c2e0f6",
   "metadata": {
    "ExecuteTime": {
     "end_time": "2022-12-06T18:27:07.589769Z",
     "start_time": "2022-12-06T18:27:07.014485Z"
    }
   },
   "outputs": [],
   "source": [
    "user_book_rating.loc[(user_book_rating.ISBN == '193169656X'),'Publisher'] = 'NovelBooks'\n",
    "user_book_rating.loc[(user_book_rating.ISBN == '1931696993'),'Publisher'] = 'CreateSpace Independent Publishing Platform'"
   ]
  },
  {
   "cell_type": "code",
   "execution_count": 118,
   "id": "1c352829",
   "metadata": {
    "ExecuteTime": {
     "end_time": "2022-12-06T18:27:07.790458Z",
     "start_time": "2022-12-06T18:27:07.595767Z"
    }
   },
   "outputs": [
    {
     "data": {
      "text/html": [
       "<div>\n",
       "<style scoped>\n",
       "    .dataframe tbody tr th:only-of-type {\n",
       "        vertical-align: middle;\n",
       "    }\n",
       "\n",
       "    .dataframe tbody tr th {\n",
       "        vertical-align: top;\n",
       "    }\n",
       "\n",
       "    .dataframe thead th {\n",
       "        text-align: right;\n",
       "    }\n",
       "</style>\n",
       "<table border=\"1\" class=\"dataframe\">\n",
       "  <thead>\n",
       "    <tr style=\"text-align: right;\">\n",
       "      <th></th>\n",
       "      <th>User_ID</th>\n",
       "      <th>Location</th>\n",
       "      <th>Age</th>\n",
       "      <th>ISBN</th>\n",
       "      <th>Book_Rating</th>\n",
       "      <th>Book_Title</th>\n",
       "      <th>Book_Author</th>\n",
       "      <th>Year_Of_Publication</th>\n",
       "      <th>Publisher</th>\n",
       "      <th>Image_URL_S</th>\n",
       "      <th>Image_URL_M</th>\n",
       "      <th>Image_URL_L</th>\n",
       "    </tr>\n",
       "  </thead>\n",
       "  <tbody>\n",
       "  </tbody>\n",
       "</table>\n",
       "</div>"
      ],
      "text/plain": [
       "Empty DataFrame\n",
       "Columns: [User_ID, Location, Age, ISBN, Book_Rating, Book_Title, Book_Author, Year_Of_Publication, Publisher, Image_URL_S, Image_URL_M, Image_URL_L]\n",
       "Index: []"
      ]
     },
     "execution_count": 118,
     "metadata": {},
     "output_type": "execute_result"
    }
   ],
   "source": [
    "user_book_rating[user_book_rating['Publisher'].isnull()]"
   ]
  },
  {
   "cell_type": "markdown",
   "id": "cdc974ce",
   "metadata": {},
   "source": [
    "#### Handling feature 'Image_URL_L'"
   ]
  },
  {
   "cell_type": "code",
   "execution_count": 119,
   "id": "f90ebd4b",
   "metadata": {
    "ExecuteTime": {
     "end_time": "2022-12-06T18:27:08.044064Z",
     "start_time": "2022-12-06T18:27:07.797451Z"
    }
   },
   "outputs": [
    {
     "data": {
      "text/html": [
       "<div>\n",
       "<style scoped>\n",
       "    .dataframe tbody tr th:only-of-type {\n",
       "        vertical-align: middle;\n",
       "    }\n",
       "\n",
       "    .dataframe tbody tr th {\n",
       "        vertical-align: top;\n",
       "    }\n",
       "\n",
       "    .dataframe thead th {\n",
       "        text-align: right;\n",
       "    }\n",
       "</style>\n",
       "<table border=\"1\" class=\"dataframe\">\n",
       "  <thead>\n",
       "    <tr style=\"text-align: right;\">\n",
       "      <th></th>\n",
       "      <th>User_ID</th>\n",
       "      <th>Location</th>\n",
       "      <th>Age</th>\n",
       "      <th>ISBN</th>\n",
       "      <th>Book_Rating</th>\n",
       "      <th>Book_Title</th>\n",
       "      <th>Book_Author</th>\n",
       "      <th>Year_Of_Publication</th>\n",
       "      <th>Publisher</th>\n",
       "      <th>Image_URL_S</th>\n",
       "      <th>Image_URL_M</th>\n",
       "      <th>Image_URL_L</th>\n",
       "    </tr>\n",
       "  </thead>\n",
       "  <tbody>\n",
       "    <tr>\n",
       "      <th>906829</th>\n",
       "      <td>130571</td>\n",
       "      <td>summerville, south carolina, usa</td>\n",
       "      <td>NaN</td>\n",
       "      <td>0789466953</td>\n",
       "      <td>0</td>\n",
       "      <td>DK Readers: Creating the X-Men, How Comic Book...</td>\n",
       "      <td>2000</td>\n",
       "      <td>DK Publishing Inc</td>\n",
       "      <td>http://images.amazon.com/images/P/0789466953.0...</td>\n",
       "      <td>http://images.amazon.com/images/P/0789466953.0...</td>\n",
       "      <td>http://images.amazon.com/images/P/0789466953.0...</td>\n",
       "      <td>NaN</td>\n",
       "    </tr>\n",
       "    <tr>\n",
       "      <th>913994</th>\n",
       "      <td>137190</td>\n",
       "      <td>rennes, bretagne, france</td>\n",
       "      <td>31.0</td>\n",
       "      <td>2070426769</td>\n",
       "      <td>0</td>\n",
       "      <td>Peuple du ciel, suivi de 'Les Bergers\\\";Jean-M...</td>\n",
       "      <td>2003</td>\n",
       "      <td>Gallimard</td>\n",
       "      <td>http://images.amazon.com/images/P/2070426769.0...</td>\n",
       "      <td>http://images.amazon.com/images/P/2070426769.0...</td>\n",
       "      <td>http://images.amazon.com/images/P/2070426769.0...</td>\n",
       "      <td>NaN</td>\n",
       "    </tr>\n",
       "    <tr>\n",
       "      <th>946370</th>\n",
       "      <td>169663</td>\n",
       "      <td>towson, maryland, usa</td>\n",
       "      <td>NaN</td>\n",
       "      <td>078946697X</td>\n",
       "      <td>0</td>\n",
       "      <td>DK Readers: Creating the X-Men, How It All Beg...</td>\n",
       "      <td>2000</td>\n",
       "      <td>DK Publishing Inc</td>\n",
       "      <td>http://images.amazon.com/images/P/078946697X.0...</td>\n",
       "      <td>http://images.amazon.com/images/P/078946697X.0...</td>\n",
       "      <td>http://images.amazon.com/images/P/078946697X.0...</td>\n",
       "      <td>NaN</td>\n",
       "    </tr>\n",
       "    <tr>\n",
       "      <th>946371</th>\n",
       "      <td>227771</td>\n",
       "      <td>savion, n/a, israel</td>\n",
       "      <td>19.0</td>\n",
       "      <td>078946697X</td>\n",
       "      <td>7</td>\n",
       "      <td>DK Readers: Creating the X-Men, How It All Beg...</td>\n",
       "      <td>2000</td>\n",
       "      <td>DK Publishing Inc</td>\n",
       "      <td>http://images.amazon.com/images/P/078946697X.0...</td>\n",
       "      <td>http://images.amazon.com/images/P/078946697X.0...</td>\n",
       "      <td>http://images.amazon.com/images/P/078946697X.0...</td>\n",
       "      <td>NaN</td>\n",
       "    </tr>\n",
       "  </tbody>\n",
       "</table>\n",
       "</div>"
      ],
      "text/plain": [
       "        User_ID                          Location   Age        ISBN  \\\n",
       "906829   130571  summerville, south carolina, usa   NaN  0789466953   \n",
       "913994   137190          rennes, bretagne, france  31.0  2070426769   \n",
       "946370   169663             towson, maryland, usa   NaN  078946697X   \n",
       "946371   227771               savion, n/a, israel  19.0  078946697X   \n",
       "\n",
       "        Book_Rating                                         Book_Title  \\\n",
       "906829            0  DK Readers: Creating the X-Men, How Comic Book...   \n",
       "913994            0  Peuple du ciel, suivi de 'Les Bergers\\\";Jean-M...   \n",
       "946370            0  DK Readers: Creating the X-Men, How It All Beg...   \n",
       "946371            7  DK Readers: Creating the X-Men, How It All Beg...   \n",
       "\n",
       "       Book_Author Year_Of_Publication  \\\n",
       "906829        2000   DK Publishing Inc   \n",
       "913994        2003           Gallimard   \n",
       "946370        2000   DK Publishing Inc   \n",
       "946371        2000   DK Publishing Inc   \n",
       "\n",
       "                                                Publisher  \\\n",
       "906829  http://images.amazon.com/images/P/0789466953.0...   \n",
       "913994  http://images.amazon.com/images/P/2070426769.0...   \n",
       "946370  http://images.amazon.com/images/P/078946697X.0...   \n",
       "946371  http://images.amazon.com/images/P/078946697X.0...   \n",
       "\n",
       "                                              Image_URL_S  \\\n",
       "906829  http://images.amazon.com/images/P/0789466953.0...   \n",
       "913994  http://images.amazon.com/images/P/2070426769.0...   \n",
       "946370  http://images.amazon.com/images/P/078946697X.0...   \n",
       "946371  http://images.amazon.com/images/P/078946697X.0...   \n",
       "\n",
       "                                              Image_URL_M Image_URL_L  \n",
       "906829  http://images.amazon.com/images/P/0789466953.0...         NaN  \n",
       "913994  http://images.amazon.com/images/P/2070426769.0...         NaN  \n",
       "946370  http://images.amazon.com/images/P/078946697X.0...         NaN  \n",
       "946371  http://images.amazon.com/images/P/078946697X.0...         NaN  "
      ]
     },
     "execution_count": 119,
     "metadata": {},
     "output_type": "execute_result"
    }
   ],
   "source": [
    "user_book_rating[user_book_rating['Image_URL_L'].isnull()]"
   ]
  },
  {
   "cell_type": "code",
   "execution_count": 120,
   "id": "d0c8ad00",
   "metadata": {
    "ExecuteTime": {
     "end_time": "2022-12-06T18:27:08.263714Z",
     "start_time": "2022-12-06T18:27:08.051054Z"
    }
   },
   "outputs": [],
   "source": [
    "new= user_book_rating[user_book_rating[\"Image_URL_L\"].isnull()]\n",
    "yop=new[\"Book_Author\"].values\n",
    "p= new[\"Year_Of_Publication\"].values\n",
    "s=new[\"Publisher\"].values\n",
    "m=new[\"Image_URL_S\"].values\n",
    "l=new[\"Image_URL_M\"].values\n",
    "na=new[\"Image_URL_L\"].values"
   ]
  },
  {
   "cell_type": "code",
   "execution_count": 121,
   "id": "21c8f85e",
   "metadata": {
    "ExecuteTime": {
     "end_time": "2022-12-06T18:27:08.477387Z",
     "start_time": "2022-12-06T18:27:08.273703Z"
    }
   },
   "outputs": [
    {
     "data": {
      "text/plain": [
       "Int64Index([906829, 913994, 946370, 946371], dtype='int64')"
      ]
     },
     "execution_count": 121,
     "metadata": {},
     "output_type": "execute_result"
    }
   ],
   "source": [
    "isbn=user_book_rating[user_book_rating[\"Image_URL_L\"].isnull()][\"ISBN\"]\n",
    "isbn.index"
   ]
  },
  {
   "cell_type": "code",
   "execution_count": 122,
   "id": "10a779f0",
   "metadata": {
    "ExecuteTime": {
     "end_time": "2022-12-06T18:27:08.524309Z",
     "start_time": "2022-12-06T18:27:08.485371Z"
    }
   },
   "outputs": [],
   "source": [
    "user_book_rating.loc[isbn.index[0],\"Book_Author\"]='Buckley Jr., James'\n",
    "user_book_rating.loc[isbn.index[1],\"Book_Author\"]='Le Clezio, Jean-Marie Gustave'\n",
    "user_book_rating.loc[isbn.index[2],\"Book_Author\"]='Teitelbaum, Michael'\n",
    "user_book_rating.loc[isbn.index[2],\"Book_Author\"]='Teitelbaum, Michael'"
   ]
  },
  {
   "cell_type": "code",
   "execution_count": 123,
   "id": "bd94a91b",
   "metadata": {
    "ExecuteTime": {
     "end_time": "2022-12-06T18:27:10.446081Z",
     "start_time": "2022-12-06T18:27:08.535293Z"
    }
   },
   "outputs": [],
   "source": [
    "for i in range (len(isbn)):\n",
    "    x=user_book_rating.index[user_book_rating[\"ISBN\"]==isbn.values[i]]\n",
    "    user_book_rating.loc[x,\"Year_Of_Publication\"]=yop[i]\n",
    "    user_book_rating.loc[x,\"Publisher\"]=p[i]\n",
    "    user_book_rating.loc[x,\"Image_URL_S\"]=s[i] \n",
    "    user_book_rating.loc[x,\"Image_URL_M\"]=m[i]\n",
    "    user_book_rating.loc[x,\"Image_URL_L\"]=l[i]"
   ]
  },
  {
   "cell_type": "code",
   "execution_count": 124,
   "id": "be5af585",
   "metadata": {
    "ExecuteTime": {
     "end_time": "2022-12-06T18:27:10.676730Z",
     "start_time": "2022-12-06T18:27:10.453090Z"
    }
   },
   "outputs": [
    {
     "data": {
      "text/html": [
       "<div>\n",
       "<style scoped>\n",
       "    .dataframe tbody tr th:only-of-type {\n",
       "        vertical-align: middle;\n",
       "    }\n",
       "\n",
       "    .dataframe tbody tr th {\n",
       "        vertical-align: top;\n",
       "    }\n",
       "\n",
       "    .dataframe thead th {\n",
       "        text-align: right;\n",
       "    }\n",
       "</style>\n",
       "<table border=\"1\" class=\"dataframe\">\n",
       "  <thead>\n",
       "    <tr style=\"text-align: right;\">\n",
       "      <th></th>\n",
       "      <th>User_ID</th>\n",
       "      <th>Location</th>\n",
       "      <th>Age</th>\n",
       "      <th>ISBN</th>\n",
       "      <th>Book_Rating</th>\n",
       "      <th>Book_Title</th>\n",
       "      <th>Book_Author</th>\n",
       "      <th>Year_Of_Publication</th>\n",
       "      <th>Publisher</th>\n",
       "      <th>Image_URL_S</th>\n",
       "      <th>Image_URL_M</th>\n",
       "      <th>Image_URL_L</th>\n",
       "    </tr>\n",
       "  </thead>\n",
       "  <tbody>\n",
       "  </tbody>\n",
       "</table>\n",
       "</div>"
      ],
      "text/plain": [
       "Empty DataFrame\n",
       "Columns: [User_ID, Location, Age, ISBN, Book_Rating, Book_Title, Book_Author, Year_Of_Publication, Publisher, Image_URL_S, Image_URL_M, Image_URL_L]\n",
       "Index: []"
      ]
     },
     "execution_count": 124,
     "metadata": {},
     "output_type": "execute_result"
    }
   ],
   "source": [
    "user_book_rating[user_book_rating['Image_URL_L'].isnull()]"
   ]
  },
  {
   "cell_type": "code",
   "execution_count": 125,
   "id": "694e1839",
   "metadata": {
    "ExecuteTime": {
     "end_time": "2022-12-06T18:27:14.969519Z",
     "start_time": "2022-12-06T18:27:10.682725Z"
    }
   },
   "outputs": [
    {
     "data": {
      "text/plain": [
       "User_ID                     0\n",
       "Location                    0\n",
       "Age                    277835\n",
       "ISBN                        0\n",
       "Book_Rating                 0\n",
       "Book_Title                  0\n",
       "Book_Author                 0\n",
       "Year_Of_Publication         0\n",
       "Publisher                   0\n",
       "Image_URL_S                 0\n",
       "Image_URL_M                 0\n",
       "Image_URL_L                 0\n",
       "dtype: int64"
      ]
     },
     "execution_count": 125,
     "metadata": {},
     "output_type": "execute_result"
    }
   ],
   "source": [
    "user_book_rating.isnull().sum()"
   ]
  },
  {
   "cell_type": "markdown",
   "id": "a8ae2355",
   "metadata": {},
   "source": [
    "#### Handling feature - Age"
   ]
  },
  {
   "cell_type": "code",
   "execution_count": 126,
   "id": "c8813585",
   "metadata": {
    "ExecuteTime": {
     "end_time": "2022-12-06T18:27:15.063373Z",
     "start_time": "2022-12-06T18:27:14.975507Z"
    }
   },
   "outputs": [
    {
     "name": "stdout",
     "output_type": "stream",
     "text": [
      "[0.0, 1.0, 2.0, 3.0, 4.0, 5.0, 6.0, 7.0, 8.0, 9.0, 10.0, 11.0, 12.0, 18.0, nan, 13.0, 14.0, 15.0, 16.0, 17.0, 19.0, 20.0, 21.0, 22.0, 23.0, 24.0, 25.0, 26.0, 27.0, 28.0, 29.0, 30.0, 31.0, 32.0, 33.0, 34.0, 35.0, 36.0, 37.0, 38.0, 39.0, 40.0, 41.0, 42.0, 43.0, 44.0, 45.0, 46.0, 47.0, 48.0, 49.0, 50.0, 51.0, 52.0, 53.0, 54.0, 55.0, 56.0, 57.0, 58.0, 59.0, 60.0, 61.0, 62.0, 63.0, 64.0, 65.0, 66.0, 67.0, 68.0, 69.0, 70.0, 71.0, 72.0, 73.0, 74.0, 75.0, 76.0, 77.0, 78.0, 79.0, 80.0, 81.0, 82.0, 83.0, 84.0, 85.0, 86.0, 89.0, 90.0, 92.0, 93.0, 94.0, 95.0, 96.0, 97.0, 98.0, 99.0, 100.0, 101.0, 103.0, 104.0, 105.0, 107.0, 108.0, 109.0, 114.0, 116.0, 118.0, 123.0, 124.0, 127.0, 128.0, 132.0, 133.0, 136.0, 138.0, 140.0, 141.0, 146.0, 147.0, 148.0, 151.0, 152.0, 156.0, 157.0, 168.0, 199.0, 200.0, 201.0, 204.0, 209.0, 212.0, 219.0, 220.0, 223.0, 226.0, 228.0, 229.0, 237.0, 239.0, 244.0]\n"
     ]
    }
   ],
   "source": [
    "print(sorted(user_book_rating.Age.unique()))"
   ]
  },
  {
   "cell_type": "code",
   "execution_count": 127,
   "id": "fddf1074",
   "metadata": {
    "ExecuteTime": {
     "end_time": "2022-12-06T18:27:15.127267Z",
     "start_time": "2022-12-06T18:27:15.072358Z"
    }
   },
   "outputs": [
    {
     "data": {
      "text/plain": [
       "4979"
      ]
     },
     "execution_count": 127,
     "metadata": {},
     "output_type": "execute_result"
    }
   ],
   "source": [
    "len(user_book_rating.loc[(user_book_rating.Age > 90) | (user_book_rating.Age < 5), 'Age'])"
   ]
  },
  {
   "cell_type": "code",
   "execution_count": 128,
   "id": "53a223e8",
   "metadata": {
    "ExecuteTime": {
     "end_time": "2022-12-06T18:27:15.190174Z",
     "start_time": "2022-12-06T18:27:15.147243Z"
    }
   },
   "outputs": [],
   "source": [
    "user_book_rating.loc[(user_book_rating.Age > 90) | (user_book_rating.Age < 5), 'Age'] = np.nan"
   ]
  },
  {
   "cell_type": "code",
   "execution_count": 129,
   "id": "8a312b28",
   "metadata": {
    "ExecuteTime": {
     "end_time": "2022-12-06T18:27:19.405771Z",
     "start_time": "2022-12-06T18:27:15.196169Z"
    }
   },
   "outputs": [
    {
     "data": {
      "text/plain": [
       "User_ID                     0\n",
       "Location                    0\n",
       "Age                    282814\n",
       "ISBN                        0\n",
       "Book_Rating                 0\n",
       "Book_Title                  0\n",
       "Book_Author                 0\n",
       "Year_Of_Publication         0\n",
       "Publisher                   0\n",
       "Image_URL_S                 0\n",
       "Image_URL_M                 0\n",
       "Image_URL_L                 0\n",
       "dtype: int64"
      ]
     },
     "execution_count": 129,
     "metadata": {},
     "output_type": "execute_result"
    }
   ],
   "source": [
    "user_book_rating.isnull().sum()"
   ]
  },
  {
   "cell_type": "code",
   "execution_count": 130,
   "id": "e3855533",
   "metadata": {
    "ExecuteTime": {
     "end_time": "2022-12-06T18:27:19.486649Z",
     "start_time": "2022-12-06T18:27:19.413756Z"
    }
   },
   "outputs": [
    {
     "data": {
      "text/plain": [
       "0    33.0\n",
       "Name: Age, dtype: float64"
      ]
     },
     "execution_count": 130,
     "metadata": {},
     "output_type": "execute_result"
    }
   ],
   "source": [
    "user_book_rating.Age.mode()"
   ]
  },
  {
   "cell_type": "code",
   "execution_count": 131,
   "id": "014dfd13",
   "metadata": {
    "ExecuteTime": {
     "end_time": "2022-12-06T18:27:19.577524Z",
     "start_time": "2022-12-06T18:27:19.496626Z"
    }
   },
   "outputs": [],
   "source": [
    "user_book_rating['Age']=user_book_rating['Age'].fillna(user_book_rating.Age.median()).astype('int32')"
   ]
  },
  {
   "cell_type": "code",
   "execution_count": 132,
   "id": "23e6c103",
   "metadata": {
    "ExecuteTime": {
     "end_time": "2022-12-06T18:27:23.796084Z",
     "start_time": "2022-12-06T18:27:19.582516Z"
    }
   },
   "outputs": [
    {
     "data": {
      "text/plain": [
       "User_ID                0\n",
       "Location               0\n",
       "Age                    0\n",
       "ISBN                   0\n",
       "Book_Rating            0\n",
       "Book_Title             0\n",
       "Book_Author            0\n",
       "Year_Of_Publication    0\n",
       "Publisher              0\n",
       "Image_URL_S            0\n",
       "Image_URL_M            0\n",
       "Image_URL_L            0\n",
       "dtype: int64"
      ]
     },
     "execution_count": 132,
     "metadata": {},
     "output_type": "execute_result"
    }
   ],
   "source": [
    "user_book_rating.isnull().sum()"
   ]
  },
  {
   "cell_type": "markdown",
   "id": "661f32cb",
   "metadata": {},
   "source": [
    "#### Handling feature - Year of Publication"
   ]
  },
  {
   "cell_type": "code",
   "execution_count": 133,
   "id": "9d042415",
   "metadata": {
    "ExecuteTime": {
     "end_time": "2022-12-06T18:27:23.828039Z",
     "start_time": "2022-12-06T18:27:23.803078Z"
    }
   },
   "outputs": [
    {
     "data": {
      "text/plain": [
       "dtype('O')"
      ]
     },
     "execution_count": 133,
     "metadata": {},
     "output_type": "execute_result"
    }
   ],
   "source": [
    "user_book_rating.Year_Of_Publication.dtype"
   ]
  },
  {
   "cell_type": "code",
   "execution_count": 134,
   "id": "24cf5983",
   "metadata": {
    "ExecuteTime": {
     "end_time": "2022-12-06T18:27:25.345433Z",
     "start_time": "2022-12-06T18:27:23.860993Z"
    }
   },
   "outputs": [],
   "source": [
    "user_book_rating.Year_Of_Publication=pd.to_numeric(arg=user_book_rating.Year_Of_Publication,errors='coerce')"
   ]
  },
  {
   "cell_type": "code",
   "execution_count": 135,
   "id": "b7cadd1b",
   "metadata": {
    "ExecuteTime": {
     "end_time": "2022-12-06T18:27:25.406346Z",
     "start_time": "2022-12-06T18:27:25.351546Z"
    }
   },
   "outputs": [
    {
     "name": "stdout",
     "output_type": "stream",
     "text": [
      "[0, 1376, 1378, 1806, 1897, 1900, 1901, 1902, 1904, 1906, 1908, 1909, 1910, 1911, 1914, 1917, 1919, 1920, 1921, 1922, 1923, 1924, 1925, 1926, 1927, 1928, 1929, 1930, 1931, 1932, 1933, 1934, 1935, 1936, 1937, 1938, 1939, 1940, 1941, 1942, 1943, 1944, 1945, 1946, 1947, 1948, 1949, 1950, 1951, 1952, 1953, 1954, 1955, 1956, 1957, 1958, 1959, 1960, 1961, 1962, 1963, 1964, 1965, 1966, 1967, 1968, 1969, 1970, 1971, 1972, 1973, 1974, 1975, 1976, 1977, 1978, 1979, 1980, 1981, 1982, 1983, 1984, 1985, 1986, 1987, 1988, 1989, 1990, 1991, 1992, 1993, 1994, 1995, 1996, 1997, 1998, 1999, 2000, 2001, 2002, 2003, 2004, 2005, 2006, 2008, 2010, 2011, 2012, 2020, 2021, 2024, 2026, 2030, 2037, 2038, 2050]\n"
     ]
    }
   ],
   "source": [
    "print(sorted(user_book_rating.Year_Of_Publication.unique()))"
   ]
  },
  {
   "cell_type": "code",
   "execution_count": 136,
   "id": "016287fe",
   "metadata": {
    "ExecuteTime": {
     "end_time": "2022-12-06T18:27:25.452276Z",
     "start_time": "2022-12-06T18:27:25.414331Z"
    }
   },
   "outputs": [
    {
     "data": {
      "text/plain": [
       "14089"
      ]
     },
     "execution_count": 136,
     "metadata": {},
     "output_type": "execute_result"
    }
   ],
   "source": [
    "len(user_book_rating.loc[(user_book_rating.Year_Of_Publication > 2006) | (user_book_rating.Year_Of_Publication ==0), 'Year_Of_Publication'])"
   ]
  },
  {
   "cell_type": "code",
   "execution_count": 137,
   "id": "b98b8dd6",
   "metadata": {
    "ExecuteTime": {
     "end_time": "2022-12-06T18:27:25.548121Z",
     "start_time": "2022-12-06T18:27:25.468251Z"
    }
   },
   "outputs": [],
   "source": [
    "user_book_rating.loc[(user_book_rating.Year_Of_Publication > 2006) | (user_book_rating.Year_Of_Publication ==0), 'Year_Of_Publication'] = np.nan"
   ]
  },
  {
   "cell_type": "code",
   "execution_count": 138,
   "id": "666a7941",
   "metadata": {
    "ExecuteTime": {
     "end_time": "2022-12-06T18:27:29.412578Z",
     "start_time": "2022-12-06T18:27:25.565094Z"
    }
   },
   "outputs": [
    {
     "data": {
      "text/plain": [
       "User_ID                    0\n",
       "Location                   0\n",
       "Age                        0\n",
       "ISBN                       0\n",
       "Book_Rating                0\n",
       "Book_Title                 0\n",
       "Book_Author                0\n",
       "Year_Of_Publication    14089\n",
       "Publisher                  0\n",
       "Image_URL_S                0\n",
       "Image_URL_M                0\n",
       "Image_URL_L                0\n",
       "dtype: int64"
      ]
     },
     "execution_count": 138,
     "metadata": {},
     "output_type": "execute_result"
    }
   ],
   "source": [
    "user_book_rating.isnull().sum()"
   ]
  },
  {
   "cell_type": "code",
   "execution_count": 139,
   "id": "e97a7d2a",
   "metadata": {
    "ExecuteTime": {
     "end_time": "2022-12-06T18:27:29.508418Z",
     "start_time": "2022-12-06T18:27:29.421560Z"
    }
   },
   "outputs": [
    {
     "data": {
      "text/plain": [
       "0    2002.0\n",
       "Name: Year_Of_Publication, dtype: float64"
      ]
     },
     "execution_count": 139,
     "metadata": {},
     "output_type": "execute_result"
    }
   ],
   "source": [
    "user_book_rating.Year_Of_Publication.mode()"
   ]
  },
  {
   "cell_type": "code",
   "execution_count": 140,
   "id": "0e6a08b5",
   "metadata": {
    "ExecuteTime": {
     "end_time": "2022-12-06T18:27:29.616287Z",
     "start_time": "2022-12-06T18:27:29.518410Z"
    }
   },
   "outputs": [],
   "source": [
    "user_book_rating['Year_Of_Publication']=user_book_rating['Year_Of_Publication'].fillna(user_book_rating.Year_Of_Publication.median()).astype('int32')"
   ]
  },
  {
   "cell_type": "code",
   "execution_count": 141,
   "id": "70b9612e",
   "metadata": {
    "ExecuteTime": {
     "end_time": "2022-12-06T18:27:33.392744Z",
     "start_time": "2022-12-06T18:27:29.624283Z"
    }
   },
   "outputs": [
    {
     "data": {
      "text/plain": [
       "User_ID                0\n",
       "Location               0\n",
       "Age                    0\n",
       "ISBN                   0\n",
       "Book_Rating            0\n",
       "Book_Title             0\n",
       "Book_Author            0\n",
       "Year_Of_Publication    0\n",
       "Publisher              0\n",
       "Image_URL_S            0\n",
       "Image_URL_M            0\n",
       "Image_URL_L            0\n",
       "dtype: int64"
      ]
     },
     "execution_count": 141,
     "metadata": {},
     "output_type": "execute_result"
    }
   ],
   "source": [
    "user_book_rating.isnull().sum()"
   ]
  },
  {
   "cell_type": "code",
   "execution_count": 142,
   "id": "1561daae",
   "metadata": {
    "ExecuteTime": {
     "end_time": "2022-12-06T18:27:33.486603Z",
     "start_time": "2022-12-06T18:27:33.402732Z"
    },
    "scrolled": true
   },
   "outputs": [
    {
     "data": {
      "text/html": [
       "<div>\n",
       "<style scoped>\n",
       "    .dataframe tbody tr th:only-of-type {\n",
       "        vertical-align: middle;\n",
       "    }\n",
       "\n",
       "    .dataframe tbody tr th {\n",
       "        vertical-align: top;\n",
       "    }\n",
       "\n",
       "    .dataframe thead th {\n",
       "        text-align: right;\n",
       "    }\n",
       "</style>\n",
       "<table border=\"1\" class=\"dataframe\">\n",
       "  <thead>\n",
       "    <tr style=\"text-align: right;\">\n",
       "      <th></th>\n",
       "      <th>User_ID</th>\n",
       "      <th>Location</th>\n",
       "      <th>Age</th>\n",
       "      <th>ISBN</th>\n",
       "      <th>Book_Rating</th>\n",
       "      <th>Book_Title</th>\n",
       "      <th>Book_Author</th>\n",
       "      <th>Year_Of_Publication</th>\n",
       "      <th>Publisher</th>\n",
       "      <th>Image_URL_S</th>\n",
       "      <th>Image_URL_M</th>\n",
       "      <th>Image_URL_L</th>\n",
       "    </tr>\n",
       "  </thead>\n",
       "  <tbody>\n",
       "    <tr>\n",
       "      <th>0</th>\n",
       "      <td>2</td>\n",
       "      <td>stockton, california, usa</td>\n",
       "      <td>18</td>\n",
       "      <td>0195153448</td>\n",
       "      <td>0</td>\n",
       "      <td>Classical Mythology</td>\n",
       "      <td>Mark P. O. Morford</td>\n",
       "      <td>2002</td>\n",
       "      <td>Oxford University Press</td>\n",
       "      <td>http://images.amazon.com/images/P/0195153448.0...</td>\n",
       "      <td>http://images.amazon.com/images/P/0195153448.0...</td>\n",
       "      <td>http://images.amazon.com/images/P/0195153448.0...</td>\n",
       "    </tr>\n",
       "    <tr>\n",
       "      <th>1</th>\n",
       "      <td>8</td>\n",
       "      <td>timmins, ontario, canada</td>\n",
       "      <td>35</td>\n",
       "      <td>0002005018</td>\n",
       "      <td>5</td>\n",
       "      <td>Clara Callan</td>\n",
       "      <td>Richard Bruce Wright</td>\n",
       "      <td>2001</td>\n",
       "      <td>HarperFlamingo Canada</td>\n",
       "      <td>http://images.amazon.com/images/P/0002005018.0...</td>\n",
       "      <td>http://images.amazon.com/images/P/0002005018.0...</td>\n",
       "      <td>http://images.amazon.com/images/P/0002005018.0...</td>\n",
       "    </tr>\n",
       "    <tr>\n",
       "      <th>2</th>\n",
       "      <td>11400</td>\n",
       "      <td>ottawa, ontario, canada</td>\n",
       "      <td>49</td>\n",
       "      <td>0002005018</td>\n",
       "      <td>0</td>\n",
       "      <td>Clara Callan</td>\n",
       "      <td>Richard Bruce Wright</td>\n",
       "      <td>2001</td>\n",
       "      <td>HarperFlamingo Canada</td>\n",
       "      <td>http://images.amazon.com/images/P/0002005018.0...</td>\n",
       "      <td>http://images.amazon.com/images/P/0002005018.0...</td>\n",
       "      <td>http://images.amazon.com/images/P/0002005018.0...</td>\n",
       "    </tr>\n",
       "    <tr>\n",
       "      <th>3</th>\n",
       "      <td>11676</td>\n",
       "      <td>n/a, n/a, n/a</td>\n",
       "      <td>35</td>\n",
       "      <td>0002005018</td>\n",
       "      <td>8</td>\n",
       "      <td>Clara Callan</td>\n",
       "      <td>Richard Bruce Wright</td>\n",
       "      <td>2001</td>\n",
       "      <td>HarperFlamingo Canada</td>\n",
       "      <td>http://images.amazon.com/images/P/0002005018.0...</td>\n",
       "      <td>http://images.amazon.com/images/P/0002005018.0...</td>\n",
       "      <td>http://images.amazon.com/images/P/0002005018.0...</td>\n",
       "    </tr>\n",
       "    <tr>\n",
       "      <th>4</th>\n",
       "      <td>41385</td>\n",
       "      <td>sudbury, ontario, canada</td>\n",
       "      <td>35</td>\n",
       "      <td>0002005018</td>\n",
       "      <td>0</td>\n",
       "      <td>Clara Callan</td>\n",
       "      <td>Richard Bruce Wright</td>\n",
       "      <td>2001</td>\n",
       "      <td>HarperFlamingo Canada</td>\n",
       "      <td>http://images.amazon.com/images/P/0002005018.0...</td>\n",
       "      <td>http://images.amazon.com/images/P/0002005018.0...</td>\n",
       "      <td>http://images.amazon.com/images/P/0002005018.0...</td>\n",
       "    </tr>\n",
       "  </tbody>\n",
       "</table>\n",
       "</div>"
      ],
      "text/plain": [
       "   User_ID                   Location  Age        ISBN  Book_Rating  \\\n",
       "0        2  stockton, california, usa   18  0195153448            0   \n",
       "1        8   timmins, ontario, canada   35  0002005018            5   \n",
       "2    11400    ottawa, ontario, canada   49  0002005018            0   \n",
       "3    11676              n/a, n/a, n/a   35  0002005018            8   \n",
       "4    41385   sudbury, ontario, canada   35  0002005018            0   \n",
       "\n",
       "            Book_Title           Book_Author  Year_Of_Publication  \\\n",
       "0  Classical Mythology    Mark P. O. Morford                 2002   \n",
       "1         Clara Callan  Richard Bruce Wright                 2001   \n",
       "2         Clara Callan  Richard Bruce Wright                 2001   \n",
       "3         Clara Callan  Richard Bruce Wright                 2001   \n",
       "4         Clara Callan  Richard Bruce Wright                 2001   \n",
       "\n",
       "                 Publisher                                        Image_URL_S  \\\n",
       "0  Oxford University Press  http://images.amazon.com/images/P/0195153448.0...   \n",
       "1    HarperFlamingo Canada  http://images.amazon.com/images/P/0002005018.0...   \n",
       "2    HarperFlamingo Canada  http://images.amazon.com/images/P/0002005018.0...   \n",
       "3    HarperFlamingo Canada  http://images.amazon.com/images/P/0002005018.0...   \n",
       "4    HarperFlamingo Canada  http://images.amazon.com/images/P/0002005018.0...   \n",
       "\n",
       "                                         Image_URL_M  \\\n",
       "0  http://images.amazon.com/images/P/0195153448.0...   \n",
       "1  http://images.amazon.com/images/P/0002005018.0...   \n",
       "2  http://images.amazon.com/images/P/0002005018.0...   \n",
       "3  http://images.amazon.com/images/P/0002005018.0...   \n",
       "4  http://images.amazon.com/images/P/0002005018.0...   \n",
       "\n",
       "                                         Image_URL_L  \n",
       "0  http://images.amazon.com/images/P/0195153448.0...  \n",
       "1  http://images.amazon.com/images/P/0002005018.0...  \n",
       "2  http://images.amazon.com/images/P/0002005018.0...  \n",
       "3  http://images.amazon.com/images/P/0002005018.0...  \n",
       "4  http://images.amazon.com/images/P/0002005018.0...  "
      ]
     },
     "execution_count": 142,
     "metadata": {},
     "output_type": "execute_result"
    }
   ],
   "source": [
    "user_book_rating.head()"
   ]
  },
  {
   "cell_type": "code",
   "execution_count": 143,
   "id": "cfac69b7",
   "metadata": {
    "ExecuteTime": {
     "end_time": "2022-12-06T18:27:34.894558Z",
     "start_time": "2022-12-06T18:27:33.497582Z"
    }
   },
   "outputs": [],
   "source": [
    "import pandas as pd\n",
    "user_book_rating['User_ID']=user_book_rating['User_ID'].astype(str)"
   ]
  },
  {
   "cell_type": "code",
   "execution_count": 144,
   "id": "0f7ed1eb",
   "metadata": {
    "ExecuteTime": {
     "end_time": "2022-12-06T18:27:39.466810Z",
     "start_time": "2022-12-06T18:27:34.902550Z"
    }
   },
   "outputs": [
    {
     "name": "stdout",
     "output_type": "stream",
     "text": [
      "<class 'pandas.core.frame.DataFrame'>\n",
      "Int64Index: 1031135 entries, 0 to 1031135\n",
      "Data columns (total 12 columns):\n",
      " #   Column               Non-Null Count    Dtype \n",
      "---  ------               --------------    ----- \n",
      " 0   User_ID              1031135 non-null  object\n",
      " 1   Location             1031135 non-null  object\n",
      " 2   Age                  1031135 non-null  int32 \n",
      " 3   ISBN                 1031135 non-null  object\n",
      " 4   Book_Rating          1031135 non-null  int64 \n",
      " 5   Book_Title           1031135 non-null  object\n",
      " 6   Book_Author          1031135 non-null  object\n",
      " 7   Year_Of_Publication  1031135 non-null  int32 \n",
      " 8   Publisher            1031135 non-null  object\n",
      " 9   Image_URL_S          1031135 non-null  object\n",
      " 10  Image_URL_M          1031135 non-null  object\n",
      " 11  Image_URL_L          1031135 non-null  object\n",
      "dtypes: int32(2), int64(1), object(9)\n",
      "memory usage: 126.7+ MB\n"
     ]
    }
   ],
   "source": [
    "user_book_rating.info()"
   ]
  },
  {
   "cell_type": "code",
   "execution_count": 145,
   "id": "c9dabcf0",
   "metadata": {
    "ExecuteTime": {
     "end_time": "2022-12-06T18:27:40.090833Z",
     "start_time": "2022-12-06T18:27:39.475801Z"
    }
   },
   "outputs": [
    {
     "data": {
      "text/plain": [
       "92106"
      ]
     },
     "execution_count": 145,
     "metadata": {},
     "output_type": "execute_result"
    }
   ],
   "source": [
    "user_book_rating.User_ID.nunique()"
   ]
  },
  {
   "cell_type": "code",
   "execution_count": 146,
   "id": "b51ec7ed",
   "metadata": {
    "ExecuteTime": {
     "end_time": "2022-12-06T18:27:45.436940Z",
     "start_time": "2022-12-06T18:27:40.101822Z"
    }
   },
   "outputs": [
    {
     "data": {
      "text/plain": [
       "Index(['100088', '100264', '10030', '100459', '100578', '100644', '10067',\n",
       "       '100782', '100822', '100846',\n",
       "       ...\n",
       "       '98930', '99032', '9908', '99227', '99312', '99347', '99441', '99630',\n",
       "       '99641', '99955'],\n",
       "      dtype='object', name='User_ID', length=3012)"
      ]
     },
     "execution_count": 146,
     "metadata": {},
     "output_type": "execute_result"
    }
   ],
   "source": [
    "x=user_book_rating.groupby('User_ID').count()['Book_Rating'] >50\n",
    "padhe_likh_users=x[x].index\n",
    "padhe_likh_users"
   ]
  },
  {
   "cell_type": "code",
   "execution_count": 147,
   "id": "b2cda4b4",
   "metadata": {
    "ExecuteTime": {
     "end_time": "2022-12-06T18:28:00.173042Z",
     "start_time": "2022-12-06T18:27:58.236276Z"
    }
   },
   "outputs": [
    {
     "data": {
      "text/html": [
       "<div>\n",
       "<style scoped>\n",
       "    .dataframe tbody tr th:only-of-type {\n",
       "        vertical-align: middle;\n",
       "    }\n",
       "\n",
       "    .dataframe tbody tr th {\n",
       "        vertical-align: top;\n",
       "    }\n",
       "\n",
       "    .dataframe thead th {\n",
       "        text-align: right;\n",
       "    }\n",
       "</style>\n",
       "<table border=\"1\" class=\"dataframe\">\n",
       "  <thead>\n",
       "    <tr style=\"text-align: right;\">\n",
       "      <th></th>\n",
       "      <th>User_ID</th>\n",
       "      <th>Location</th>\n",
       "      <th>Age</th>\n",
       "      <th>ISBN</th>\n",
       "      <th>Book_Rating</th>\n",
       "      <th>Book_Title</th>\n",
       "      <th>Book_Author</th>\n",
       "      <th>Year_Of_Publication</th>\n",
       "      <th>Publisher</th>\n",
       "      <th>Image_URL_S</th>\n",
       "      <th>Image_URL_M</th>\n",
       "      <th>Image_URL_L</th>\n",
       "    </tr>\n",
       "  </thead>\n",
       "  <tbody>\n",
       "    <tr>\n",
       "      <th>2</th>\n",
       "      <td>11400</td>\n",
       "      <td>ottawa, ontario, canada</td>\n",
       "      <td>49</td>\n",
       "      <td>0002005018</td>\n",
       "      <td>0</td>\n",
       "      <td>Clara Callan</td>\n",
       "      <td>Richard Bruce Wright</td>\n",
       "      <td>2001</td>\n",
       "      <td>HarperFlamingo Canada</td>\n",
       "      <td>http://images.amazon.com/images/P/0002005018.0...</td>\n",
       "      <td>http://images.amazon.com/images/P/0002005018.0...</td>\n",
       "      <td>http://images.amazon.com/images/P/0002005018.0...</td>\n",
       "    </tr>\n",
       "    <tr>\n",
       "      <th>3</th>\n",
       "      <td>11676</td>\n",
       "      <td>n/a, n/a, n/a</td>\n",
       "      <td>35</td>\n",
       "      <td>0002005018</td>\n",
       "      <td>8</td>\n",
       "      <td>Clara Callan</td>\n",
       "      <td>Richard Bruce Wright</td>\n",
       "      <td>2001</td>\n",
       "      <td>HarperFlamingo Canada</td>\n",
       "      <td>http://images.amazon.com/images/P/0002005018.0...</td>\n",
       "      <td>http://images.amazon.com/images/P/0002005018.0...</td>\n",
       "      <td>http://images.amazon.com/images/P/0002005018.0...</td>\n",
       "    </tr>\n",
       "    <tr>\n",
       "      <th>6</th>\n",
       "      <td>85526</td>\n",
       "      <td>victoria, british columbia, canada</td>\n",
       "      <td>36</td>\n",
       "      <td>0002005018</td>\n",
       "      <td>0</td>\n",
       "      <td>Clara Callan</td>\n",
       "      <td>Richard Bruce Wright</td>\n",
       "      <td>2001</td>\n",
       "      <td>HarperFlamingo Canada</td>\n",
       "      <td>http://images.amazon.com/images/P/0002005018.0...</td>\n",
       "      <td>http://images.amazon.com/images/P/0002005018.0...</td>\n",
       "      <td>http://images.amazon.com/images/P/0002005018.0...</td>\n",
       "    </tr>\n",
       "    <tr>\n",
       "      <th>7</th>\n",
       "      <td>96054</td>\n",
       "      <td>ottawa, ontario, canada</td>\n",
       "      <td>29</td>\n",
       "      <td>0002005018</td>\n",
       "      <td>0</td>\n",
       "      <td>Clara Callan</td>\n",
       "      <td>Richard Bruce Wright</td>\n",
       "      <td>2001</td>\n",
       "      <td>HarperFlamingo Canada</td>\n",
       "      <td>http://images.amazon.com/images/P/0002005018.0...</td>\n",
       "      <td>http://images.amazon.com/images/P/0002005018.0...</td>\n",
       "      <td>http://images.amazon.com/images/P/0002005018.0...</td>\n",
       "    </tr>\n",
       "    <tr>\n",
       "      <th>8</th>\n",
       "      <td>116866</td>\n",
       "      <td>ottawa, ,</td>\n",
       "      <td>35</td>\n",
       "      <td>0002005018</td>\n",
       "      <td>9</td>\n",
       "      <td>Clara Callan</td>\n",
       "      <td>Richard Bruce Wright</td>\n",
       "      <td>2001</td>\n",
       "      <td>HarperFlamingo Canada</td>\n",
       "      <td>http://images.amazon.com/images/P/0002005018.0...</td>\n",
       "      <td>http://images.amazon.com/images/P/0002005018.0...</td>\n",
       "      <td>http://images.amazon.com/images/P/0002005018.0...</td>\n",
       "    </tr>\n",
       "    <tr>\n",
       "      <th>...</th>\n",
       "      <td>...</td>\n",
       "      <td>...</td>\n",
       "      <td>...</td>\n",
       "      <td>...</td>\n",
       "      <td>...</td>\n",
       "      <td>...</td>\n",
       "      <td>...</td>\n",
       "      <td>...</td>\n",
       "      <td>...</td>\n",
       "      <td>...</td>\n",
       "      <td>...</td>\n",
       "      <td>...</td>\n",
       "    </tr>\n",
       "    <tr>\n",
       "      <th>1031122</th>\n",
       "      <td>278843</td>\n",
       "      <td>pismo beach, california, usa</td>\n",
       "      <td>28</td>\n",
       "      <td>0373262388</td>\n",
       "      <td>0</td>\n",
       "      <td>Mr Donaghue Investigates (Ulysses Donaghue Mys...</td>\n",
       "      <td>Anna Shone</td>\n",
       "      <td>1997</td>\n",
       "      <td>Worldwide Library</td>\n",
       "      <td>http://images.amazon.com/images/P/0373262388.0...</td>\n",
       "      <td>http://images.amazon.com/images/P/0373262388.0...</td>\n",
       "      <td>http://images.amazon.com/images/P/0373262388.0...</td>\n",
       "    </tr>\n",
       "    <tr>\n",
       "      <th>1031123</th>\n",
       "      <td>278843</td>\n",
       "      <td>pismo beach, california, usa</td>\n",
       "      <td>28</td>\n",
       "      <td>0689818904</td>\n",
       "      <td>7</td>\n",
       "      <td>My Grandmother's Journey</td>\n",
       "      <td>John Cech</td>\n",
       "      <td>1998</td>\n",
       "      <td>Aladdin</td>\n",
       "      <td>http://images.amazon.com/images/P/0689818904.0...</td>\n",
       "      <td>http://images.amazon.com/images/P/0689818904.0...</td>\n",
       "      <td>http://images.amazon.com/images/P/0689818904.0...</td>\n",
       "    </tr>\n",
       "    <tr>\n",
       "      <th>1031124</th>\n",
       "      <td>278843</td>\n",
       "      <td>pismo beach, california, usa</td>\n",
       "      <td>28</td>\n",
       "      <td>0743525493</td>\n",
       "      <td>7</td>\n",
       "      <td>The Motley Fool's What To Do with Your Money N...</td>\n",
       "      <td>David Gardner</td>\n",
       "      <td>2002</td>\n",
       "      <td>Simon &amp;amp; Schuster Audio</td>\n",
       "      <td>http://images.amazon.com/images/P/0743525493.0...</td>\n",
       "      <td>http://images.amazon.com/images/P/0743525493.0...</td>\n",
       "      <td>http://images.amazon.com/images/P/0743525493.0...</td>\n",
       "    </tr>\n",
       "    <tr>\n",
       "      <th>1031125</th>\n",
       "      <td>278843</td>\n",
       "      <td>pismo beach, california, usa</td>\n",
       "      <td>28</td>\n",
       "      <td>1581150601</td>\n",
       "      <td>0</td>\n",
       "      <td>Crafts and Craft Shows: How to Make Money</td>\n",
       "      <td>Phil Kadubec</td>\n",
       "      <td>2000</td>\n",
       "      <td>Watson-Guptill Publications</td>\n",
       "      <td>http://images.amazon.com/images/P/1581150601.0...</td>\n",
       "      <td>http://images.amazon.com/images/P/1581150601.0...</td>\n",
       "      <td>http://images.amazon.com/images/P/1581150601.0...</td>\n",
       "    </tr>\n",
       "    <tr>\n",
       "      <th>1031126</th>\n",
       "      <td>278843</td>\n",
       "      <td>pismo beach, california, usa</td>\n",
       "      <td>28</td>\n",
       "      <td>1874061149</td>\n",
       "      <td>0</td>\n",
       "      <td>The Queen's Gambit</td>\n",
       "      <td>Walter Tevis</td>\n",
       "      <td>1996</td>\n",
       "      <td>Texas Bookman</td>\n",
       "      <td>http://images.amazon.com/images/P/1874061149.0...</td>\n",
       "      <td>http://images.amazon.com/images/P/1874061149.0...</td>\n",
       "      <td>http://images.amazon.com/images/P/1874061149.0...</td>\n",
       "    </tr>\n",
       "  </tbody>\n",
       "</table>\n",
       "<p>687965 rows × 12 columns</p>\n",
       "</div>"
      ],
      "text/plain": [
       "        User_ID                            Location  Age        ISBN  \\\n",
       "2         11400             ottawa, ontario, canada   49  0002005018   \n",
       "3         11676                       n/a, n/a, n/a   35  0002005018   \n",
       "6         85526  victoria, british columbia, canada   36  0002005018   \n",
       "7         96054             ottawa, ontario, canada   29  0002005018   \n",
       "8        116866                           ottawa, ,   35  0002005018   \n",
       "...         ...                                 ...  ...         ...   \n",
       "1031122  278843        pismo beach, california, usa   28  0373262388   \n",
       "1031123  278843        pismo beach, california, usa   28  0689818904   \n",
       "1031124  278843        pismo beach, california, usa   28  0743525493   \n",
       "1031125  278843        pismo beach, california, usa   28  1581150601   \n",
       "1031126  278843        pismo beach, california, usa   28  1874061149   \n",
       "\n",
       "         Book_Rating                                         Book_Title  \\\n",
       "2                  0                                       Clara Callan   \n",
       "3                  8                                       Clara Callan   \n",
       "6                  0                                       Clara Callan   \n",
       "7                  0                                       Clara Callan   \n",
       "8                  9                                       Clara Callan   \n",
       "...              ...                                                ...   \n",
       "1031122            0  Mr Donaghue Investigates (Ulysses Donaghue Mys...   \n",
       "1031123            7                           My Grandmother's Journey   \n",
       "1031124            7  The Motley Fool's What To Do with Your Money N...   \n",
       "1031125            0          Crafts and Craft Shows: How to Make Money   \n",
       "1031126            0                                 The Queen's Gambit   \n",
       "\n",
       "                  Book_Author  Year_Of_Publication  \\\n",
       "2        Richard Bruce Wright                 2001   \n",
       "3        Richard Bruce Wright                 2001   \n",
       "6        Richard Bruce Wright                 2001   \n",
       "7        Richard Bruce Wright                 2001   \n",
       "8        Richard Bruce Wright                 2001   \n",
       "...                       ...                  ...   \n",
       "1031122            Anna Shone                 1997   \n",
       "1031123             John Cech                 1998   \n",
       "1031124         David Gardner                 2002   \n",
       "1031125          Phil Kadubec                 2000   \n",
       "1031126          Walter Tevis                 1996   \n",
       "\n",
       "                           Publisher  \\\n",
       "2              HarperFlamingo Canada   \n",
       "3              HarperFlamingo Canada   \n",
       "6              HarperFlamingo Canada   \n",
       "7              HarperFlamingo Canada   \n",
       "8              HarperFlamingo Canada   \n",
       "...                              ...   \n",
       "1031122            Worldwide Library   \n",
       "1031123                      Aladdin   \n",
       "1031124   Simon &amp; Schuster Audio   \n",
       "1031125  Watson-Guptill Publications   \n",
       "1031126                Texas Bookman   \n",
       "\n",
       "                                               Image_URL_S  \\\n",
       "2        http://images.amazon.com/images/P/0002005018.0...   \n",
       "3        http://images.amazon.com/images/P/0002005018.0...   \n",
       "6        http://images.amazon.com/images/P/0002005018.0...   \n",
       "7        http://images.amazon.com/images/P/0002005018.0...   \n",
       "8        http://images.amazon.com/images/P/0002005018.0...   \n",
       "...                                                    ...   \n",
       "1031122  http://images.amazon.com/images/P/0373262388.0...   \n",
       "1031123  http://images.amazon.com/images/P/0689818904.0...   \n",
       "1031124  http://images.amazon.com/images/P/0743525493.0...   \n",
       "1031125  http://images.amazon.com/images/P/1581150601.0...   \n",
       "1031126  http://images.amazon.com/images/P/1874061149.0...   \n",
       "\n",
       "                                               Image_URL_M  \\\n",
       "2        http://images.amazon.com/images/P/0002005018.0...   \n",
       "3        http://images.amazon.com/images/P/0002005018.0...   \n",
       "6        http://images.amazon.com/images/P/0002005018.0...   \n",
       "7        http://images.amazon.com/images/P/0002005018.0...   \n",
       "8        http://images.amazon.com/images/P/0002005018.0...   \n",
       "...                                                    ...   \n",
       "1031122  http://images.amazon.com/images/P/0373262388.0...   \n",
       "1031123  http://images.amazon.com/images/P/0689818904.0...   \n",
       "1031124  http://images.amazon.com/images/P/0743525493.0...   \n",
       "1031125  http://images.amazon.com/images/P/1581150601.0...   \n",
       "1031126  http://images.amazon.com/images/P/1874061149.0...   \n",
       "\n",
       "                                               Image_URL_L  \n",
       "2        http://images.amazon.com/images/P/0002005018.0...  \n",
       "3        http://images.amazon.com/images/P/0002005018.0...  \n",
       "6        http://images.amazon.com/images/P/0002005018.0...  \n",
       "7        http://images.amazon.com/images/P/0002005018.0...  \n",
       "8        http://images.amazon.com/images/P/0002005018.0...  \n",
       "...                                                    ...  \n",
       "1031122  http://images.amazon.com/images/P/0373262388.0...  \n",
       "1031123  http://images.amazon.com/images/P/0689818904.0...  \n",
       "1031124  http://images.amazon.com/images/P/0743525493.0...  \n",
       "1031125  http://images.amazon.com/images/P/1581150601.0...  \n",
       "1031126  http://images.amazon.com/images/P/1874061149.0...  \n",
       "\n",
       "[687965 rows x 12 columns]"
      ]
     },
     "execution_count": 147,
     "metadata": {},
     "output_type": "execute_result"
    }
   ],
   "source": [
    "filter_user=user_book_rating[user_book_rating['User_ID'].isin(padhe_likh_users)]\n",
    "filter_user"
   ]
  },
  {
   "cell_type": "code",
   "execution_count": 148,
   "id": "62829357",
   "metadata": {
    "ExecuteTime": {
     "end_time": "2022-12-06T18:28:22.866858Z",
     "start_time": "2022-12-06T18:28:18.306320Z"
    }
   },
   "outputs": [
    {
     "data": {
      "text/plain": [
       "Index(['1984', '1st to Die: A Novel', '2010: Odyssey Two', '204 Rosewood Lane',\n",
       "       '24 Hours', '2nd Chance', '4 Blondes', '84 Charing Cross Road',\n",
       "       'A 2nd Helping of Chicken Soup for the Soul (Chicken Soup for the Soul Series (Paper))',\n",
       "       'A Beautiful Mind: The Life of Mathematical Genius and Nobel Laureate John Nash',\n",
       "       ...\n",
       "       'Women Who Run with the Wolves',\n",
       "       'Word Freak: Heartbreak, Triumph, Genius, and Obsession in the World of Competitive Scrabble Players',\n",
       "       'Writ of Execution', 'Wuthering Heights',\n",
       "       'Wuthering Heights (Penguin Classics)', 'Year of Wonders',\n",
       "       'You Belong To Me',\n",
       "       'Zen and the Art of Motorcycle Maintenance: An Inquiry into Values',\n",
       "       'Zoya', '\\O\\\" Is for Outlaw\"'],\n",
       "      dtype='object', name='Book_Title', length=1350)"
      ]
     },
     "execution_count": 148,
     "metadata": {},
     "output_type": "execute_result"
    }
   ],
   "source": [
    "y=filter_user.groupby('Book_Title').count()['Book_Rating']>=50\n",
    "famous_book=y[y].index\n",
    "famous_book"
   ]
  },
  {
   "cell_type": "code",
   "execution_count": 149,
   "id": "8f4b2c42",
   "metadata": {
    "ExecuteTime": {
     "end_time": "2022-12-06T18:28:30.999227Z",
     "start_time": "2022-12-06T18:28:30.717445Z"
    },
    "scrolled": true
   },
   "outputs": [
    {
     "data": {
      "text/html": [
       "<div>\n",
       "<style scoped>\n",
       "    .dataframe tbody tr th:only-of-type {\n",
       "        vertical-align: middle;\n",
       "    }\n",
       "\n",
       "    .dataframe tbody tr th {\n",
       "        vertical-align: top;\n",
       "    }\n",
       "\n",
       "    .dataframe thead th {\n",
       "        text-align: right;\n",
       "    }\n",
       "</style>\n",
       "<table border=\"1\" class=\"dataframe\">\n",
       "  <thead>\n",
       "    <tr style=\"text-align: right;\">\n",
       "      <th></th>\n",
       "      <th>User_ID</th>\n",
       "      <th>Location</th>\n",
       "      <th>Age</th>\n",
       "      <th>ISBN</th>\n",
       "      <th>Book_Rating</th>\n",
       "      <th>Book_Title</th>\n",
       "      <th>Book_Author</th>\n",
       "      <th>Year_Of_Publication</th>\n",
       "      <th>Publisher</th>\n",
       "      <th>Image_URL_S</th>\n",
       "      <th>Image_URL_M</th>\n",
       "      <th>Image_URL_L</th>\n",
       "    </tr>\n",
       "  </thead>\n",
       "  <tbody>\n",
       "    <tr>\n",
       "      <th>31</th>\n",
       "      <td>11676</td>\n",
       "      <td>n/a, n/a, n/a</td>\n",
       "      <td>35</td>\n",
       "      <td>0399135782</td>\n",
       "      <td>9</td>\n",
       "      <td>The Kitchen God's Wife</td>\n",
       "      <td>Amy Tan</td>\n",
       "      <td>1991</td>\n",
       "      <td>Putnam Pub Group</td>\n",
       "      <td>http://images.amazon.com/images/P/0399135782.0...</td>\n",
       "      <td>http://images.amazon.com/images/P/0399135782.0...</td>\n",
       "      <td>http://images.amazon.com/images/P/0399135782.0...</td>\n",
       "    </tr>\n",
       "    <tr>\n",
       "      <th>32</th>\n",
       "      <td>29526</td>\n",
       "      <td>knoxville, tennessee, usa</td>\n",
       "      <td>26</td>\n",
       "      <td>0399135782</td>\n",
       "      <td>9</td>\n",
       "      <td>The Kitchen God's Wife</td>\n",
       "      <td>Amy Tan</td>\n",
       "      <td>1991</td>\n",
       "      <td>Putnam Pub Group</td>\n",
       "      <td>http://images.amazon.com/images/P/0399135782.0...</td>\n",
       "      <td>http://images.amazon.com/images/P/0399135782.0...</td>\n",
       "      <td>http://images.amazon.com/images/P/0399135782.0...</td>\n",
       "    </tr>\n",
       "    <tr>\n",
       "      <th>33</th>\n",
       "      <td>36836</td>\n",
       "      <td>raleigh, north carolina, usa</td>\n",
       "      <td>56</td>\n",
       "      <td>0399135782</td>\n",
       "      <td>0</td>\n",
       "      <td>The Kitchen God's Wife</td>\n",
       "      <td>Amy Tan</td>\n",
       "      <td>1991</td>\n",
       "      <td>Putnam Pub Group</td>\n",
       "      <td>http://images.amazon.com/images/P/0399135782.0...</td>\n",
       "      <td>http://images.amazon.com/images/P/0399135782.0...</td>\n",
       "      <td>http://images.amazon.com/images/P/0399135782.0...</td>\n",
       "    </tr>\n",
       "    <tr>\n",
       "      <th>34</th>\n",
       "      <td>46398</td>\n",
       "      <td>san antonio, texas, usa</td>\n",
       "      <td>37</td>\n",
       "      <td>0399135782</td>\n",
       "      <td>9</td>\n",
       "      <td>The Kitchen God's Wife</td>\n",
       "      <td>Amy Tan</td>\n",
       "      <td>1991</td>\n",
       "      <td>Putnam Pub Group</td>\n",
       "      <td>http://images.amazon.com/images/P/0399135782.0...</td>\n",
       "      <td>http://images.amazon.com/images/P/0399135782.0...</td>\n",
       "      <td>http://images.amazon.com/images/P/0399135782.0...</td>\n",
       "    </tr>\n",
       "    <tr>\n",
       "      <th>38</th>\n",
       "      <td>113270</td>\n",
       "      <td>evanston, illinois, usa</td>\n",
       "      <td>25</td>\n",
       "      <td>0399135782</td>\n",
       "      <td>0</td>\n",
       "      <td>The Kitchen God's Wife</td>\n",
       "      <td>Amy Tan</td>\n",
       "      <td>1991</td>\n",
       "      <td>Putnam Pub Group</td>\n",
       "      <td>http://images.amazon.com/images/P/0399135782.0...</td>\n",
       "      <td>http://images.amazon.com/images/P/0399135782.0...</td>\n",
       "      <td>http://images.amazon.com/images/P/0399135782.0...</td>\n",
       "    </tr>\n",
       "    <tr>\n",
       "      <th>...</th>\n",
       "      <td>...</td>\n",
       "      <td>...</td>\n",
       "      <td>...</td>\n",
       "      <td>...</td>\n",
       "      <td>...</td>\n",
       "      <td>...</td>\n",
       "      <td>...</td>\n",
       "      <td>...</td>\n",
       "      <td>...</td>\n",
       "      <td>...</td>\n",
       "      <td>...</td>\n",
       "      <td>...</td>\n",
       "    </tr>\n",
       "    <tr>\n",
       "      <th>1029238</th>\n",
       "      <td>275970</td>\n",
       "      <td>pittsburgh, pennsylvania, usa</td>\n",
       "      <td>46</td>\n",
       "      <td>0865714215</td>\n",
       "      <td>0</td>\n",
       "      <td>Stormy Weather</td>\n",
       "      <td>Guy Dauncey</td>\n",
       "      <td>2001</td>\n",
       "      <td>New Society Publishers</td>\n",
       "      <td>http://images.amazon.com/images/P/0865714215.0...</td>\n",
       "      <td>http://images.amazon.com/images/P/0865714215.0...</td>\n",
       "      <td>http://images.amazon.com/images/P/0865714215.0...</td>\n",
       "    </tr>\n",
       "    <tr>\n",
       "      <th>1029284</th>\n",
       "      <td>275970</td>\n",
       "      <td>pittsburgh, pennsylvania, usa</td>\n",
       "      <td>46</td>\n",
       "      <td>1586210661</td>\n",
       "      <td>9</td>\n",
       "      <td>Me Talk Pretty One Day</td>\n",
       "      <td>David Sedaris</td>\n",
       "      <td>2001</td>\n",
       "      <td>Time Warner Audio Major</td>\n",
       "      <td>http://images.amazon.com/images/P/1586210661.0...</td>\n",
       "      <td>http://images.amazon.com/images/P/1586210661.0...</td>\n",
       "      <td>http://images.amazon.com/images/P/1586210661.0...</td>\n",
       "    </tr>\n",
       "    <tr>\n",
       "      <th>1029651</th>\n",
       "      <td>277157</td>\n",
       "      <td>garden grove, california, usa</td>\n",
       "      <td>70</td>\n",
       "      <td>0375727981</td>\n",
       "      <td>5</td>\n",
       "      <td>Saving Faith</td>\n",
       "      <td>DAVID BALDACCI</td>\n",
       "      <td>2000</td>\n",
       "      <td>Random House Large Print</td>\n",
       "      <td>http://images.amazon.com/images/P/0375727981.0...</td>\n",
       "      <td>http://images.amazon.com/images/P/0375727981.0...</td>\n",
       "      <td>http://images.amazon.com/images/P/0375727981.0...</td>\n",
       "    </tr>\n",
       "    <tr>\n",
       "      <th>1029855</th>\n",
       "      <td>277639</td>\n",
       "      <td>forsyth, montana, usa</td>\n",
       "      <td>48</td>\n",
       "      <td>0590313088</td>\n",
       "      <td>0</td>\n",
       "      <td>Hideaway</td>\n",
       "      <td>Beverly H. Renner</td>\n",
       "      <td>1980</td>\n",
       "      <td>Scholastic</td>\n",
       "      <td>http://images.amazon.com/images/P/0590313088.0...</td>\n",
       "      <td>http://images.amazon.com/images/P/0590313088.0...</td>\n",
       "      <td>http://images.amazon.com/images/P/0590313088.0...</td>\n",
       "    </tr>\n",
       "    <tr>\n",
       "      <th>1029857</th>\n",
       "      <td>277639</td>\n",
       "      <td>forsyth, montana, usa</td>\n",
       "      <td>48</td>\n",
       "      <td>0671046349</td>\n",
       "      <td>0</td>\n",
       "      <td>Until You</td>\n",
       "      <td>Judith McNaught</td>\n",
       "      <td>1999</td>\n",
       "      <td>Simon &amp;amp; Schuster Audio</td>\n",
       "      <td>http://images.amazon.com/images/P/0671046349.0...</td>\n",
       "      <td>http://images.amazon.com/images/P/0671046349.0...</td>\n",
       "      <td>http://images.amazon.com/images/P/0671046349.0...</td>\n",
       "    </tr>\n",
       "  </tbody>\n",
       "</table>\n",
       "<p>131745 rows × 12 columns</p>\n",
       "</div>"
      ],
      "text/plain": [
       "        User_ID                       Location  Age        ISBN  Book_Rating  \\\n",
       "31        11676                  n/a, n/a, n/a   35  0399135782            9   \n",
       "32        29526      knoxville, tennessee, usa   26  0399135782            9   \n",
       "33        36836   raleigh, north carolina, usa   56  0399135782            0   \n",
       "34        46398        san antonio, texas, usa   37  0399135782            9   \n",
       "38       113270        evanston, illinois, usa   25  0399135782            0   \n",
       "...         ...                            ...  ...         ...          ...   \n",
       "1029238  275970  pittsburgh, pennsylvania, usa   46  0865714215            0   \n",
       "1029284  275970  pittsburgh, pennsylvania, usa   46  1586210661            9   \n",
       "1029651  277157  garden grove, california, usa   70  0375727981            5   \n",
       "1029855  277639          forsyth, montana, usa   48  0590313088            0   \n",
       "1029857  277639          forsyth, montana, usa   48  0671046349            0   \n",
       "\n",
       "                     Book_Title        Book_Author  Year_Of_Publication  \\\n",
       "31       The Kitchen God's Wife            Amy Tan                 1991   \n",
       "32       The Kitchen God's Wife            Amy Tan                 1991   \n",
       "33       The Kitchen God's Wife            Amy Tan                 1991   \n",
       "34       The Kitchen God's Wife            Amy Tan                 1991   \n",
       "38       The Kitchen God's Wife            Amy Tan                 1991   \n",
       "...                         ...                ...                  ...   \n",
       "1029238          Stormy Weather        Guy Dauncey                 2001   \n",
       "1029284  Me Talk Pretty One Day      David Sedaris                 2001   \n",
       "1029651            Saving Faith     DAVID BALDACCI                 2000   \n",
       "1029855                Hideaway  Beverly H. Renner                 1980   \n",
       "1029857               Until You    Judith McNaught                 1999   \n",
       "\n",
       "                          Publisher  \\\n",
       "31                 Putnam Pub Group   \n",
       "32                 Putnam Pub Group   \n",
       "33                 Putnam Pub Group   \n",
       "34                 Putnam Pub Group   \n",
       "38                 Putnam Pub Group   \n",
       "...                             ...   \n",
       "1029238      New Society Publishers   \n",
       "1029284     Time Warner Audio Major   \n",
       "1029651    Random House Large Print   \n",
       "1029855                  Scholastic   \n",
       "1029857  Simon &amp; Schuster Audio   \n",
       "\n",
       "                                               Image_URL_S  \\\n",
       "31       http://images.amazon.com/images/P/0399135782.0...   \n",
       "32       http://images.amazon.com/images/P/0399135782.0...   \n",
       "33       http://images.amazon.com/images/P/0399135782.0...   \n",
       "34       http://images.amazon.com/images/P/0399135782.0...   \n",
       "38       http://images.amazon.com/images/P/0399135782.0...   \n",
       "...                                                    ...   \n",
       "1029238  http://images.amazon.com/images/P/0865714215.0...   \n",
       "1029284  http://images.amazon.com/images/P/1586210661.0...   \n",
       "1029651  http://images.amazon.com/images/P/0375727981.0...   \n",
       "1029855  http://images.amazon.com/images/P/0590313088.0...   \n",
       "1029857  http://images.amazon.com/images/P/0671046349.0...   \n",
       "\n",
       "                                               Image_URL_M  \\\n",
       "31       http://images.amazon.com/images/P/0399135782.0...   \n",
       "32       http://images.amazon.com/images/P/0399135782.0...   \n",
       "33       http://images.amazon.com/images/P/0399135782.0...   \n",
       "34       http://images.amazon.com/images/P/0399135782.0...   \n",
       "38       http://images.amazon.com/images/P/0399135782.0...   \n",
       "...                                                    ...   \n",
       "1029238  http://images.amazon.com/images/P/0865714215.0...   \n",
       "1029284  http://images.amazon.com/images/P/1586210661.0...   \n",
       "1029651  http://images.amazon.com/images/P/0375727981.0...   \n",
       "1029855  http://images.amazon.com/images/P/0590313088.0...   \n",
       "1029857  http://images.amazon.com/images/P/0671046349.0...   \n",
       "\n",
       "                                               Image_URL_L  \n",
       "31       http://images.amazon.com/images/P/0399135782.0...  \n",
       "32       http://images.amazon.com/images/P/0399135782.0...  \n",
       "33       http://images.amazon.com/images/P/0399135782.0...  \n",
       "34       http://images.amazon.com/images/P/0399135782.0...  \n",
       "38       http://images.amazon.com/images/P/0399135782.0...  \n",
       "...                                                    ...  \n",
       "1029238  http://images.amazon.com/images/P/0865714215.0...  \n",
       "1029284  http://images.amazon.com/images/P/1586210661.0...  \n",
       "1029651  http://images.amazon.com/images/P/0375727981.0...  \n",
       "1029855  http://images.amazon.com/images/P/0590313088.0...  \n",
       "1029857  http://images.amazon.com/images/P/0671046349.0...  \n",
       "\n",
       "[131745 rows x 12 columns]"
      ]
     },
     "execution_count": 149,
     "metadata": {},
     "output_type": "execute_result"
    }
   ],
   "source": [
    "final=filter_user[filter_user['Book_Title'].isin(famous_book)]\n",
    "final"
   ]
  },
  {
   "cell_type": "code",
   "execution_count": 171,
   "id": "16c939fb",
   "metadata": {
    "ExecuteTime": {
     "end_time": "2022-12-06T19:07:51.871393Z",
     "start_time": "2022-12-06T19:07:50.990697Z"
    },
    "scrolled": true
   },
   "outputs": [
    {
     "data": {
      "text/html": [
       "<div>\n",
       "<style scoped>\n",
       "    .dataframe tbody tr th:only-of-type {\n",
       "        vertical-align: middle;\n",
       "    }\n",
       "\n",
       "    .dataframe tbody tr th {\n",
       "        vertical-align: top;\n",
       "    }\n",
       "\n",
       "    .dataframe thead th {\n",
       "        text-align: right;\n",
       "    }\n",
       "</style>\n",
       "<table border=\"1\" class=\"dataframe\">\n",
       "  <thead>\n",
       "    <tr style=\"text-align: right;\">\n",
       "      <th>User_ID</th>\n",
       "      <th>100088</th>\n",
       "      <th>100264</th>\n",
       "      <th>10030</th>\n",
       "      <th>100459</th>\n",
       "      <th>100578</th>\n",
       "      <th>100644</th>\n",
       "      <th>10067</th>\n",
       "      <th>100782</th>\n",
       "      <th>100822</th>\n",
       "      <th>100846</th>\n",
       "      <th>...</th>\n",
       "      <th>98930</th>\n",
       "      <th>99032</th>\n",
       "      <th>9908</th>\n",
       "      <th>99227</th>\n",
       "      <th>99312</th>\n",
       "      <th>99347</th>\n",
       "      <th>99441</th>\n",
       "      <th>99630</th>\n",
       "      <th>99641</th>\n",
       "      <th>99955</th>\n",
       "    </tr>\n",
       "    <tr>\n",
       "      <th>Book_Title</th>\n",
       "      <th></th>\n",
       "      <th></th>\n",
       "      <th></th>\n",
       "      <th></th>\n",
       "      <th></th>\n",
       "      <th></th>\n",
       "      <th></th>\n",
       "      <th></th>\n",
       "      <th></th>\n",
       "      <th></th>\n",
       "      <th></th>\n",
       "      <th></th>\n",
       "      <th></th>\n",
       "      <th></th>\n",
       "      <th></th>\n",
       "      <th></th>\n",
       "      <th></th>\n",
       "      <th></th>\n",
       "      <th></th>\n",
       "      <th></th>\n",
       "      <th></th>\n",
       "    </tr>\n",
       "  </thead>\n",
       "  <tbody>\n",
       "    <tr>\n",
       "      <th>1984</th>\n",
       "      <td>0.0</td>\n",
       "      <td>0.0</td>\n",
       "      <td>0.0</td>\n",
       "      <td>0.0</td>\n",
       "      <td>0.0</td>\n",
       "      <td>0.0</td>\n",
       "      <td>0.0</td>\n",
       "      <td>0.0</td>\n",
       "      <td>0.0</td>\n",
       "      <td>0.0</td>\n",
       "      <td>...</td>\n",
       "      <td>0.0</td>\n",
       "      <td>0.0</td>\n",
       "      <td>6.0</td>\n",
       "      <td>0.0</td>\n",
       "      <td>0.0</td>\n",
       "      <td>0.0</td>\n",
       "      <td>0.0</td>\n",
       "      <td>0.0</td>\n",
       "      <td>0.0</td>\n",
       "      <td>0.0</td>\n",
       "    </tr>\n",
       "    <tr>\n",
       "      <th>1st to Die: A Novel</th>\n",
       "      <td>0.0</td>\n",
       "      <td>0.0</td>\n",
       "      <td>0.0</td>\n",
       "      <td>0.0</td>\n",
       "      <td>0.0</td>\n",
       "      <td>0.0</td>\n",
       "      <td>0.0</td>\n",
       "      <td>0.0</td>\n",
       "      <td>0.0</td>\n",
       "      <td>0.0</td>\n",
       "      <td>...</td>\n",
       "      <td>0.0</td>\n",
       "      <td>0.0</td>\n",
       "      <td>0.0</td>\n",
       "      <td>0.0</td>\n",
       "      <td>0.0</td>\n",
       "      <td>0.0</td>\n",
       "      <td>0.0</td>\n",
       "      <td>0.0</td>\n",
       "      <td>0.0</td>\n",
       "      <td>0.0</td>\n",
       "    </tr>\n",
       "    <tr>\n",
       "      <th>2010: Odyssey Two</th>\n",
       "      <td>0.0</td>\n",
       "      <td>0.0</td>\n",
       "      <td>0.0</td>\n",
       "      <td>0.0</td>\n",
       "      <td>0.0</td>\n",
       "      <td>0.0</td>\n",
       "      <td>0.0</td>\n",
       "      <td>0.0</td>\n",
       "      <td>0.0</td>\n",
       "      <td>0.0</td>\n",
       "      <td>...</td>\n",
       "      <td>0.0</td>\n",
       "      <td>0.0</td>\n",
       "      <td>0.0</td>\n",
       "      <td>0.0</td>\n",
       "      <td>0.0</td>\n",
       "      <td>0.0</td>\n",
       "      <td>0.0</td>\n",
       "      <td>0.0</td>\n",
       "      <td>0.0</td>\n",
       "      <td>0.0</td>\n",
       "    </tr>\n",
       "    <tr>\n",
       "      <th>204 Rosewood Lane</th>\n",
       "      <td>0.0</td>\n",
       "      <td>0.0</td>\n",
       "      <td>0.0</td>\n",
       "      <td>0.0</td>\n",
       "      <td>0.0</td>\n",
       "      <td>0.0</td>\n",
       "      <td>0.0</td>\n",
       "      <td>0.0</td>\n",
       "      <td>0.0</td>\n",
       "      <td>0.0</td>\n",
       "      <td>...</td>\n",
       "      <td>0.0</td>\n",
       "      <td>0.0</td>\n",
       "      <td>0.0</td>\n",
       "      <td>0.0</td>\n",
       "      <td>0.0</td>\n",
       "      <td>0.0</td>\n",
       "      <td>0.0</td>\n",
       "      <td>0.0</td>\n",
       "      <td>0.0</td>\n",
       "      <td>0.0</td>\n",
       "    </tr>\n",
       "    <tr>\n",
       "      <th>24 Hours</th>\n",
       "      <td>0.0</td>\n",
       "      <td>0.0</td>\n",
       "      <td>0.0</td>\n",
       "      <td>0.0</td>\n",
       "      <td>0.0</td>\n",
       "      <td>0.0</td>\n",
       "      <td>0.0</td>\n",
       "      <td>0.0</td>\n",
       "      <td>0.0</td>\n",
       "      <td>0.0</td>\n",
       "      <td>...</td>\n",
       "      <td>0.0</td>\n",
       "      <td>0.0</td>\n",
       "      <td>0.0</td>\n",
       "      <td>0.0</td>\n",
       "      <td>0.0</td>\n",
       "      <td>0.0</td>\n",
       "      <td>0.0</td>\n",
       "      <td>0.0</td>\n",
       "      <td>0.0</td>\n",
       "      <td>0.0</td>\n",
       "    </tr>\n",
       "    <tr>\n",
       "      <th>...</th>\n",
       "      <td>...</td>\n",
       "      <td>...</td>\n",
       "      <td>...</td>\n",
       "      <td>...</td>\n",
       "      <td>...</td>\n",
       "      <td>...</td>\n",
       "      <td>...</td>\n",
       "      <td>...</td>\n",
       "      <td>...</td>\n",
       "      <td>...</td>\n",
       "      <td>...</td>\n",
       "      <td>...</td>\n",
       "      <td>...</td>\n",
       "      <td>...</td>\n",
       "      <td>...</td>\n",
       "      <td>...</td>\n",
       "      <td>...</td>\n",
       "      <td>...</td>\n",
       "      <td>...</td>\n",
       "      <td>...</td>\n",
       "      <td>...</td>\n",
       "    </tr>\n",
       "    <tr>\n",
       "      <th>Year of Wonders</th>\n",
       "      <td>0.0</td>\n",
       "      <td>0.0</td>\n",
       "      <td>0.0</td>\n",
       "      <td>0.0</td>\n",
       "      <td>0.0</td>\n",
       "      <td>0.0</td>\n",
       "      <td>0.0</td>\n",
       "      <td>0.0</td>\n",
       "      <td>0.0</td>\n",
       "      <td>0.0</td>\n",
       "      <td>...</td>\n",
       "      <td>0.0</td>\n",
       "      <td>0.0</td>\n",
       "      <td>0.0</td>\n",
       "      <td>0.0</td>\n",
       "      <td>0.0</td>\n",
       "      <td>0.0</td>\n",
       "      <td>0.0</td>\n",
       "      <td>0.0</td>\n",
       "      <td>0.0</td>\n",
       "      <td>0.0</td>\n",
       "    </tr>\n",
       "    <tr>\n",
       "      <th>You Belong To Me</th>\n",
       "      <td>0.0</td>\n",
       "      <td>0.0</td>\n",
       "      <td>10.0</td>\n",
       "      <td>0.0</td>\n",
       "      <td>0.0</td>\n",
       "      <td>0.0</td>\n",
       "      <td>0.0</td>\n",
       "      <td>0.0</td>\n",
       "      <td>0.0</td>\n",
       "      <td>0.0</td>\n",
       "      <td>...</td>\n",
       "      <td>0.0</td>\n",
       "      <td>0.0</td>\n",
       "      <td>0.0</td>\n",
       "      <td>0.0</td>\n",
       "      <td>0.0</td>\n",
       "      <td>0.0</td>\n",
       "      <td>0.0</td>\n",
       "      <td>0.0</td>\n",
       "      <td>0.0</td>\n",
       "      <td>0.0</td>\n",
       "    </tr>\n",
       "    <tr>\n",
       "      <th>Zen and the Art of Motorcycle Maintenance: An Inquiry into Values</th>\n",
       "      <td>0.0</td>\n",
       "      <td>0.0</td>\n",
       "      <td>0.0</td>\n",
       "      <td>0.0</td>\n",
       "      <td>0.0</td>\n",
       "      <td>0.0</td>\n",
       "      <td>0.0</td>\n",
       "      <td>0.0</td>\n",
       "      <td>0.0</td>\n",
       "      <td>0.0</td>\n",
       "      <td>...</td>\n",
       "      <td>0.0</td>\n",
       "      <td>0.0</td>\n",
       "      <td>0.0</td>\n",
       "      <td>0.0</td>\n",
       "      <td>0.0</td>\n",
       "      <td>0.0</td>\n",
       "      <td>0.0</td>\n",
       "      <td>0.0</td>\n",
       "      <td>0.0</td>\n",
       "      <td>0.0</td>\n",
       "    </tr>\n",
       "    <tr>\n",
       "      <th>Zoya</th>\n",
       "      <td>0.0</td>\n",
       "      <td>0.0</td>\n",
       "      <td>0.0</td>\n",
       "      <td>0.0</td>\n",
       "      <td>0.0</td>\n",
       "      <td>0.0</td>\n",
       "      <td>0.0</td>\n",
       "      <td>0.0</td>\n",
       "      <td>0.0</td>\n",
       "      <td>0.0</td>\n",
       "      <td>...</td>\n",
       "      <td>0.0</td>\n",
       "      <td>0.0</td>\n",
       "      <td>0.0</td>\n",
       "      <td>0.0</td>\n",
       "      <td>0.0</td>\n",
       "      <td>0.0</td>\n",
       "      <td>0.0</td>\n",
       "      <td>0.0</td>\n",
       "      <td>0.0</td>\n",
       "      <td>0.0</td>\n",
       "    </tr>\n",
       "    <tr>\n",
       "      <th>\\O\\\" Is for Outlaw\"</th>\n",
       "      <td>0.0</td>\n",
       "      <td>0.0</td>\n",
       "      <td>0.0</td>\n",
       "      <td>0.0</td>\n",
       "      <td>0.0</td>\n",
       "      <td>0.0</td>\n",
       "      <td>0.0</td>\n",
       "      <td>0.0</td>\n",
       "      <td>0.0</td>\n",
       "      <td>8.0</td>\n",
       "      <td>...</td>\n",
       "      <td>0.0</td>\n",
       "      <td>0.0</td>\n",
       "      <td>0.0</td>\n",
       "      <td>0.0</td>\n",
       "      <td>0.0</td>\n",
       "      <td>0.0</td>\n",
       "      <td>0.0</td>\n",
       "      <td>0.0</td>\n",
       "      <td>0.0</td>\n",
       "      <td>0.0</td>\n",
       "    </tr>\n",
       "  </tbody>\n",
       "</table>\n",
       "<p>1350 rows × 2950 columns</p>\n",
       "</div>"
      ],
      "text/plain": [
       "User_ID                                             100088  100264  10030  \\\n",
       "Book_Title                                                                  \n",
       "1984                                                   0.0     0.0    0.0   \n",
       "1st to Die: A Novel                                    0.0     0.0    0.0   \n",
       "2010: Odyssey Two                                      0.0     0.0    0.0   \n",
       "204 Rosewood Lane                                      0.0     0.0    0.0   \n",
       "24 Hours                                               0.0     0.0    0.0   \n",
       "...                                                    ...     ...    ...   \n",
       "Year of Wonders                                        0.0     0.0    0.0   \n",
       "You Belong To Me                                       0.0     0.0   10.0   \n",
       "Zen and the Art of Motorcycle Maintenance: An I...     0.0     0.0    0.0   \n",
       "Zoya                                                   0.0     0.0    0.0   \n",
       "\\O\\\" Is for Outlaw\"                                    0.0     0.0    0.0   \n",
       "\n",
       "User_ID                                             100459  100578  100644  \\\n",
       "Book_Title                                                                   \n",
       "1984                                                   0.0     0.0     0.0   \n",
       "1st to Die: A Novel                                    0.0     0.0     0.0   \n",
       "2010: Odyssey Two                                      0.0     0.0     0.0   \n",
       "204 Rosewood Lane                                      0.0     0.0     0.0   \n",
       "24 Hours                                               0.0     0.0     0.0   \n",
       "...                                                    ...     ...     ...   \n",
       "Year of Wonders                                        0.0     0.0     0.0   \n",
       "You Belong To Me                                       0.0     0.0     0.0   \n",
       "Zen and the Art of Motorcycle Maintenance: An I...     0.0     0.0     0.0   \n",
       "Zoya                                                   0.0     0.0     0.0   \n",
       "\\O\\\" Is for Outlaw\"                                    0.0     0.0     0.0   \n",
       "\n",
       "User_ID                                             10067  100782  100822  \\\n",
       "Book_Title                                                                  \n",
       "1984                                                  0.0     0.0     0.0   \n",
       "1st to Die: A Novel                                   0.0     0.0     0.0   \n",
       "2010: Odyssey Two                                     0.0     0.0     0.0   \n",
       "204 Rosewood Lane                                     0.0     0.0     0.0   \n",
       "24 Hours                                              0.0     0.0     0.0   \n",
       "...                                                   ...     ...     ...   \n",
       "Year of Wonders                                       0.0     0.0     0.0   \n",
       "You Belong To Me                                      0.0     0.0     0.0   \n",
       "Zen and the Art of Motorcycle Maintenance: An I...    0.0     0.0     0.0   \n",
       "Zoya                                                  0.0     0.0     0.0   \n",
       "\\O\\\" Is for Outlaw\"                                   0.0     0.0     0.0   \n",
       "\n",
       "User_ID                                             100846  ...  98930  99032  \\\n",
       "Book_Title                                                  ...                 \n",
       "1984                                                   0.0  ...    0.0    0.0   \n",
       "1st to Die: A Novel                                    0.0  ...    0.0    0.0   \n",
       "2010: Odyssey Two                                      0.0  ...    0.0    0.0   \n",
       "204 Rosewood Lane                                      0.0  ...    0.0    0.0   \n",
       "24 Hours                                               0.0  ...    0.0    0.0   \n",
       "...                                                    ...  ...    ...    ...   \n",
       "Year of Wonders                                        0.0  ...    0.0    0.0   \n",
       "You Belong To Me                                       0.0  ...    0.0    0.0   \n",
       "Zen and the Art of Motorcycle Maintenance: An I...     0.0  ...    0.0    0.0   \n",
       "Zoya                                                   0.0  ...    0.0    0.0   \n",
       "\\O\\\" Is for Outlaw\"                                    8.0  ...    0.0    0.0   \n",
       "\n",
       "User_ID                                             9908  99227  99312  99347  \\\n",
       "Book_Title                                                                      \n",
       "1984                                                 6.0    0.0    0.0    0.0   \n",
       "1st to Die: A Novel                                  0.0    0.0    0.0    0.0   \n",
       "2010: Odyssey Two                                    0.0    0.0    0.0    0.0   \n",
       "204 Rosewood Lane                                    0.0    0.0    0.0    0.0   \n",
       "24 Hours                                             0.0    0.0    0.0    0.0   \n",
       "...                                                  ...    ...    ...    ...   \n",
       "Year of Wonders                                      0.0    0.0    0.0    0.0   \n",
       "You Belong To Me                                     0.0    0.0    0.0    0.0   \n",
       "Zen and the Art of Motorcycle Maintenance: An I...   0.0    0.0    0.0    0.0   \n",
       "Zoya                                                 0.0    0.0    0.0    0.0   \n",
       "\\O\\\" Is for Outlaw\"                                  0.0    0.0    0.0    0.0   \n",
       "\n",
       "User_ID                                             99441  99630  99641  99955  \n",
       "Book_Title                                                                      \n",
       "1984                                                  0.0    0.0    0.0    0.0  \n",
       "1st to Die: A Novel                                   0.0    0.0    0.0    0.0  \n",
       "2010: Odyssey Two                                     0.0    0.0    0.0    0.0  \n",
       "204 Rosewood Lane                                     0.0    0.0    0.0    0.0  \n",
       "24 Hours                                              0.0    0.0    0.0    0.0  \n",
       "...                                                   ...    ...    ...    ...  \n",
       "Year of Wonders                                       0.0    0.0    0.0    0.0  \n",
       "You Belong To Me                                      0.0    0.0    0.0    0.0  \n",
       "Zen and the Art of Motorcycle Maintenance: An I...    0.0    0.0    0.0    0.0  \n",
       "Zoya                                                  0.0    0.0    0.0    0.0  \n",
       "\\O\\\" Is for Outlaw\"                                   0.0    0.0    0.0    0.0  \n",
       "\n",
       "[1350 rows x 2950 columns]"
      ]
     },
     "execution_count": 171,
     "metadata": {},
     "output_type": "execute_result"
    }
   ],
   "source": [
    "pt_content=final.pivot_table( values='Book_Rating',index='Book_Title',columns='User_ID').fillna(0)\n",
    "pt_content"
   ]
  },
  {
   "cell_type": "code",
   "execution_count": 172,
   "id": "a3eb739e",
   "metadata": {
    "ExecuteTime": {
     "end_time": "2022-12-06T19:08:00.627009Z",
     "start_time": "2022-12-06T19:07:59.696475Z"
    }
   },
   "outputs": [],
   "source": [
    "similarity_score = cosine_similarity(pt_content)"
   ]
  },
  {
   "cell_type": "code",
   "execution_count": 173,
   "id": "ae5fd525",
   "metadata": {
    "ExecuteTime": {
     "end_time": "2022-12-06T19:08:16.993021Z",
     "start_time": "2022-12-06T19:08:16.955075Z"
    }
   },
   "outputs": [],
   "source": [
    "def recommend(book_name):\n",
    "    index=np.where(pt_content.index==book_name)[0][0]\n",
    "    similar_items = sorted(list(enumerate(similarity_score[index])),key=lambda x:x[1],reverse=True)[1:10]\n",
    "    data=[]\n",
    "    for i in similar_items:\n",
    "        item=[]\n",
    "        temp_df=books[books['Book-Title']==pt_content.index[i[0]]]\n",
    "        item.extend(list(temp_df.drop_duplicates('Book-Title')['Book-Title'].values))\n",
    "        item.extend(list(temp_df.drop_duplicates('Book-Title')['Book-Author'].values))\n",
    "        item.extend(list(temp_df.drop_duplicates('Book-Title')['Image-URL-M'].values))\n",
    "        \n",
    "        data.append(item)\n",
    "    return data        "
   ]
  },
  {
   "cell_type": "code",
   "execution_count": 175,
   "id": "a2c0d347",
   "metadata": {
    "ExecuteTime": {
     "end_time": "2022-12-06T19:08:57.799618Z",
     "start_time": "2022-12-06T19:08:57.074557Z"
    }
   },
   "outputs": [
    {
     "data": {
      "text/plain": [
       "[['Angels &amp; Demons',\n",
       "  'Dan Brown',\n",
       "  'http://images.amazon.com/images/P/0671027360.01.MZZZZZZZ.jpg'],\n",
       " ['Middlesex: A Novel',\n",
       "  'Jeffrey Eugenides',\n",
       "  'http://images.amazon.com/images/P/0312422156.01.MZZZZZZZ.jpg'],\n",
       " ['The Lovely Bones: A Novel',\n",
       "  'Alice Sebold',\n",
       "  'http://images.amazon.com/images/P/0316666343.01.MZZZZZZZ.jpg'],\n",
       " ['Digital Fortress : A Thriller',\n",
       "  'Dan Brown',\n",
       "  'http://images.amazon.com/images/P/0312995423.01.MZZZZZZZ.jpg'],\n",
       " ['Touching Evil',\n",
       "  'Kay Hooper',\n",
       "  'http://images.amazon.com/images/P/0553583441.01.MZZZZZZZ.jpg'],\n",
       " ['The Secret Life of Bees',\n",
       "  'Sue Monk Kidd',\n",
       "  'http://images.amazon.com/images/P/0142001740.01.MZZZZZZZ.jpg'],\n",
       " ['The Blue Nowhere : A Novel',\n",
       "  'Jeffery Deaver',\n",
       "  'http://images.amazon.com/images/P/0671042262.01.MZZZZZZZ.jpg'],\n",
       " [\"The Sweet Potato Queens' Book of Love\",\n",
       "  'JILL CONNER BROWNE',\n",
       "  'http://images.amazon.com/images/P/0609804138.01.MZZZZZZZ.jpg'],\n",
       " ['Bleachers',\n",
       "  'John Grisham',\n",
       "  'http://images.amazon.com/images/P/0385511612.01.MZZZZZZZ.jpg']]"
      ]
     },
     "execution_count": 175,
     "metadata": {},
     "output_type": "execute_result"
    }
   ],
   "source": [
    "recommend('The Da Vinci Code')\n"
   ]
  },
  {
   "cell_type": "code",
   "execution_count": 177,
   "id": "9ab646b7",
   "metadata": {
    "ExecuteTime": {
     "end_time": "2022-12-06T19:12:53.131469Z",
     "start_time": "2022-12-06T19:12:52.935782Z"
    }
   },
   "outputs": [],
   "source": [
    "import pickle\n",
    "pickle.dump(pt_content,open('pt_content.pkl','wb'))\n",
    "pickle.dump(similarity_score,open('similarity_score.pkl','wb'))"
   ]
  },
  {
   "cell_type": "markdown",
   "id": "e4000f29",
   "metadata": {
    "ExecuteTime": {
     "end_time": "2022-11-09T14:37:15.119226Z",
     "start_time": "2022-11-09T14:37:11.109546Z"
    }
   },
   "source": [
    "pickle.dump(books,open('books.pkl','wb'))"
   ]
  },
  {
   "cell_type": "markdown",
   "id": "1ae298db",
   "metadata": {
    "ExecuteTime": {
     "end_time": "2022-11-09T14:37:20.601474Z",
     "start_time": "2022-11-09T14:37:15.127463Z"
    }
   },
   "source": [
    "pickle.dump(final,open('final.pkl','wb'))"
   ]
  },
  {
   "cell_type": "code",
   "execution_count": null,
   "id": "a0cf7a9b",
   "metadata": {},
   "outputs": [],
   "source": []
  }
 ],
 "metadata": {
  "kernelspec": {
   "display_name": "Python 3 (ipykernel)",
   "language": "python",
   "name": "python3"
  },
  "language_info": {
   "codemirror_mode": {
    "name": "ipython",
    "version": 3
   },
   "file_extension": ".py",
   "mimetype": "text/x-python",
   "name": "python",
   "nbconvert_exporter": "python",
   "pygments_lexer": "ipython3",
   "version": "3.9.12"
  }
 },
 "nbformat": 4,
 "nbformat_minor": 5
}
